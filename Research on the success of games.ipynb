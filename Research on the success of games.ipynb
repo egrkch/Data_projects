{
 "cells": [
  {
   "cell_type": "markdown",
   "id": "b31a6269",
   "metadata": {},
   "source": [
    "# Исследование успешности игр"
   ]
  },
  {
   "cell_type": "markdown",
   "id": "a999b5b0",
   "metadata": {},
   "source": [
    "Из открытых источников доступны исторические данные о продажах игр, оценки пользователей и экспертов, жанры и платформы (например, Xbox или PlayStation). Вам нужно выявить определяющие успешность игры закономерности. Это позволит сделать ставку на потенциально популярный продукт и спланировать рекламные кампании."
   ]
  },
  {
   "cell_type": "markdown",
   "id": "56b429f6",
   "metadata": {},
   "source": [
    "## 1. Откроем файл и изучим общую информацию."
   ]
  },
  {
   "cell_type": "markdown",
   "id": "73950a97",
   "metadata": {},
   "source": [
    "Для этого импортируем необходимые библиотеки"
   ]
  },
  {
   "cell_type": "code",
   "execution_count": 1,
   "id": "f4b6f56d",
   "metadata": {},
   "outputs": [],
   "source": [
    "import pandas as pd\n",
    "import matplotlib.pyplot as plt\n",
    "import seaborn as sns\n",
    "from scipy import stats as st"
   ]
  },
  {
   "cell_type": "markdown",
   "id": "5d16c505",
   "metadata": {},
   "source": [
    "Сохраним данные в переменную df"
   ]
  },
  {
   "cell_type": "code",
   "execution_count": 2,
   "id": "f776fdb9",
   "metadata": {},
   "outputs": [],
   "source": [
    "df = pd.read_csv('https://code.s3.yandex.net/datasets/games.csv')"
   ]
  },
  {
   "cell_type": "markdown",
   "id": "b9c1fbfe",
   "metadata": {},
   "source": [
    "Узнаем общую информацию, характериски и выведем первые 10 строк"
   ]
  },
  {
   "cell_type": "code",
   "execution_count": 3,
   "id": "1c46868c",
   "metadata": {},
   "outputs": [
    {
     "name": "stdout",
     "output_type": "stream",
     "text": [
      "<class 'pandas.core.frame.DataFrame'>\n",
      "RangeIndex: 16715 entries, 0 to 16714\n",
      "Data columns (total 11 columns):\n",
      " #   Column           Non-Null Count  Dtype  \n",
      "---  ------           --------------  -----  \n",
      " 0   Name             16713 non-null  object \n",
      " 1   Platform         16715 non-null  object \n",
      " 2   Year_of_Release  16446 non-null  float64\n",
      " 3   Genre            16713 non-null  object \n",
      " 4   NA_sales         16715 non-null  float64\n",
      " 5   EU_sales         16715 non-null  float64\n",
      " 6   JP_sales         16715 non-null  float64\n",
      " 7   Other_sales      16715 non-null  float64\n",
      " 8   Critic_Score     8137 non-null   float64\n",
      " 9   User_Score       10014 non-null  object \n",
      " 10  Rating           9949 non-null   object \n",
      "dtypes: float64(6), object(5)\n",
      "memory usage: 1.4+ MB\n"
     ]
    }
   ],
   "source": [
    "df.info()"
   ]
  },
  {
   "cell_type": "code",
   "execution_count": 4,
   "id": "1b33ce43",
   "metadata": {},
   "outputs": [
    {
     "data": {
      "text/html": [
       "<div>\n",
       "<style scoped>\n",
       "    .dataframe tbody tr th:only-of-type {\n",
       "        vertical-align: middle;\n",
       "    }\n",
       "\n",
       "    .dataframe tbody tr th {\n",
       "        vertical-align: top;\n",
       "    }\n",
       "\n",
       "    .dataframe thead th {\n",
       "        text-align: right;\n",
       "    }\n",
       "</style>\n",
       "<table border=\"1\" class=\"dataframe\">\n",
       "  <thead>\n",
       "    <tr style=\"text-align: right;\">\n",
       "      <th></th>\n",
       "      <th>Year_of_Release</th>\n",
       "      <th>NA_sales</th>\n",
       "      <th>EU_sales</th>\n",
       "      <th>JP_sales</th>\n",
       "      <th>Other_sales</th>\n",
       "      <th>Critic_Score</th>\n",
       "    </tr>\n",
       "  </thead>\n",
       "  <tbody>\n",
       "    <tr>\n",
       "      <th>count</th>\n",
       "      <td>16446.000000</td>\n",
       "      <td>16715.000000</td>\n",
       "      <td>16715.000000</td>\n",
       "      <td>16715.000000</td>\n",
       "      <td>16715.000000</td>\n",
       "      <td>8137.000000</td>\n",
       "    </tr>\n",
       "    <tr>\n",
       "      <th>mean</th>\n",
       "      <td>2006.484616</td>\n",
       "      <td>0.263377</td>\n",
       "      <td>0.145060</td>\n",
       "      <td>0.077617</td>\n",
       "      <td>0.047342</td>\n",
       "      <td>68.967679</td>\n",
       "    </tr>\n",
       "    <tr>\n",
       "      <th>std</th>\n",
       "      <td>5.877050</td>\n",
       "      <td>0.813604</td>\n",
       "      <td>0.503339</td>\n",
       "      <td>0.308853</td>\n",
       "      <td>0.186731</td>\n",
       "      <td>13.938165</td>\n",
       "    </tr>\n",
       "    <tr>\n",
       "      <th>min</th>\n",
       "      <td>1980.000000</td>\n",
       "      <td>0.000000</td>\n",
       "      <td>0.000000</td>\n",
       "      <td>0.000000</td>\n",
       "      <td>0.000000</td>\n",
       "      <td>13.000000</td>\n",
       "    </tr>\n",
       "    <tr>\n",
       "      <th>25%</th>\n",
       "      <td>2003.000000</td>\n",
       "      <td>0.000000</td>\n",
       "      <td>0.000000</td>\n",
       "      <td>0.000000</td>\n",
       "      <td>0.000000</td>\n",
       "      <td>60.000000</td>\n",
       "    </tr>\n",
       "    <tr>\n",
       "      <th>50%</th>\n",
       "      <td>2007.000000</td>\n",
       "      <td>0.080000</td>\n",
       "      <td>0.020000</td>\n",
       "      <td>0.000000</td>\n",
       "      <td>0.010000</td>\n",
       "      <td>71.000000</td>\n",
       "    </tr>\n",
       "    <tr>\n",
       "      <th>75%</th>\n",
       "      <td>2010.000000</td>\n",
       "      <td>0.240000</td>\n",
       "      <td>0.110000</td>\n",
       "      <td>0.040000</td>\n",
       "      <td>0.030000</td>\n",
       "      <td>79.000000</td>\n",
       "    </tr>\n",
       "    <tr>\n",
       "      <th>max</th>\n",
       "      <td>2016.000000</td>\n",
       "      <td>41.360000</td>\n",
       "      <td>28.960000</td>\n",
       "      <td>10.220000</td>\n",
       "      <td>10.570000</td>\n",
       "      <td>98.000000</td>\n",
       "    </tr>\n",
       "  </tbody>\n",
       "</table>\n",
       "</div>"
      ],
      "text/plain": [
       "       Year_of_Release      NA_sales      EU_sales      JP_sales  \\\n",
       "count     16446.000000  16715.000000  16715.000000  16715.000000   \n",
       "mean       2006.484616      0.263377      0.145060      0.077617   \n",
       "std           5.877050      0.813604      0.503339      0.308853   \n",
       "min        1980.000000      0.000000      0.000000      0.000000   \n",
       "25%        2003.000000      0.000000      0.000000      0.000000   \n",
       "50%        2007.000000      0.080000      0.020000      0.000000   \n",
       "75%        2010.000000      0.240000      0.110000      0.040000   \n",
       "max        2016.000000     41.360000     28.960000     10.220000   \n",
       "\n",
       "        Other_sales  Critic_Score  \n",
       "count  16715.000000   8137.000000  \n",
       "mean       0.047342     68.967679  \n",
       "std        0.186731     13.938165  \n",
       "min        0.000000     13.000000  \n",
       "25%        0.000000     60.000000  \n",
       "50%        0.010000     71.000000  \n",
       "75%        0.030000     79.000000  \n",
       "max       10.570000     98.000000  "
      ]
     },
     "execution_count": 4,
     "metadata": {},
     "output_type": "execute_result"
    }
   ],
   "source": [
    "df.describe()"
   ]
  },
  {
   "cell_type": "code",
   "execution_count": 5,
   "id": "cf142e3b",
   "metadata": {
    "scrolled": false
   },
   "outputs": [
    {
     "data": {
      "text/html": [
       "<div>\n",
       "<style scoped>\n",
       "    .dataframe tbody tr th:only-of-type {\n",
       "        vertical-align: middle;\n",
       "    }\n",
       "\n",
       "    .dataframe tbody tr th {\n",
       "        vertical-align: top;\n",
       "    }\n",
       "\n",
       "    .dataframe thead th {\n",
       "        text-align: right;\n",
       "    }\n",
       "</style>\n",
       "<table border=\"1\" class=\"dataframe\">\n",
       "  <thead>\n",
       "    <tr style=\"text-align: right;\">\n",
       "      <th></th>\n",
       "      <th>Name</th>\n",
       "      <th>Platform</th>\n",
       "      <th>Year_of_Release</th>\n",
       "      <th>Genre</th>\n",
       "      <th>NA_sales</th>\n",
       "      <th>EU_sales</th>\n",
       "      <th>JP_sales</th>\n",
       "      <th>Other_sales</th>\n",
       "      <th>Critic_Score</th>\n",
       "      <th>User_Score</th>\n",
       "      <th>Rating</th>\n",
       "    </tr>\n",
       "  </thead>\n",
       "  <tbody>\n",
       "    <tr>\n",
       "      <th>0</th>\n",
       "      <td>Wii Sports</td>\n",
       "      <td>Wii</td>\n",
       "      <td>2006.0</td>\n",
       "      <td>Sports</td>\n",
       "      <td>41.36</td>\n",
       "      <td>28.96</td>\n",
       "      <td>3.77</td>\n",
       "      <td>8.45</td>\n",
       "      <td>76.0</td>\n",
       "      <td>8</td>\n",
       "      <td>E</td>\n",
       "    </tr>\n",
       "    <tr>\n",
       "      <th>1</th>\n",
       "      <td>Super Mario Bros.</td>\n",
       "      <td>NES</td>\n",
       "      <td>1985.0</td>\n",
       "      <td>Platform</td>\n",
       "      <td>29.08</td>\n",
       "      <td>3.58</td>\n",
       "      <td>6.81</td>\n",
       "      <td>0.77</td>\n",
       "      <td>NaN</td>\n",
       "      <td>NaN</td>\n",
       "      <td>NaN</td>\n",
       "    </tr>\n",
       "    <tr>\n",
       "      <th>2</th>\n",
       "      <td>Mario Kart Wii</td>\n",
       "      <td>Wii</td>\n",
       "      <td>2008.0</td>\n",
       "      <td>Racing</td>\n",
       "      <td>15.68</td>\n",
       "      <td>12.76</td>\n",
       "      <td>3.79</td>\n",
       "      <td>3.29</td>\n",
       "      <td>82.0</td>\n",
       "      <td>8.3</td>\n",
       "      <td>E</td>\n",
       "    </tr>\n",
       "    <tr>\n",
       "      <th>3</th>\n",
       "      <td>Wii Sports Resort</td>\n",
       "      <td>Wii</td>\n",
       "      <td>2009.0</td>\n",
       "      <td>Sports</td>\n",
       "      <td>15.61</td>\n",
       "      <td>10.93</td>\n",
       "      <td>3.28</td>\n",
       "      <td>2.95</td>\n",
       "      <td>80.0</td>\n",
       "      <td>8</td>\n",
       "      <td>E</td>\n",
       "    </tr>\n",
       "    <tr>\n",
       "      <th>4</th>\n",
       "      <td>Pokemon Red/Pokemon Blue</td>\n",
       "      <td>GB</td>\n",
       "      <td>1996.0</td>\n",
       "      <td>Role-Playing</td>\n",
       "      <td>11.27</td>\n",
       "      <td>8.89</td>\n",
       "      <td>10.22</td>\n",
       "      <td>1.00</td>\n",
       "      <td>NaN</td>\n",
       "      <td>NaN</td>\n",
       "      <td>NaN</td>\n",
       "    </tr>\n",
       "    <tr>\n",
       "      <th>5</th>\n",
       "      <td>Tetris</td>\n",
       "      <td>GB</td>\n",
       "      <td>1989.0</td>\n",
       "      <td>Puzzle</td>\n",
       "      <td>23.20</td>\n",
       "      <td>2.26</td>\n",
       "      <td>4.22</td>\n",
       "      <td>0.58</td>\n",
       "      <td>NaN</td>\n",
       "      <td>NaN</td>\n",
       "      <td>NaN</td>\n",
       "    </tr>\n",
       "    <tr>\n",
       "      <th>6</th>\n",
       "      <td>New Super Mario Bros.</td>\n",
       "      <td>DS</td>\n",
       "      <td>2006.0</td>\n",
       "      <td>Platform</td>\n",
       "      <td>11.28</td>\n",
       "      <td>9.14</td>\n",
       "      <td>6.50</td>\n",
       "      <td>2.88</td>\n",
       "      <td>89.0</td>\n",
       "      <td>8.5</td>\n",
       "      <td>E</td>\n",
       "    </tr>\n",
       "    <tr>\n",
       "      <th>7</th>\n",
       "      <td>Wii Play</td>\n",
       "      <td>Wii</td>\n",
       "      <td>2006.0</td>\n",
       "      <td>Misc</td>\n",
       "      <td>13.96</td>\n",
       "      <td>9.18</td>\n",
       "      <td>2.93</td>\n",
       "      <td>2.84</td>\n",
       "      <td>58.0</td>\n",
       "      <td>6.6</td>\n",
       "      <td>E</td>\n",
       "    </tr>\n",
       "    <tr>\n",
       "      <th>8</th>\n",
       "      <td>New Super Mario Bros. Wii</td>\n",
       "      <td>Wii</td>\n",
       "      <td>2009.0</td>\n",
       "      <td>Platform</td>\n",
       "      <td>14.44</td>\n",
       "      <td>6.94</td>\n",
       "      <td>4.70</td>\n",
       "      <td>2.24</td>\n",
       "      <td>87.0</td>\n",
       "      <td>8.4</td>\n",
       "      <td>E</td>\n",
       "    </tr>\n",
       "    <tr>\n",
       "      <th>9</th>\n",
       "      <td>Duck Hunt</td>\n",
       "      <td>NES</td>\n",
       "      <td>1984.0</td>\n",
       "      <td>Shooter</td>\n",
       "      <td>26.93</td>\n",
       "      <td>0.63</td>\n",
       "      <td>0.28</td>\n",
       "      <td>0.47</td>\n",
       "      <td>NaN</td>\n",
       "      <td>NaN</td>\n",
       "      <td>NaN</td>\n",
       "    </tr>\n",
       "  </tbody>\n",
       "</table>\n",
       "</div>"
      ],
      "text/plain": [
       "                        Name Platform  Year_of_Release         Genre  \\\n",
       "0                 Wii Sports      Wii           2006.0        Sports   \n",
       "1          Super Mario Bros.      NES           1985.0      Platform   \n",
       "2             Mario Kart Wii      Wii           2008.0        Racing   \n",
       "3          Wii Sports Resort      Wii           2009.0        Sports   \n",
       "4   Pokemon Red/Pokemon Blue       GB           1996.0  Role-Playing   \n",
       "5                     Tetris       GB           1989.0        Puzzle   \n",
       "6      New Super Mario Bros.       DS           2006.0      Platform   \n",
       "7                   Wii Play      Wii           2006.0          Misc   \n",
       "8  New Super Mario Bros. Wii      Wii           2009.0      Platform   \n",
       "9                  Duck Hunt      NES           1984.0       Shooter   \n",
       "\n",
       "   NA_sales  EU_sales  JP_sales  Other_sales  Critic_Score User_Score Rating  \n",
       "0     41.36     28.96      3.77         8.45          76.0          8      E  \n",
       "1     29.08      3.58      6.81         0.77           NaN        NaN    NaN  \n",
       "2     15.68     12.76      3.79         3.29          82.0        8.3      E  \n",
       "3     15.61     10.93      3.28         2.95          80.0          8      E  \n",
       "4     11.27      8.89     10.22         1.00           NaN        NaN    NaN  \n",
       "5     23.20      2.26      4.22         0.58           NaN        NaN    NaN  \n",
       "6     11.28      9.14      6.50         2.88          89.0        8.5      E  \n",
       "7     13.96      9.18      2.93         2.84          58.0        6.6      E  \n",
       "8     14.44      6.94      4.70         2.24          87.0        8.4      E  \n",
       "9     26.93      0.63      0.28         0.47           NaN        NaN    NaN  "
      ]
     },
     "execution_count": 5,
     "metadata": {},
     "output_type": "execute_result"
    }
   ],
   "source": [
    "df.head(10)"
   ]
  },
  {
   "cell_type": "markdown",
   "id": "c8333074",
   "metadata": {},
   "source": [
    "В данных есть пропуски в некоторых столбцах. Так же есть необходимо изменить типы данных, скорректировать названия."
   ]
  },
  {
   "cell_type": "markdown",
   "id": "db60251a",
   "metadata": {},
   "source": [
    "## 2. Подготовим данные"
   ]
  },
  {
   "cell_type": "markdown",
   "id": "bb7cb23e",
   "metadata": {},
   "source": [
    "- **Заменим названия столбцов, приведём их к нижнему регистру.**"
   ]
  },
  {
   "cell_type": "code",
   "execution_count": 3,
   "id": "7e1eda18",
   "metadata": {},
   "outputs": [],
   "source": [
    "#Примаеним lower к колонкам\n",
    "\n",
    "df.columns = df.columns.str.lower()"
   ]
  },
  {
   "cell_type": "code",
   "execution_count": 4,
   "id": "e4b450ad",
   "metadata": {},
   "outputs": [
    {
     "name": "stdout",
     "output_type": "stream",
     "text": [
      "<class 'pandas.core.frame.DataFrame'>\n",
      "RangeIndex: 16715 entries, 0 to 16714\n",
      "Data columns (total 11 columns):\n",
      " #   Column           Non-Null Count  Dtype  \n",
      "---  ------           --------------  -----  \n",
      " 0   name             16713 non-null  object \n",
      " 1   platform         16715 non-null  object \n",
      " 2   year_of_release  16446 non-null  float64\n",
      " 3   genre            16713 non-null  object \n",
      " 4   na_sales         16715 non-null  float64\n",
      " 5   eu_sales         16715 non-null  float64\n",
      " 6   jp_sales         16715 non-null  float64\n",
      " 7   other_sales      16715 non-null  float64\n",
      " 8   critic_score     8137 non-null   float64\n",
      " 9   user_score       10014 non-null  object \n",
      " 10  rating           9949 non-null   object \n",
      "dtypes: float64(6), object(5)\n",
      "memory usage: 1.4+ MB\n"
     ]
    }
   ],
   "source": [
    "#Проверим\n",
    "\n",
    "df.info()"
   ]
  },
  {
   "cell_type": "markdown",
   "id": "bc02da1e",
   "metadata": {},
   "source": [
    "- **Рассмотрим пропуски.**"
   ]
  },
  {
   "cell_type": "code",
   "execution_count": 6,
   "id": "31202815",
   "metadata": {
    "scrolled": false
   },
   "outputs": [
    {
     "name": "stderr",
     "output_type": "stream",
     "text": [
      "C:\\Users\\GRKCH\\AppData\\Local\\Temp\\ipykernel_6500\\3346166439.py:1: FutureWarning: this method is deprecated in favour of `Styler.format(precision=..)`\n",
      "  pd.DataFrame(df.isna().mean()*100).style.set_precision(2).background_gradient('coolwarm')\n"
     ]
    },
    {
     "data": {
      "text/html": [
       "<style type=\"text/css\">\n",
       "#T_34a18_row0_col0, #T_34a18_row1_col0, #T_34a18_row3_col0, #T_34a18_row4_col0, #T_34a18_row5_col0, #T_34a18_row6_col0, #T_34a18_row7_col0 {\n",
       "  background-color: #3b4cc0;\n",
       "  color: #f1f1f1;\n",
       "}\n",
       "#T_34a18_row2_col0 {\n",
       "  background-color: #445acc;\n",
       "  color: #f1f1f1;\n",
       "}\n",
       "#T_34a18_row8_col0 {\n",
       "  background-color: #b40426;\n",
       "  color: #f1f1f1;\n",
       "}\n",
       "#T_34a18_row9_col0 {\n",
       "  background-color: #f18d6f;\n",
       "  color: #f1f1f1;\n",
       "}\n",
       "#T_34a18_row10_col0 {\n",
       "  background-color: #f08a6c;\n",
       "  color: #f1f1f1;\n",
       "}\n",
       "</style>\n",
       "<table id=\"T_34a18\">\n",
       "  <thead>\n",
       "    <tr>\n",
       "      <th class=\"blank level0\" >&nbsp;</th>\n",
       "      <th id=\"T_34a18_level0_col0\" class=\"col_heading level0 col0\" >0</th>\n",
       "    </tr>\n",
       "  </thead>\n",
       "  <tbody>\n",
       "    <tr>\n",
       "      <th id=\"T_34a18_level0_row0\" class=\"row_heading level0 row0\" >name</th>\n",
       "      <td id=\"T_34a18_row0_col0\" class=\"data row0 col0\" >0.01</td>\n",
       "    </tr>\n",
       "    <tr>\n",
       "      <th id=\"T_34a18_level0_row1\" class=\"row_heading level0 row1\" >platform</th>\n",
       "      <td id=\"T_34a18_row1_col0\" class=\"data row1 col0\" >0.00</td>\n",
       "    </tr>\n",
       "    <tr>\n",
       "      <th id=\"T_34a18_level0_row2\" class=\"row_heading level0 row2\" >year_of_release</th>\n",
       "      <td id=\"T_34a18_row2_col0\" class=\"data row2 col0\" >1.61</td>\n",
       "    </tr>\n",
       "    <tr>\n",
       "      <th id=\"T_34a18_level0_row3\" class=\"row_heading level0 row3\" >genre</th>\n",
       "      <td id=\"T_34a18_row3_col0\" class=\"data row3 col0\" >0.01</td>\n",
       "    </tr>\n",
       "    <tr>\n",
       "      <th id=\"T_34a18_level0_row4\" class=\"row_heading level0 row4\" >na_sales</th>\n",
       "      <td id=\"T_34a18_row4_col0\" class=\"data row4 col0\" >0.00</td>\n",
       "    </tr>\n",
       "    <tr>\n",
       "      <th id=\"T_34a18_level0_row5\" class=\"row_heading level0 row5\" >eu_sales</th>\n",
       "      <td id=\"T_34a18_row5_col0\" class=\"data row5 col0\" >0.00</td>\n",
       "    </tr>\n",
       "    <tr>\n",
       "      <th id=\"T_34a18_level0_row6\" class=\"row_heading level0 row6\" >jp_sales</th>\n",
       "      <td id=\"T_34a18_row6_col0\" class=\"data row6 col0\" >0.00</td>\n",
       "    </tr>\n",
       "    <tr>\n",
       "      <th id=\"T_34a18_level0_row7\" class=\"row_heading level0 row7\" >other_sales</th>\n",
       "      <td id=\"T_34a18_row7_col0\" class=\"data row7 col0\" >0.00</td>\n",
       "    </tr>\n",
       "    <tr>\n",
       "      <th id=\"T_34a18_level0_row8\" class=\"row_heading level0 row8\" >critic_score</th>\n",
       "      <td id=\"T_34a18_row8_col0\" class=\"data row8 col0\" >51.32</td>\n",
       "    </tr>\n",
       "    <tr>\n",
       "      <th id=\"T_34a18_level0_row9\" class=\"row_heading level0 row9\" >user_score</th>\n",
       "      <td id=\"T_34a18_row9_col0\" class=\"data row9 col0\" >40.09</td>\n",
       "    </tr>\n",
       "    <tr>\n",
       "      <th id=\"T_34a18_level0_row10\" class=\"row_heading level0 row10\" >rating</th>\n",
       "      <td id=\"T_34a18_row10_col0\" class=\"data row10 col0\" >40.48</td>\n",
       "    </tr>\n",
       "  </tbody>\n",
       "</table>\n"
      ],
      "text/plain": [
       "<pandas.io.formats.style.Styler at 0x1429795f370>"
      ]
     },
     "execution_count": 6,
     "metadata": {},
     "output_type": "execute_result"
    }
   ],
   "source": [
    "pd.DataFrame(df.isna().mean()*100).style.set_precision(2).background_gradient('coolwarm')"
   ]
  },
  {
   "cell_type": "markdown",
   "id": "59253d02",
   "metadata": {},
   "source": [
    "Пропуски в столбце name удалим, их всего 2."
   ]
  },
  {
   "cell_type": "code",
   "execution_count": 7,
   "id": "6ff3e0d4",
   "metadata": {},
   "outputs": [],
   "source": [
    "# КОД РЕВЬЮЕРА subset='name' --> subset=['name'] \n",
    "df.dropna(subset=['name'], inplace=True, axis=0)"
   ]
  },
  {
   "cell_type": "code",
   "execution_count": 8,
   "id": "6ca1dae9",
   "metadata": {},
   "outputs": [
    {
     "name": "stdout",
     "output_type": "stream",
     "text": [
      "name                  0\n",
      "platform              0\n",
      "year_of_release     269\n",
      "genre                 0\n",
      "na_sales              0\n",
      "eu_sales              0\n",
      "jp_sales              0\n",
      "other_sales           0\n",
      "critic_score       8576\n",
      "user_score         6699\n",
      "rating             6764\n",
      "dtype: int64\n"
     ]
    }
   ],
   "source": [
    "print(df.isna().sum())"
   ]
  },
  {
   "cell_type": "markdown",
   "id": "34f8dced",
   "metadata": {},
   "source": [
    "Пропуски были в одинаковых строках, в столбах имени и жанра игры."
   ]
  },
  {
   "cell_type": "markdown",
   "id": "e9065dc8",
   "metadata": {},
   "source": [
    "В столбце с датами тоже есть пропуски, их не очень много. Наше исследование сильно привязано к датам, поэтому думаю будет лучше удалить эти строки."
   ]
  },
  {
   "cell_type": "code",
   "execution_count": 9,
   "id": "6794b011",
   "metadata": {},
   "outputs": [],
   "source": [
    "# КОД РЕВЬЮЕРА subset='year_of_release' --> subset=['year_of_release'] \n",
    "\n",
    "df.dropna(subset=['year_of_release'], inplace=True, axis=0)"
   ]
  },
  {
   "cell_type": "markdown",
   "id": "82656cd7",
   "metadata": {},
   "source": [
    "Рассмотрим пропуски, связанные с продажами."
   ]
  },
  {
   "cell_type": "code",
   "execution_count": 10,
   "id": "976c0037",
   "metadata": {},
   "outputs": [],
   "source": [
    "#Создадим новый столбец с суммой продаж\n",
    "\n",
    "df['sum_sales'] = df['na_sales'] + df['eu_sales'] + df['jp_sales'] + df['other_sales']"
   ]
  },
  {
   "cell_type": "markdown",
   "id": "c7a6d522",
   "metadata": {},
   "source": [
    "Найдём строки, где нет продаж и удалим их."
   ]
  },
  {
   "cell_type": "code",
   "execution_count": 11,
   "id": "7a60af08",
   "metadata": {},
   "outputs": [
    {
     "data": {
      "text/html": [
       "<div>\n",
       "<style scoped>\n",
       "    .dataframe tbody tr th:only-of-type {\n",
       "        vertical-align: middle;\n",
       "    }\n",
       "\n",
       "    .dataframe tbody tr th {\n",
       "        vertical-align: top;\n",
       "    }\n",
       "\n",
       "    .dataframe thead th {\n",
       "        text-align: right;\n",
       "    }\n",
       "</style>\n",
       "<table border=\"1\" class=\"dataframe\">\n",
       "  <thead>\n",
       "    <tr style=\"text-align: right;\">\n",
       "      <th></th>\n",
       "      <th>name</th>\n",
       "      <th>platform</th>\n",
       "      <th>year_of_release</th>\n",
       "      <th>genre</th>\n",
       "      <th>na_sales</th>\n",
       "      <th>eu_sales</th>\n",
       "      <th>jp_sales</th>\n",
       "      <th>other_sales</th>\n",
       "      <th>critic_score</th>\n",
       "      <th>user_score</th>\n",
       "      <th>rating</th>\n",
       "      <th>sum_sales</th>\n",
       "    </tr>\n",
       "  </thead>\n",
       "  <tbody>\n",
       "    <tr>\n",
       "      <th>16676</th>\n",
       "      <td>G1 Jockey 4 2008</td>\n",
       "      <td>PS3</td>\n",
       "      <td>2008.0</td>\n",
       "      <td>Sports</td>\n",
       "      <td>0.0</td>\n",
       "      <td>0.0</td>\n",
       "      <td>0.0</td>\n",
       "      <td>0.0</td>\n",
       "      <td>NaN</td>\n",
       "      <td>NaN</td>\n",
       "      <td>NaN</td>\n",
       "      <td>0.0</td>\n",
       "    </tr>\n",
       "    <tr>\n",
       "      <th>16709</th>\n",
       "      <td>SCORE International Baja 1000: The Official Game</td>\n",
       "      <td>PS2</td>\n",
       "      <td>2008.0</td>\n",
       "      <td>Racing</td>\n",
       "      <td>0.0</td>\n",
       "      <td>0.0</td>\n",
       "      <td>0.0</td>\n",
       "      <td>0.0</td>\n",
       "      <td>NaN</td>\n",
       "      <td>NaN</td>\n",
       "      <td>NaN</td>\n",
       "      <td>0.0</td>\n",
       "    </tr>\n",
       "  </tbody>\n",
       "</table>\n",
       "</div>"
      ],
      "text/plain": [
       "                                                   name platform  \\\n",
       "16676                                  G1 Jockey 4 2008      PS3   \n",
       "16709  SCORE International Baja 1000: The Official Game      PS2   \n",
       "\n",
       "       year_of_release   genre  na_sales  eu_sales  jp_sales  other_sales  \\\n",
       "16676           2008.0  Sports       0.0       0.0       0.0          0.0   \n",
       "16709           2008.0  Racing       0.0       0.0       0.0          0.0   \n",
       "\n",
       "       critic_score user_score rating  sum_sales  \n",
       "16676           NaN        NaN    NaN        0.0  \n",
       "16709           NaN        NaN    NaN        0.0  "
      ]
     },
     "execution_count": 11,
     "metadata": {},
     "output_type": "execute_result"
    }
   ],
   "source": [
    "df.loc[df['sum_sales'] == 0]"
   ]
  },
  {
   "cell_type": "code",
   "execution_count": 12,
   "id": "1a2ffa38",
   "metadata": {},
   "outputs": [],
   "source": [
    "df.drop(index=[16676, 16709], axis=0, inplace=True)"
   ]
  },
  {
   "cell_type": "markdown",
   "id": "ca8b9159",
   "metadata": {},
   "source": [
    "Рассмотрим пропуски в столбцах **critic_score** и **user_score**."
   ]
  },
  {
   "cell_type": "code",
   "execution_count": 13,
   "id": "0433a0e7",
   "metadata": {
    "scrolled": false
   },
   "outputs": [
    {
     "data": {
      "text/html": [
       "<div>\n",
       "<style scoped>\n",
       "    .dataframe tbody tr th:only-of-type {\n",
       "        vertical-align: middle;\n",
       "    }\n",
       "\n",
       "    .dataframe tbody tr th {\n",
       "        vertical-align: top;\n",
       "    }\n",
       "\n",
       "    .dataframe thead th {\n",
       "        text-align: right;\n",
       "    }\n",
       "</style>\n",
       "<table border=\"1\" class=\"dataframe\">\n",
       "  <thead>\n",
       "    <tr style=\"text-align: right;\">\n",
       "      <th></th>\n",
       "      <th>name</th>\n",
       "      <th>platform</th>\n",
       "      <th>year_of_release</th>\n",
       "      <th>genre</th>\n",
       "      <th>na_sales</th>\n",
       "      <th>eu_sales</th>\n",
       "      <th>jp_sales</th>\n",
       "      <th>other_sales</th>\n",
       "      <th>critic_score</th>\n",
       "      <th>user_score</th>\n",
       "      <th>rating</th>\n",
       "      <th>sum_sales</th>\n",
       "    </tr>\n",
       "  </thead>\n",
       "  <tbody>\n",
       "    <tr>\n",
       "      <th>1</th>\n",
       "      <td>Super Mario Bros.</td>\n",
       "      <td>NES</td>\n",
       "      <td>1985.0</td>\n",
       "      <td>Platform</td>\n",
       "      <td>29.08</td>\n",
       "      <td>3.58</td>\n",
       "      <td>6.81</td>\n",
       "      <td>0.77</td>\n",
       "      <td>NaN</td>\n",
       "      <td>NaN</td>\n",
       "      <td>NaN</td>\n",
       "      <td>40.24</td>\n",
       "    </tr>\n",
       "    <tr>\n",
       "      <th>4</th>\n",
       "      <td>Pokemon Red/Pokemon Blue</td>\n",
       "      <td>GB</td>\n",
       "      <td>1996.0</td>\n",
       "      <td>Role-Playing</td>\n",
       "      <td>11.27</td>\n",
       "      <td>8.89</td>\n",
       "      <td>10.22</td>\n",
       "      <td>1.00</td>\n",
       "      <td>NaN</td>\n",
       "      <td>NaN</td>\n",
       "      <td>NaN</td>\n",
       "      <td>31.38</td>\n",
       "    </tr>\n",
       "    <tr>\n",
       "      <th>5</th>\n",
       "      <td>Tetris</td>\n",
       "      <td>GB</td>\n",
       "      <td>1989.0</td>\n",
       "      <td>Puzzle</td>\n",
       "      <td>23.20</td>\n",
       "      <td>2.26</td>\n",
       "      <td>4.22</td>\n",
       "      <td>0.58</td>\n",
       "      <td>NaN</td>\n",
       "      <td>NaN</td>\n",
       "      <td>NaN</td>\n",
       "      <td>30.26</td>\n",
       "    </tr>\n",
       "    <tr>\n",
       "      <th>9</th>\n",
       "      <td>Duck Hunt</td>\n",
       "      <td>NES</td>\n",
       "      <td>1984.0</td>\n",
       "      <td>Shooter</td>\n",
       "      <td>26.93</td>\n",
       "      <td>0.63</td>\n",
       "      <td>0.28</td>\n",
       "      <td>0.47</td>\n",
       "      <td>NaN</td>\n",
       "      <td>NaN</td>\n",
       "      <td>NaN</td>\n",
       "      <td>28.31</td>\n",
       "    </tr>\n",
       "    <tr>\n",
       "      <th>10</th>\n",
       "      <td>Nintendogs</td>\n",
       "      <td>DS</td>\n",
       "      <td>2005.0</td>\n",
       "      <td>Simulation</td>\n",
       "      <td>9.05</td>\n",
       "      <td>10.95</td>\n",
       "      <td>1.93</td>\n",
       "      <td>2.74</td>\n",
       "      <td>NaN</td>\n",
       "      <td>NaN</td>\n",
       "      <td>NaN</td>\n",
       "      <td>24.67</td>\n",
       "    </tr>\n",
       "    <tr>\n",
       "      <th>...</th>\n",
       "      <td>...</td>\n",
       "      <td>...</td>\n",
       "      <td>...</td>\n",
       "      <td>...</td>\n",
       "      <td>...</td>\n",
       "      <td>...</td>\n",
       "      <td>...</td>\n",
       "      <td>...</td>\n",
       "      <td>...</td>\n",
       "      <td>...</td>\n",
       "      <td>...</td>\n",
       "      <td>...</td>\n",
       "    </tr>\n",
       "    <tr>\n",
       "      <th>16710</th>\n",
       "      <td>Samurai Warriors: Sanada Maru</td>\n",
       "      <td>PS3</td>\n",
       "      <td>2016.0</td>\n",
       "      <td>Action</td>\n",
       "      <td>0.00</td>\n",
       "      <td>0.00</td>\n",
       "      <td>0.01</td>\n",
       "      <td>0.00</td>\n",
       "      <td>NaN</td>\n",
       "      <td>NaN</td>\n",
       "      <td>NaN</td>\n",
       "      <td>0.01</td>\n",
       "    </tr>\n",
       "    <tr>\n",
       "      <th>16711</th>\n",
       "      <td>LMA Manager 2007</td>\n",
       "      <td>X360</td>\n",
       "      <td>2006.0</td>\n",
       "      <td>Sports</td>\n",
       "      <td>0.00</td>\n",
       "      <td>0.01</td>\n",
       "      <td>0.00</td>\n",
       "      <td>0.00</td>\n",
       "      <td>NaN</td>\n",
       "      <td>NaN</td>\n",
       "      <td>NaN</td>\n",
       "      <td>0.01</td>\n",
       "    </tr>\n",
       "    <tr>\n",
       "      <th>16712</th>\n",
       "      <td>Haitaka no Psychedelica</td>\n",
       "      <td>PSV</td>\n",
       "      <td>2016.0</td>\n",
       "      <td>Adventure</td>\n",
       "      <td>0.00</td>\n",
       "      <td>0.00</td>\n",
       "      <td>0.01</td>\n",
       "      <td>0.00</td>\n",
       "      <td>NaN</td>\n",
       "      <td>NaN</td>\n",
       "      <td>NaN</td>\n",
       "      <td>0.01</td>\n",
       "    </tr>\n",
       "    <tr>\n",
       "      <th>16713</th>\n",
       "      <td>Spirits &amp; Spells</td>\n",
       "      <td>GBA</td>\n",
       "      <td>2003.0</td>\n",
       "      <td>Platform</td>\n",
       "      <td>0.01</td>\n",
       "      <td>0.00</td>\n",
       "      <td>0.00</td>\n",
       "      <td>0.00</td>\n",
       "      <td>NaN</td>\n",
       "      <td>NaN</td>\n",
       "      <td>NaN</td>\n",
       "      <td>0.01</td>\n",
       "    </tr>\n",
       "    <tr>\n",
       "      <th>16714</th>\n",
       "      <td>Winning Post 8 2016</td>\n",
       "      <td>PSV</td>\n",
       "      <td>2016.0</td>\n",
       "      <td>Simulation</td>\n",
       "      <td>0.00</td>\n",
       "      <td>0.00</td>\n",
       "      <td>0.01</td>\n",
       "      <td>0.00</td>\n",
       "      <td>NaN</td>\n",
       "      <td>NaN</td>\n",
       "      <td>NaN</td>\n",
       "      <td>0.01</td>\n",
       "    </tr>\n",
       "  </tbody>\n",
       "</table>\n",
       "<p>6570 rows × 12 columns</p>\n",
       "</div>"
      ],
      "text/plain": [
       "                                name platform  year_of_release         genre  \\\n",
       "1                  Super Mario Bros.      NES           1985.0      Platform   \n",
       "4           Pokemon Red/Pokemon Blue       GB           1996.0  Role-Playing   \n",
       "5                             Tetris       GB           1989.0        Puzzle   \n",
       "9                          Duck Hunt      NES           1984.0       Shooter   \n",
       "10                        Nintendogs       DS           2005.0    Simulation   \n",
       "...                              ...      ...              ...           ...   \n",
       "16710  Samurai Warriors: Sanada Maru      PS3           2016.0        Action   \n",
       "16711               LMA Manager 2007     X360           2006.0        Sports   \n",
       "16712        Haitaka no Psychedelica      PSV           2016.0     Adventure   \n",
       "16713               Spirits & Spells      GBA           2003.0      Platform   \n",
       "16714            Winning Post 8 2016      PSV           2016.0    Simulation   \n",
       "\n",
       "       na_sales  eu_sales  jp_sales  other_sales  critic_score user_score  \\\n",
       "1         29.08      3.58      6.81         0.77           NaN        NaN   \n",
       "4         11.27      8.89     10.22         1.00           NaN        NaN   \n",
       "5         23.20      2.26      4.22         0.58           NaN        NaN   \n",
       "9         26.93      0.63      0.28         0.47           NaN        NaN   \n",
       "10         9.05     10.95      1.93         2.74           NaN        NaN   \n",
       "...         ...       ...       ...          ...           ...        ...   \n",
       "16710      0.00      0.00      0.01         0.00           NaN        NaN   \n",
       "16711      0.00      0.01      0.00         0.00           NaN        NaN   \n",
       "16712      0.00      0.00      0.01         0.00           NaN        NaN   \n",
       "16713      0.01      0.00      0.00         0.00           NaN        NaN   \n",
       "16714      0.00      0.00      0.01         0.00           NaN        NaN   \n",
       "\n",
       "      rating  sum_sales  \n",
       "1        NaN      40.24  \n",
       "4        NaN      31.38  \n",
       "5        NaN      30.26  \n",
       "9        NaN      28.31  \n",
       "10       NaN      24.67  \n",
       "...      ...        ...  \n",
       "16710    NaN       0.01  \n",
       "16711    NaN       0.01  \n",
       "16712    NaN       0.01  \n",
       "16713    NaN       0.01  \n",
       "16714    NaN       0.01  \n",
       "\n",
       "[6570 rows x 12 columns]"
      ]
     },
     "execution_count": 13,
     "metadata": {},
     "output_type": "execute_result"
    }
   ],
   "source": [
    "df.loc[(df['critic_score'].isna()==True)&(df['user_score'].isna()==True)]"
   ]
  },
  {
   "cell_type": "markdown",
   "id": "70ab9005",
   "metadata": {},
   "source": [
    "Эти пропуски сложно объяснить логически, вероятно, это ошибка при выгрузке данных. Так же возможно игры с маленьким числом продаж просто не были оценены."
   ]
  },
  {
   "cell_type": "markdown",
   "id": "2ab1f92f",
   "metadata": {},
   "source": [
    "Пропуски не сильно зависят от продаж, года выпуска и платформы. Заполним их несуществующим у нас значением, чтобы можно было без ограничений анализировать эти данные."
   ]
  },
  {
   "cell_type": "code",
   "execution_count": 16,
   "id": "b2f5600f",
   "metadata": {},
   "outputs": [],
   "source": [
    "df['critic_score'] = df['critic_score'].fillna(0)\n",
    "df['user_score'] = df['user_score'].fillna(0)"
   ]
  },
  {
   "cell_type": "markdown",
   "id": "c1f0d081",
   "metadata": {},
   "source": [
    "- **Рассмотрим значение 'tbd' в столбце рейтинга.**"
   ]
  },
  {
   "cell_type": "code",
   "execution_count": 14,
   "id": "034e82af",
   "metadata": {},
   "outputs": [
    {
     "data": {
      "text/html": [
       "<div>\n",
       "<style scoped>\n",
       "    .dataframe tbody tr th:only-of-type {\n",
       "        vertical-align: middle;\n",
       "    }\n",
       "\n",
       "    .dataframe tbody tr th {\n",
       "        vertical-align: top;\n",
       "    }\n",
       "\n",
       "    .dataframe thead th {\n",
       "        text-align: right;\n",
       "    }\n",
       "</style>\n",
       "<table border=\"1\" class=\"dataframe\">\n",
       "  <thead>\n",
       "    <tr style=\"text-align: right;\">\n",
       "      <th></th>\n",
       "      <th>name</th>\n",
       "      <th>platform</th>\n",
       "      <th>year_of_release</th>\n",
       "      <th>genre</th>\n",
       "      <th>na_sales</th>\n",
       "      <th>eu_sales</th>\n",
       "      <th>jp_sales</th>\n",
       "      <th>other_sales</th>\n",
       "      <th>critic_score</th>\n",
       "      <th>user_score</th>\n",
       "      <th>rating</th>\n",
       "      <th>sum_sales</th>\n",
       "    </tr>\n",
       "  </thead>\n",
       "  <tbody>\n",
       "    <tr>\n",
       "      <th>119</th>\n",
       "      <td>Zumba Fitness</td>\n",
       "      <td>Wii</td>\n",
       "      <td>2010.0</td>\n",
       "      <td>Sports</td>\n",
       "      <td>3.45</td>\n",
       "      <td>2.59</td>\n",
       "      <td>0.0</td>\n",
       "      <td>0.66</td>\n",
       "      <td>NaN</td>\n",
       "      <td>tbd</td>\n",
       "      <td>E</td>\n",
       "      <td>6.70</td>\n",
       "    </tr>\n",
       "    <tr>\n",
       "      <th>301</th>\n",
       "      <td>Namco Museum: 50th Anniversary</td>\n",
       "      <td>PS2</td>\n",
       "      <td>2005.0</td>\n",
       "      <td>Misc</td>\n",
       "      <td>2.08</td>\n",
       "      <td>1.35</td>\n",
       "      <td>0.0</td>\n",
       "      <td>0.54</td>\n",
       "      <td>61.0</td>\n",
       "      <td>tbd</td>\n",
       "      <td>E10+</td>\n",
       "      <td>3.97</td>\n",
       "    </tr>\n",
       "    <tr>\n",
       "      <th>520</th>\n",
       "      <td>Zumba Fitness 2</td>\n",
       "      <td>Wii</td>\n",
       "      <td>2011.0</td>\n",
       "      <td>Sports</td>\n",
       "      <td>1.51</td>\n",
       "      <td>1.03</td>\n",
       "      <td>0.0</td>\n",
       "      <td>0.27</td>\n",
       "      <td>NaN</td>\n",
       "      <td>tbd</td>\n",
       "      <td>T</td>\n",
       "      <td>2.81</td>\n",
       "    </tr>\n",
       "    <tr>\n",
       "      <th>645</th>\n",
       "      <td>uDraw Studio</td>\n",
       "      <td>Wii</td>\n",
       "      <td>2010.0</td>\n",
       "      <td>Misc</td>\n",
       "      <td>1.65</td>\n",
       "      <td>0.57</td>\n",
       "      <td>0.0</td>\n",
       "      <td>0.20</td>\n",
       "      <td>71.0</td>\n",
       "      <td>tbd</td>\n",
       "      <td>E</td>\n",
       "      <td>2.42</td>\n",
       "    </tr>\n",
       "    <tr>\n",
       "      <th>718</th>\n",
       "      <td>Just Dance Kids</td>\n",
       "      <td>Wii</td>\n",
       "      <td>2010.0</td>\n",
       "      <td>Misc</td>\n",
       "      <td>1.52</td>\n",
       "      <td>0.54</td>\n",
       "      <td>0.0</td>\n",
       "      <td>0.18</td>\n",
       "      <td>NaN</td>\n",
       "      <td>tbd</td>\n",
       "      <td>E</td>\n",
       "      <td>2.24</td>\n",
       "    </tr>\n",
       "    <tr>\n",
       "      <th>...</th>\n",
       "      <td>...</td>\n",
       "      <td>...</td>\n",
       "      <td>...</td>\n",
       "      <td>...</td>\n",
       "      <td>...</td>\n",
       "      <td>...</td>\n",
       "      <td>...</td>\n",
       "      <td>...</td>\n",
       "      <td>...</td>\n",
       "      <td>...</td>\n",
       "      <td>...</td>\n",
       "      <td>...</td>\n",
       "    </tr>\n",
       "    <tr>\n",
       "      <th>16695</th>\n",
       "      <td>Planet Monsters</td>\n",
       "      <td>GBA</td>\n",
       "      <td>2001.0</td>\n",
       "      <td>Action</td>\n",
       "      <td>0.01</td>\n",
       "      <td>0.00</td>\n",
       "      <td>0.0</td>\n",
       "      <td>0.00</td>\n",
       "      <td>67.0</td>\n",
       "      <td>tbd</td>\n",
       "      <td>E</td>\n",
       "      <td>0.01</td>\n",
       "    </tr>\n",
       "    <tr>\n",
       "      <th>16697</th>\n",
       "      <td>Bust-A-Move 3000</td>\n",
       "      <td>GC</td>\n",
       "      <td>2003.0</td>\n",
       "      <td>Puzzle</td>\n",
       "      <td>0.01</td>\n",
       "      <td>0.00</td>\n",
       "      <td>0.0</td>\n",
       "      <td>0.00</td>\n",
       "      <td>53.0</td>\n",
       "      <td>tbd</td>\n",
       "      <td>E</td>\n",
       "      <td>0.01</td>\n",
       "    </tr>\n",
       "    <tr>\n",
       "      <th>16698</th>\n",
       "      <td>Mega Brain Boost</td>\n",
       "      <td>DS</td>\n",
       "      <td>2008.0</td>\n",
       "      <td>Puzzle</td>\n",
       "      <td>0.01</td>\n",
       "      <td>0.00</td>\n",
       "      <td>0.0</td>\n",
       "      <td>0.00</td>\n",
       "      <td>48.0</td>\n",
       "      <td>tbd</td>\n",
       "      <td>E</td>\n",
       "      <td>0.01</td>\n",
       "    </tr>\n",
       "    <tr>\n",
       "      <th>16704</th>\n",
       "      <td>Plushees</td>\n",
       "      <td>DS</td>\n",
       "      <td>2008.0</td>\n",
       "      <td>Simulation</td>\n",
       "      <td>0.01</td>\n",
       "      <td>0.00</td>\n",
       "      <td>0.0</td>\n",
       "      <td>0.00</td>\n",
       "      <td>NaN</td>\n",
       "      <td>tbd</td>\n",
       "      <td>E</td>\n",
       "      <td>0.01</td>\n",
       "    </tr>\n",
       "    <tr>\n",
       "      <th>16706</th>\n",
       "      <td>Men in Black II: Alien Escape</td>\n",
       "      <td>GC</td>\n",
       "      <td>2003.0</td>\n",
       "      <td>Shooter</td>\n",
       "      <td>0.01</td>\n",
       "      <td>0.00</td>\n",
       "      <td>0.0</td>\n",
       "      <td>0.00</td>\n",
       "      <td>NaN</td>\n",
       "      <td>tbd</td>\n",
       "      <td>T</td>\n",
       "      <td>0.01</td>\n",
       "    </tr>\n",
       "  </tbody>\n",
       "</table>\n",
       "<p>2376 rows × 12 columns</p>\n",
       "</div>"
      ],
      "text/plain": [
       "                                 name platform  year_of_release       genre  \\\n",
       "119                     Zumba Fitness      Wii           2010.0      Sports   \n",
       "301    Namco Museum: 50th Anniversary      PS2           2005.0        Misc   \n",
       "520                   Zumba Fitness 2      Wii           2011.0      Sports   \n",
       "645                      uDraw Studio      Wii           2010.0        Misc   \n",
       "718                   Just Dance Kids      Wii           2010.0        Misc   \n",
       "...                               ...      ...              ...         ...   \n",
       "16695                 Planet Monsters      GBA           2001.0      Action   \n",
       "16697                Bust-A-Move 3000       GC           2003.0      Puzzle   \n",
       "16698                Mega Brain Boost       DS           2008.0      Puzzle   \n",
       "16704                        Plushees       DS           2008.0  Simulation   \n",
       "16706   Men in Black II: Alien Escape       GC           2003.0     Shooter   \n",
       "\n",
       "       na_sales  eu_sales  jp_sales  other_sales  critic_score user_score  \\\n",
       "119        3.45      2.59       0.0         0.66           NaN        tbd   \n",
       "301        2.08      1.35       0.0         0.54          61.0        tbd   \n",
       "520        1.51      1.03       0.0         0.27           NaN        tbd   \n",
       "645        1.65      0.57       0.0         0.20          71.0        tbd   \n",
       "718        1.52      0.54       0.0         0.18           NaN        tbd   \n",
       "...         ...       ...       ...          ...           ...        ...   \n",
       "16695      0.01      0.00       0.0         0.00          67.0        tbd   \n",
       "16697      0.01      0.00       0.0         0.00          53.0        tbd   \n",
       "16698      0.01      0.00       0.0         0.00          48.0        tbd   \n",
       "16704      0.01      0.00       0.0         0.00           NaN        tbd   \n",
       "16706      0.01      0.00       0.0         0.00           NaN        tbd   \n",
       "\n",
       "      rating  sum_sales  \n",
       "119        E       6.70  \n",
       "301     E10+       3.97  \n",
       "520        T       2.81  \n",
       "645        E       2.42  \n",
       "718        E       2.24  \n",
       "...      ...        ...  \n",
       "16695      E       0.01  \n",
       "16697      E       0.01  \n",
       "16698      E       0.01  \n",
       "16704      E       0.01  \n",
       "16706      T       0.01  \n",
       "\n",
       "[2376 rows x 12 columns]"
      ]
     },
     "execution_count": 14,
     "metadata": {},
     "output_type": "execute_result"
    }
   ],
   "source": [
    "df.loc[df['user_score'] == 'tbd']"
   ]
  },
  {
   "cell_type": "markdown",
   "id": "7a6211bd",
   "metadata": {},
   "source": [
    "Это аббривеатура  означает, что у игры пока мало отзывов, чтобы можно было составить рейтинг.\n",
    "Т.е в нашем случае это по сути пропуски."
   ]
  },
  {
   "cell_type": "markdown",
   "id": "846f7a46",
   "metadata": {},
   "source": [
    "Заполним их так же, как и пропуски."
   ]
  },
  {
   "cell_type": "code",
   "execution_count": 18,
   "id": "f56ca671",
   "metadata": {},
   "outputs": [],
   "source": [
    "df['user_score'] = df['user_score'].replace('tbd', 0)"
   ]
  },
  {
   "cell_type": "markdown",
   "id": "9bdc9b91",
   "metadata": {},
   "source": [
    "Исправим пропуски в столбце rating."
   ]
  },
  {
   "cell_type": "code",
   "execution_count": 19,
   "id": "c6e8d97a",
   "metadata": {},
   "outputs": [
    {
     "name": "stdout",
     "output_type": "stream",
     "text": [
      "         eu_sales  jp_sales  na_sales\n",
      "rating                               \n",
      "unknown    609.65    836.74   1225.84\n"
     ]
    }
   ],
   "source": [
    "df['rating'] = df['rating'].fillna('unknown')\n",
    "unk = df.query('rating == \"unknown\"').pivot_table(index='rating', values=['na_sales', 'eu_sales', 'jp_sales'], aggfunc='sum')\n",
    "print(unk.sort_values(by='na_sales'))"
   ]
  },
  {
   "cell_type": "markdown",
   "id": "6c29ed5d",
   "metadata": {},
   "source": [
    "Проверим дубликаты в таблице."
   ]
  },
  {
   "cell_type": "code",
   "execution_count": 20,
   "id": "7e336692",
   "metadata": {},
   "outputs": [
    {
     "data": {
      "text/html": [
       "<div>\n",
       "<style scoped>\n",
       "    .dataframe tbody tr th:only-of-type {\n",
       "        vertical-align: middle;\n",
       "    }\n",
       "\n",
       "    .dataframe tbody tr th {\n",
       "        vertical-align: top;\n",
       "    }\n",
       "\n",
       "    .dataframe thead th {\n",
       "        text-align: right;\n",
       "    }\n",
       "</style>\n",
       "<table border=\"1\" class=\"dataframe\">\n",
       "  <thead>\n",
       "    <tr style=\"text-align: right;\">\n",
       "      <th></th>\n",
       "      <th>name</th>\n",
       "      <th>platform</th>\n",
       "      <th>year_of_release</th>\n",
       "      <th>genre</th>\n",
       "      <th>na_sales</th>\n",
       "      <th>eu_sales</th>\n",
       "      <th>jp_sales</th>\n",
       "      <th>other_sales</th>\n",
       "      <th>critic_score</th>\n",
       "      <th>user_score</th>\n",
       "      <th>rating</th>\n",
       "      <th>sum_sales</th>\n",
       "    </tr>\n",
       "  </thead>\n",
       "  <tbody>\n",
       "    <tr>\n",
       "      <th>16230</th>\n",
       "      <td>Madden NFL 13</td>\n",
       "      <td>PS3</td>\n",
       "      <td>2012.0</td>\n",
       "      <td>Sports</td>\n",
       "      <td>0.0</td>\n",
       "      <td>0.01</td>\n",
       "      <td>0.0</td>\n",
       "      <td>0.0</td>\n",
       "      <td>83.0</td>\n",
       "      <td>5.5</td>\n",
       "      <td>E</td>\n",
       "      <td>0.01</td>\n",
       "    </tr>\n",
       "  </tbody>\n",
       "</table>\n",
       "</div>"
      ],
      "text/plain": [
       "                name platform  year_of_release   genre  na_sales  eu_sales  \\\n",
       "16230  Madden NFL 13      PS3           2012.0  Sports       0.0      0.01   \n",
       "\n",
       "       jp_sales  other_sales  critic_score user_score rating  sum_sales  \n",
       "16230       0.0          0.0          83.0        5.5      E       0.01  "
      ]
     },
     "execution_count": 20,
     "metadata": {},
     "output_type": "execute_result"
    }
   ],
   "source": [
    "#Найдем полные дубликаты по названию игры, платформе и году выпуска\n",
    "df.loc[df[['name','platform','year_of_release']].duplicated() == True]"
   ]
  },
  {
   "cell_type": "code",
   "execution_count": 21,
   "id": "733d5a12",
   "metadata": {},
   "outputs": [],
   "source": [
    "#Удалим 1 дубликат\n",
    "df = df.drop(index=16230)"
   ]
  },
  {
   "cell_type": "markdown",
   "id": "1d0d4d8a",
   "metadata": {},
   "source": [
    "Снова выведем общую информацию."
   ]
  },
  {
   "cell_type": "code",
   "execution_count": 22,
   "id": "c1c64a3c",
   "metadata": {},
   "outputs": [
    {
     "name": "stdout",
     "output_type": "stream",
     "text": [
      "<class 'pandas.core.frame.DataFrame'>\n",
      "Int64Index: 16441 entries, 0 to 16714\n",
      "Data columns (total 12 columns):\n",
      " #   Column           Non-Null Count  Dtype  \n",
      "---  ------           --------------  -----  \n",
      " 0   name             16441 non-null  object \n",
      " 1   platform         16441 non-null  object \n",
      " 2   year_of_release  16441 non-null  float64\n",
      " 3   genre            16441 non-null  object \n",
      " 4   na_sales         16441 non-null  float64\n",
      " 5   eu_sales         16441 non-null  float64\n",
      " 6   jp_sales         16441 non-null  float64\n",
      " 7   other_sales      16441 non-null  float64\n",
      " 8   critic_score     16441 non-null  float64\n",
      " 9   user_score       16441 non-null  object \n",
      " 10  rating           16441 non-null  object \n",
      " 11  sum_sales        16441 non-null  float64\n",
      "dtypes: float64(7), object(5)\n",
      "memory usage: 1.6+ MB\n"
     ]
    }
   ],
   "source": [
    "df.info()"
   ]
  },
  {
   "cell_type": "markdown",
   "id": "56d80d01",
   "metadata": {},
   "source": [
    "Итого, мы полностью избавились от пропусков и дубликатов в таблице. Нулевые значения по столбцам нужно будет иметь ввиду, в дальнейшем анализе."
   ]
  },
  {
   "cell_type": "markdown",
   "id": "2da42208",
   "metadata": {},
   "source": [
    "- **Преобразуем типы данных.**"
   ]
  },
  {
   "cell_type": "markdown",
   "id": "040bd433",
   "metadata": {},
   "source": [
    "Для удобства подсчетов изменим оценку пользователей на float и значение года выпуска изменим на тип даты."
   ]
  },
  {
   "cell_type": "code",
   "execution_count": 23,
   "id": "f3313040",
   "metadata": {},
   "outputs": [],
   "source": [
    "df['user_score'] = df['user_score'].astype('float')"
   ]
  },
  {
   "cell_type": "code",
   "execution_count": 24,
   "id": "6c75e7dd",
   "metadata": {},
   "outputs": [],
   "source": [
    "df['year_of_release'] = pd.to_datetime(df['year_of_release'], format='%Y').dt.year"
   ]
  },
  {
   "cell_type": "markdown",
   "id": "c229ebc4",
   "metadata": {},
   "source": [
    "## Исследовательский анализ."
   ]
  },
  {
   "cell_type": "markdown",
   "id": "35432462",
   "metadata": {},
   "source": [
    "- **Посмотрим статистику по годам.**"
   ]
  },
  {
   "cell_type": "code",
   "execution_count": 25,
   "id": "60b0db32",
   "metadata": {},
   "outputs": [
    {
     "data": {
      "text/plain": [
       "Text(0, 0.5, 'Кол-во игр')"
      ]
     },
     "execution_count": 25,
     "metadata": {},
     "output_type": "execute_result"
    },
    {
     "data": {
      "image/png": "[encoded data removed]",
      "text/plain": [
       "<Figure size 720x504 with 1 Axes>"
      ]
     },
     "metadata": {
      "needs_background": "light"
     },
     "output_type": "display_data"
    }
   ],
   "source": [
    "#Создадим переменную и добавим в неё сводную таблицу, в которой почситаем кол-во игр \n",
    "\n",
    "year_count = df.pivot_table(index='year_of_release',values='name', aggfunc='count')\n",
    "year_count.columns = ['count']\n",
    "\n",
    "#Выведем полученную гистограмму\n",
    "\n",
    "year_count.plot(y='count',\\\n",
    "                kind='bar',\\\n",
    "               figsize=(10,7),\\\n",
    "               color='indianred',\\\n",
    "               alpha=0.5)\n",
    "plt.title('Кол-во игр по годам')\n",
    "plt.xlabel('Год')\n",
    "plt.ylabel('Кол-во игр')"
   ]
  },
  {
   "cell_type": "markdown",
   "id": "e5f9d3c5",
   "metadata": {},
   "source": [
    "Из гистограммы видно, что больше всего продано игр в 2008-2009 году. В целом до 2009 года был рост выпуска игр, затем вероятно достаточно развились мобильные устройства, поэтому популярность приставок упала."
   ]
  },
  {
   "cell_type": "markdown",
   "id": "95fd4ed6",
   "metadata": {},
   "source": [
    "- **Рассмотрим кол-во продаж по платформам.**"
   ]
  },
  {
   "cell_type": "code",
   "execution_count": 26,
   "id": "2150e3d1",
   "metadata": {
    "collapsed": true
   },
   "outputs": [
    {
     "data": {
      "text/html": [
       "<div>\n",
       "<style scoped>\n",
       "    .dataframe tbody tr th:only-of-type {\n",
       "        vertical-align: middle;\n",
       "    }\n",
       "\n",
       "    .dataframe tbody tr th {\n",
       "        vertical-align: top;\n",
       "    }\n",
       "\n",
       "    .dataframe thead th {\n",
       "        text-align: right;\n",
       "    }\n",
       "</style>\n",
       "<table border=\"1\" class=\"dataframe\">\n",
       "  <thead>\n",
       "    <tr style=\"text-align: right;\">\n",
       "      <th></th>\n",
       "      <th>sum</th>\n",
       "    </tr>\n",
       "    <tr>\n",
       "      <th>platform</th>\n",
       "      <th></th>\n",
       "    </tr>\n",
       "  </thead>\n",
       "  <tbody>\n",
       "    <tr>\n",
       "      <th>PS2</th>\n",
       "      <td>1233.56</td>\n",
       "    </tr>\n",
       "    <tr>\n",
       "      <th>X360</th>\n",
       "      <td>961.24</td>\n",
       "    </tr>\n",
       "    <tr>\n",
       "      <th>PS3</th>\n",
       "      <td>931.33</td>\n",
       "    </tr>\n",
       "    <tr>\n",
       "      <th>Wii</th>\n",
       "      <td>891.18</td>\n",
       "    </tr>\n",
       "    <tr>\n",
       "      <th>DS</th>\n",
       "      <td>802.78</td>\n",
       "    </tr>\n",
       "    <tr>\n",
       "      <th>PS</th>\n",
       "      <td>727.58</td>\n",
       "    </tr>\n",
       "    <tr>\n",
       "      <th>PS4</th>\n",
       "      <td>314.14</td>\n",
       "    </tr>\n",
       "    <tr>\n",
       "      <th>GBA</th>\n",
       "      <td>312.88</td>\n",
       "    </tr>\n",
       "    <tr>\n",
       "      <th>PSP</th>\n",
       "      <td>289.53</td>\n",
       "    </tr>\n",
       "    <tr>\n",
       "      <th>3DS</th>\n",
       "      <td>257.81</td>\n",
       "    </tr>\n",
       "    <tr>\n",
       "      <th>PC</th>\n",
       "      <td>255.76</td>\n",
       "    </tr>\n",
       "    <tr>\n",
       "      <th>GB</th>\n",
       "      <td>254.43</td>\n",
       "    </tr>\n",
       "    <tr>\n",
       "      <th>XB</th>\n",
       "      <td>251.57</td>\n",
       "    </tr>\n",
       "    <tr>\n",
       "      <th>NES</th>\n",
       "      <td>251.05</td>\n",
       "    </tr>\n",
       "    <tr>\n",
       "      <th>N64</th>\n",
       "      <td>218.01</td>\n",
       "    </tr>\n",
       "    <tr>\n",
       "      <th>SNES</th>\n",
       "      <td>200.04</td>\n",
       "    </tr>\n",
       "    <tr>\n",
       "      <th>GC</th>\n",
       "      <td>196.73</td>\n",
       "    </tr>\n",
       "    <tr>\n",
       "      <th>XOne</th>\n",
       "      <td>159.32</td>\n",
       "    </tr>\n",
       "    <tr>\n",
       "      <th>2600</th>\n",
       "      <td>86.48</td>\n",
       "    </tr>\n",
       "    <tr>\n",
       "      <th>WiiU</th>\n",
       "      <td>82.19</td>\n",
       "    </tr>\n",
       "    <tr>\n",
       "      <th>PSV</th>\n",
       "      <td>53.81</td>\n",
       "    </tr>\n",
       "    <tr>\n",
       "      <th>SAT</th>\n",
       "      <td>33.59</td>\n",
       "    </tr>\n",
       "    <tr>\n",
       "      <th>GEN</th>\n",
       "      <td>28.35</td>\n",
       "    </tr>\n",
       "    <tr>\n",
       "      <th>DC</th>\n",
       "      <td>15.95</td>\n",
       "    </tr>\n",
       "    <tr>\n",
       "      <th>SCD</th>\n",
       "      <td>1.86</td>\n",
       "    </tr>\n",
       "    <tr>\n",
       "      <th>NG</th>\n",
       "      <td>1.44</td>\n",
       "    </tr>\n",
       "    <tr>\n",
       "      <th>WS</th>\n",
       "      <td>1.42</td>\n",
       "    </tr>\n",
       "    <tr>\n",
       "      <th>TG16</th>\n",
       "      <td>0.16</td>\n",
       "    </tr>\n",
       "    <tr>\n",
       "      <th>3DO</th>\n",
       "      <td>0.10</td>\n",
       "    </tr>\n",
       "    <tr>\n",
       "      <th>GG</th>\n",
       "      <td>0.04</td>\n",
       "    </tr>\n",
       "    <tr>\n",
       "      <th>PCFX</th>\n",
       "      <td>0.03</td>\n",
       "    </tr>\n",
       "  </tbody>\n",
       "</table>\n",
       "</div>"
      ],
      "text/plain": [
       "              sum\n",
       "platform         \n",
       "PS2       1233.56\n",
       "X360       961.24\n",
       "PS3        931.33\n",
       "Wii        891.18\n",
       "DS         802.78\n",
       "PS         727.58\n",
       "PS4        314.14\n",
       "GBA        312.88\n",
       "PSP        289.53\n",
       "3DS        257.81\n",
       "PC         255.76\n",
       "GB         254.43\n",
       "XB         251.57\n",
       "NES        251.05\n",
       "N64        218.01\n",
       "SNES       200.04\n",
       "GC         196.73\n",
       "XOne       159.32\n",
       "2600        86.48\n",
       "WiiU        82.19\n",
       "PSV         53.81\n",
       "SAT         33.59\n",
       "GEN         28.35\n",
       "DC          15.95\n",
       "SCD          1.86\n",
       "NG           1.44\n",
       "WS           1.42\n",
       "TG16         0.16\n",
       "3DO          0.10\n",
       "GG           0.04\n",
       "PCFX         0.03"
      ]
     },
     "execution_count": 26,
     "metadata": {},
     "output_type": "execute_result"
    }
   ],
   "source": [
    "#Создадим переменную и добавим в неё сводную таблицу, в которой расчитаем сумму продаж.\n",
    "count_sales = df.pivot_table(index='platform', values='sum_sales', aggfunc='sum')\n",
    "count_sales.columns =['sum']\n",
    "count_sales.sort_values(by='sum', ascending=False)"
   ]
  },
  {
   "cell_type": "markdown",
   "id": "53d7ac2c",
   "metadata": {},
   "source": [
    "Из таблицы выделяются первые 6 плаьформ. Построим по ним график."
   ]
  },
  {
   "cell_type": "code",
   "execution_count": 27,
   "id": "6caad82d",
   "metadata": {},
   "outputs": [
    {
     "data": {
      "text/plain": [
       "Text(0, 0.5, 'Кол-во продаж')"
      ]
     },
     "execution_count": 27,
     "metadata": {},
     "output_type": "execute_result"
    },
    {
     "data": {
      "image/png": "[encoded data removed]",
      "text/plain": [
       "<Figure size 504x360 with 1 Axes>"
      ]
     },
     "metadata": {
      "needs_background": "light"
     },
     "output_type": "display_data"
    }
   ],
   "source": [
    "#Выделим топ 6 и построим гистограмму\n",
    "\n",
    "count_sales = count_sales.sort_values(by='sum', ascending=False).head(6)\n",
    "count_sales.plot(y='sum',\\\n",
    "      kind='bar',\\\n",
    "      figsize=(7,5),\\\n",
    "      color='blue',\\\n",
    "      alpha=0.5)\n",
    "plt.title('Продажи по платформам')\n",
    "plt.xlabel('Платформа')\n",
    "plt.ylabel('Кол-во продаж')"
   ]
  },
  {
   "cell_type": "markdown",
   "id": "7e89a221",
   "metadata": {},
   "source": [
    "Наиболее популярные платформы это PS2, X360 и PS3, это все западные платформы. Так же в топ попали азиатские приставки Wii и DS."
   ]
  },
  {
   "cell_type": "code",
   "execution_count": 28,
   "id": "47087eee",
   "metadata": {},
   "outputs": [
    {
     "data": {
      "text/plain": [
       "Text(-3.825000000000003, 0.5, 'Платформа')"
      ]
     },
     "execution_count": 28,
     "metadata": {},
     "output_type": "execute_result"
    },
    {
     "data": {
      "image/png": "[encoded data removed]",
      "text/plain": [
       "<Figure size 360x360 with 1 Axes>"
      ]
     },
     "metadata": {
      "needs_background": "light"
     },
     "output_type": "display_data"
    }
   ],
   "source": [
    "#Создадим переменную, которую сохраним сводную таблицу с суммой продаж и годами \n",
    "live_year = df.pivot_table(index=['platform','year_of_release'], values='sum_sales', aggfunc='sum')\n",
    "live_year.columns=['sum']\n",
    "\n",
    "#Построим точечный график\n",
    "sns.relplot(data=live_year,\\\n",
    "            x='year_of_release',\\\n",
    "           y='platform',\\\n",
    "           alpha=0.5,\\\n",
    "           color='orange',\\\n",
    "           palette='bright',\\\n",
    "           kind='scatter',\\\n",
    "           hue='platform',\\\n",
    "           legend=False)\n",
    "plt.title('Продажи по платформам')\n",
    "plt.xlabel('Год')\n",
    "plt.ylabel('Платформа')"
   ]
  },
  {
   "cell_type": "markdown",
   "id": "040d752b",
   "metadata": {},
   "source": [
    "По графику можно сказать, что в среднем платформа живёт 5-7 лет, затем их сменяют другие. Наиболее популярные живут дольше."
   ]
  },
  {
   "cell_type": "markdown",
   "id": "f96e23f5",
   "metadata": {},
   "source": [
    "Данные за актуальный период выберем от 2014 до 2016 года."
   ]
  },
  {
   "cell_type": "markdown",
   "id": "c2be3aeb",
   "metadata": {},
   "source": [
    "- **Рассмотрим динамику продаж за актуальный период.**"
   ]
  },
  {
   "cell_type": "code",
   "execution_count": 29,
   "id": "07100bf4",
   "metadata": {},
   "outputs": [
    {
     "data": {
      "text/plain": [
       "Text(13.188888888888897, 0.5, 'Платформа')"
      ]
     },
     "execution_count": 29,
     "metadata": {},
     "output_type": "execute_result"
    },
    {
     "data": {
      "image/png": "[encoded data removed]",
      "text/plain": [
       "<Figure size 422.5x360 with 1 Axes>"
      ]
     },
     "metadata": {
      "needs_background": "light"
     },
     "output_type": "display_data"
    }
   ],
   "source": [
    "actual_df = df[df['year_of_release'] >= 2014]\n",
    "top_sales = actual_df.pivot_table(index=['platform','year_of_release'], values='sum_sales', aggfunc='sum')\\\n",
    ".sort_values(by='sum_sales', ascending=False)\n",
    "\n",
    "\n",
    "top_sales.columns =['sum']\n",
    "\n",
    "sns.relplot(data=top_sales,\\\n",
    "            x='year_of_release',\\\n",
    "           y='sum',\\\n",
    "           alpha=0.5,\\\n",
    "           color='orange',\\\n",
    "           palette='bright',\\\n",
    "           kind='line',\\\n",
    "           hue='platform',\\\n",
    "           legend=True)\n",
    "plt.title('Продажи по платформам')\n",
    "plt.xlabel('Год')\n",
    "plt.ylabel('Платформа')"
   ]
  },
  {
   "cell_type": "markdown",
   "id": "d5bc9b0c",
   "metadata": {},
   "source": [
    "Из графика видно, что продажи всех платформ падают к 2016 году. К 2016 году наиболее популярными оказались всего три платформы - PS4, XOne, 3DS. Их можно назвать самыми перспективными.  Из них PS4 и XOne относительно новые и у них был пик популярности в середине 2015 года."
   ]
  },
  {
   "cell_type": "markdown",
   "id": "79924f76",
   "metadata": {},
   "source": [
    "- **Построим boxplot по глобальным продажам.**"
   ]
  },
  {
   "cell_type": "code",
   "execution_count": 30,
   "id": "406676b5",
   "metadata": {},
   "outputs": [
    {
     "data": {
      "text/plain": [
       "(0.0, 1.75)"
      ]
     },
     "execution_count": 30,
     "metadata": {},
     "output_type": "execute_result"
    },
    {
     "data": {
      "image/png": "[encoded data removed]",
      "text/plain": [
       "<Figure size 1080x504 with 1 Axes>"
      ]
     },
     "metadata": {
      "needs_background": "light"
     },
     "output_type": "display_data"
    }
   ],
   "source": [
    "#Выберем данные за актуальный период и соответствующие платформы\n",
    "top_platform = df[df['year_of_release'] >= 2014]['platform'].unique()\n",
    "\n",
    "#Построим boxplot\n",
    "fig,ax = plt.subplots(figsize=(15,7))\n",
    "actual_df.query('platform in @top_platform')\\\n",
    ".pivot_table(index=['name'], values='sum_sales', columns='platform').boxplot(ax=ax, grid=True)\n",
    "\n",
    "ax.set_ylim(0,1.75)"
   ]
  },
  {
   "cell_type": "markdown",
   "id": "0e1cbcb6",
   "metadata": {},
   "source": [
    "Медиана у платформ немного разнится. От 0.15 до 0.25 млн продаж. Максимальные же продажи у PS4 - 1.75 млн."
   ]
  },
  {
   "cell_type": "markdown",
   "id": "656d7bd9",
   "metadata": {},
   "source": [
    "- **Рассмотрим влияние отзывов на продажи.**"
   ]
  },
  {
   "cell_type": "code",
   "execution_count": 31,
   "id": "ec481730",
   "metadata": {
    "scrolled": true
   },
   "outputs": [
    {
     "data": {
      "text/plain": [
       "Text(0, 0.5, 'Продажи')"
      ]
     },
     "execution_count": 31,
     "metadata": {},
     "output_type": "execute_result"
    },
    {
     "data": {
      "image/png": "[encoded data removed]",
      "text/plain": [
       "<Figure size 504x360 with 1 Axes>"
      ]
     },
     "metadata": {
      "needs_background": "light"
     },
     "output_type": "display_data"
    }
   ],
   "source": [
    "#Сохраним в переменную сводную таблицу с суммой оценок и продаж. Так же уберем нулевые значения, т.к. это были пропуски\n",
    "score = actual_df.query('platform == \"PS4\" and critic_score != 0  and user_score != 0')\\\n",
    ".pivot_table(index=['name'], values=['critic_score', 'user_score', 'sum_sales'], aggfunc='sum')\n",
    "\n",
    "\n",
    "#Построим точечный график\n",
    "\n",
    "score.plot(x='critic_score',\\\n",
    "          y='sum_sales',\\\n",
    "          style= 'o',\\\n",
    "          grid=True,\\\n",
    "          figsize = (7,5),\\\n",
    "          alpha=0.3,\\\n",
    "          color='palegreen')\n",
    "\n",
    "plt.xlabel('Оценка критиков')\n",
    "plt.ylabel('Продажи')"
   ]
  },
  {
   "cell_type": "markdown",
   "id": "e915c849",
   "metadata": {},
   "source": [
    "По графику можно сказать, что продажи в целом зависят от оценки критиков. Чем выше оценки, тем больше продажи.\n",
    "Рассмотрим влияние отзывов пользователей."
   ]
  },
  {
   "cell_type": "code",
   "execution_count": 32,
   "id": "e795f608",
   "metadata": {},
   "outputs": [
    {
     "data": {
      "text/plain": [
       "Text(0, 0.5, 'Продажи')"
      ]
     },
     "execution_count": 32,
     "metadata": {},
     "output_type": "execute_result"
    },
    {
     "data": {
      "image/png": "[encoded data removed]",
      "text/plain": [
       "<Figure size 504x360 with 1 Axes>"
      ]
     },
     "metadata": {
      "needs_background": "light"
     },
     "output_type": "display_data"
    }
   ],
   "source": [
    "score.plot(x='user_score',\\\n",
    "          y='sum_sales',\\\n",
    "          style= 'o',\\\n",
    "          grid=True,\\\n",
    "          figsize = (7,5),\\\n",
    "          alpha=0.3,\\\n",
    "          color='dodgerblue')\n",
    "\n",
    "plt.xlabel('Оценка пользователей')\n",
    "plt.ylabel('Продажи')"
   ]
  },
  {
   "cell_type": "markdown",
   "id": "a6c68395",
   "metadata": {},
   "source": [
    "Оценки пользователее заметно менее влияют на продажи. Рассмотрим корреляцию."
   ]
  },
  {
   "cell_type": "code",
   "execution_count": 33,
   "id": "34c5c288",
   "metadata": {},
   "outputs": [
    {
     "name": "stdout",
     "output_type": "stream",
     "text": [
      "-0.04318585997193629\n",
      "0.40190287811475306\n"
     ]
    }
   ],
   "source": [
    "print(score['user_score'].corr(score['sum_sales']))\n",
    "print(score['critic_score'].corr(score['sum_sales']))"
   ]
  },
  {
   "cell_type": "markdown",
   "id": "b7354630",
   "metadata": {},
   "source": [
    "По корреляции действительно видно, что оценки критиков сильнее вляют на продажи игры, а у оценок пользователей вообще отрицательная корреляция. Однако корреляция всё же незначительна. Думаю оценки не так сильно вляют на продажи, т.к. появляются уже после продажи игры."
   ]
  },
  {
   "cell_type": "markdown",
   "id": "747d63a5",
   "metadata": {},
   "source": [
    "- **Рассмотрим отзывы на других популярных платформах.**"
   ]
  },
  {
   "cell_type": "code",
   "execution_count": 34,
   "id": "a0965b75",
   "metadata": {
    "scrolled": true
   },
   "outputs": [
    {
     "data": {
      "image/png": "[encoded data removed]",
      "text/plain": [
       "<Figure size 720x504 with 1 Axes>"
      ]
     },
     "metadata": {
      "needs_background": "light"
     },
     "output_type": "display_data"
    },
    {
     "data": {
      "image/png": "[encoded data removed]",
      "text/plain": [
       "<Figure size 720x504 with 1 Axes>"
      ]
     },
     "metadata": {
      "needs_background": "light"
     },
     "output_type": "display_data"
    },
    {
     "data": {
      "image/png": "[encoded data removed]",
      "text/plain": [
       "<Figure size 720x504 with 1 Axes>"
      ]
     },
     "metadata": {
      "needs_background": "light"
     },
     "output_type": "display_data"
    },
    {
     "data": {
      "image/png": "[encoded data removed]",
      "text/plain": [
       "<Figure size 720x504 with 1 Axes>"
      ]
     },
     "metadata": {
      "needs_background": "light"
     },
     "output_type": "display_data"
    },
    {
     "data": {
      "image/png": "[encoded data removed]",
      "text/plain": [
       "<Figure size 720x504 with 1 Axes>"
      ]
     },
     "metadata": {
      "needs_background": "light"
     },
     "output_type": "display_data"
    },
    {
     "data": {
      "image/png": "[encoded data removed]",
      "text/plain": [
       "<Figure size 720x504 with 1 Axes>"
      ]
     },
     "metadata": {
      "needs_background": "light"
     },
     "output_type": "display_data"
    }
   ],
   "source": [
    "#Напишем цикл, который будет принимать название платформы и строить графики по ней\n",
    "top_platforms = ['PS3','XOne','3DS']\n",
    "\n",
    "for i in top_platforms:\n",
    "    score = actual_df.query('platform == @i and critic_score != 0  and user_score != 0')\\\n",
    ".pivot_table(index=['name'], values=['critic_score', 'user_score', 'sum_sales'], aggfunc='sum')\n",
    "\n",
    "\n",
    "#Построим точечный график по оценакам критиков\n",
    "\n",
    "    score.plot(x='critic_score',\\\n",
    "          y='sum_sales',\\\n",
    "          style= 'o',\\\n",
    "          grid=True,\\\n",
    "          figsize = (10,7),\\\n",
    "          alpha=0.3,\\\n",
    "          color='palegreen',\\\n",
    "          legend=True)\n",
    "    plt.title(i)\n",
    "    plt.xlabel('Оценка критиков')\n",
    "    plt.ylabel('Продажи')\n",
    "    \n",
    "#И по оценкам пользователей\n",
    "\n",
    "    score.plot(x='user_score',\\\n",
    "          y='sum_sales',\\\n",
    "          style= 'o',\\\n",
    "          grid=True,\\\n",
    "          figsize = (10,7),\\\n",
    "          alpha=0.3,\\\n",
    "          color='dodgerblue',\\\n",
    "          legend=True)\n",
    "    plt.title(i)\n",
    "    plt.xlabel('Оценка пользователей')\n",
    "    plt.ylabel('Продажи')\n",
    "    "
   ]
  },
  {
   "cell_type": "markdown",
   "id": "a0e8f538",
   "metadata": {},
   "source": [
    "По другим платформам зависимость повторяется. Значительнее зависимость от оценок критиков и почти не влияет оценка пользователей. Но опять же у всех корреляция очень низкая."
   ]
  },
  {
   "cell_type": "markdown",
   "id": "c6955ba7",
   "metadata": {},
   "source": [
    "- **Рассмотрим распределение по жанрам.**"
   ]
  },
  {
   "cell_type": "code",
   "execution_count": 35,
   "id": "4f977e69",
   "metadata": {},
   "outputs": [
    {
     "data": {
      "text/plain": [
       "<matplotlib.legend.Legend at 0x7f837ead12e0>"
      ]
     },
     "execution_count": 35,
     "metadata": {},
     "output_type": "execute_result"
    },
    {
     "data": {
      "image/png": "[encoded data removed]",
      "text/plain": [
       "<Figure size 504x360 with 1 Axes>"
      ]
     },
     "metadata": {
      "needs_background": "light"
     },
     "output_type": "display_data"
    }
   ],
   "source": [
    "#Создадим переменную со сводной таблицей по жанрам\n",
    "\n",
    "genre_top = actual_df.pivot_table(index='genre', values='sum_sales', aggfunc=['median'])\n",
    "genre_top.columns = ['median']\n",
    "#Выведем гистограмму с кол-вом продаж и суммой продаж\n",
    "\n",
    "genre_top.sort_values(by='median', ascending=False).plot(y=['median'],\\\n",
    "      kind='bar',\\\n",
    "      figsize=(7,5),\\\n",
    "      color=['teal'],\\\n",
    "      alpha=0.5)\n",
    "plt.title('Продажи по жанрам')\n",
    "plt.xlabel('Жанр')\n",
    "plt.ylabel('Кол-во продаж')\n",
    "plt.legend()"
   ]
  },
  {
   "cell_type": "markdown",
   "id": "e635ce72",
   "metadata": {},
   "source": [
    "Наиболее продаваемые оказались жанры Shooter, Sports, Platform (это игры по типы СуперМарио).Разница медиане продаж жанра Shooter и остальных очень большая, все игры больше чем в два раза меньше.\n",
    "Наименее продаваемыми оказались Puzzle, Strategy, что не удивительно, это сложные игры."
   ]
  },
  {
   "cell_type": "markdown",
   "id": "dbd92bf4",
   "metadata": {},
   "source": [
    "## Составим портрет пользователя каждого региона."
   ]
  },
  {
   "cell_type": "markdown",
   "id": "aec8f50d",
   "metadata": {},
   "source": [
    "- **Рассмотрим популярные платформы и жанры в каждом регионе.**"
   ]
  },
  {
   "cell_type": "markdown",
   "id": "6e031769",
   "metadata": {},
   "source": [
    "Построим графики по продажам и жанру пользователей Северной Америки."
   ]
  },
  {
   "cell_type": "code",
   "execution_count": 36,
   "id": "8b800133",
   "metadata": {},
   "outputs": [
    {
     "data": {
      "text/plain": [
       "<matplotlib.legend.Legend at 0x7f837ea3afa0>"
      ]
     },
     "execution_count": 36,
     "metadata": {},
     "output_type": "execute_result"
    },
    {
     "data": {
      "image/png": "[encoded data removed]",
      "text/plain": [
       "<Figure size 504x360 with 1 Axes>"
      ]
     },
     "metadata": {
      "needs_background": "light"
     },
     "output_type": "display_data"
    }
   ],
   "source": [
    "#Составим сводную таблицу и выберем из неё топ 5 платформ\n",
    "na_user = actual_df.pivot_table(index='platform', values='na_sales', aggfunc=['sum'])\n",
    "na_user.columns = ['sum']\n",
    "\n",
    "na_user = na_user.sort_values(by='sum', ascending=False).head(5)\n",
    "\n",
    "na_user.plot(y=['sum'],\\\n",
    "      kind='bar',\\\n",
    "      figsize=(7,5),\\\n",
    "      color='cyan',\\\n",
    "      alpha=0.5)\n",
    "plt.title('Северная Америка')\n",
    "plt.xlabel('Платформы')\n",
    "plt.ylabel('Кол-во продаж')\n",
    "plt.legend(['Кол-во продаж'])"
   ]
  },
  {
   "cell_type": "markdown",
   "id": "141c27cd",
   "metadata": {},
   "source": [
    "Из графика видно, что самые популярные платформы в Северной Америке PS4, XOne, X360."
   ]
  },
  {
   "cell_type": "markdown",
   "id": "c986dc6f",
   "metadata": {},
   "source": [
    "Посмотрим на жанры:"
   ]
  },
  {
   "cell_type": "code",
   "execution_count": 37,
   "id": "17e9b86d",
   "metadata": {
    "collapsed": true
   },
   "outputs": [
    {
     "data": {
      "text/plain": [
       "<matplotlib.legend.Legend at 0x7f837ea3ab80>"
      ]
     },
     "execution_count": 37,
     "metadata": {},
     "output_type": "execute_result"
    },
    {
     "data": {
      "image/png": "[encoded data removed]",
      "text/plain": [
       "<Figure size 504x360 with 1 Axes>"
      ]
     },
     "metadata": {
      "needs_background": "light"
     },
     "output_type": "display_data"
    }
   ],
   "source": [
    "#Составим сводную таблицу и выведем топ 5 жанров \n",
    "na_user = actual_df.pivot_table(index='genre', values='na_sales', aggfunc=['sum'])\n",
    "na_user.columns = ['sum']\n",
    "\n",
    "na_user = na_user.sort_values(by='sum', ascending=False).head(5)\n",
    "\n",
    "na_user.plot(y=['sum'],\\\n",
    "      kind='bar',\\\n",
    "      figsize=(7,5),\\\n",
    "      color='brown',\\\n",
    "      alpha=0.5)\n",
    "plt.title('Северная Америка')\n",
    "plt.xlabel('Жанр')\n",
    "plt.ylabel('Сумма продаж')\n",
    "plt.legend(['Сумма продаж'])"
   ]
  },
  {
   "cell_type": "markdown",
   "id": "8c668dea",
   "metadata": {},
   "source": [
    "А самые популярные жанры Shooter, Actions, Sports."
   ]
  },
  {
   "cell_type": "markdown",
   "id": "ef2a32f2",
   "metadata": {},
   "source": [
    "Пользователи Северной америки чаще всего имеют приставку PS4  и играют в жанры Action и Sports."
   ]
  },
  {
   "cell_type": "markdown",
   "id": "38fb1aa5",
   "metadata": {},
   "source": [
    "- Рассмотрим пользователей Европы."
   ]
  },
  {
   "cell_type": "code",
   "execution_count": 38,
   "id": "57fc98bd",
   "metadata": {},
   "outputs": [
    {
     "data": {
      "text/plain": [
       "<matplotlib.legend.Legend at 0x7f837ea69cd0>"
      ]
     },
     "execution_count": 38,
     "metadata": {},
     "output_type": "execute_result"
    },
    {
     "data": {
      "image/png": "[encoded data removed]",
      "text/plain": [
       "<Figure size 504x360 with 1 Axes>"
      ]
     },
     "metadata": {
      "needs_background": "light"
     },
     "output_type": "display_data"
    }
   ],
   "source": [
    "#Составим сводную таблицу и график по топ 5 платформам\n",
    "eu_user = actual_df.pivot_table(index='platform', values='eu_sales', aggfunc=['sum'])\n",
    "eu_user.columns = ['sum']\n",
    "\n",
    "eu_user = eu_user.sort_values(by='sum', ascending=False).head(5)\n",
    "\n",
    "eu_user.plot(y=['sum'],\\\n",
    "      kind='bar',\\\n",
    "      figsize=(7,5),\\\n",
    "      color='red',\\\n",
    "      alpha=0.5)\n",
    "plt.title('Европа')\n",
    "plt.xlabel('Платформы')\n",
    "plt.ylabel('Кол-во продаж')\n",
    "plt.legend(['Кол-во продаж'])"
   ]
  },
  {
   "cell_type": "markdown",
   "id": "57ab0a1c",
   "metadata": {},
   "source": [
    "Как видно в топе все те же платформы, наиболее популярной стала PS4 и XOne. Продажи по самой популярной патформе отличаются почти в два раза, в Европе реже покупают приставки (320 млн. в Европе против 590 млн. в Северной Америке)."
   ]
  },
  {
   "cell_type": "markdown",
   "id": "4d775612",
   "metadata": {},
   "source": [
    "Посмотрим на жанры:"
   ]
  },
  {
   "cell_type": "code",
   "execution_count": 39,
   "id": "96e1a0f7",
   "metadata": {},
   "outputs": [
    {
     "data": {
      "text/plain": [
       "<matplotlib.legend.Legend at 0x7f837eaafac0>"
      ]
     },
     "execution_count": 39,
     "metadata": {},
     "output_type": "execute_result"
    },
    {
     "data": {
      "image/png": "[encoded data removed]",
      "text/plain": [
       "<Figure size 504x360 with 1 Axes>"
      ]
     },
     "metadata": {
      "needs_background": "light"
     },
     "output_type": "display_data"
    }
   ],
   "source": [
    "#Построим сводную таблицу по жанрам и выведем график по топ 5\n",
    "eu_user = actual_df.pivot_table(index='genre', values='eu_sales', aggfunc=['sum'])\n",
    "eu_user.columns = ['sum']\n",
    "\n",
    "eu_user = eu_user.sort_values(by='sum', ascending=False).head(5)\n",
    "\n",
    "eu_user.plot(y=['sum'],\\\n",
    "      kind='bar',\\\n",
    "      figsize=(7,5),\\\n",
    "      color='navy',\\\n",
    "      alpha=0.5)\n",
    "plt.title('Европа')\n",
    "plt.xlabel('Жанры')\n",
    "plt.ylabel('Кол-во продаж')\n",
    "plt.legend(['Кол-во продаж'])"
   ]
  },
  {
   "cell_type": "markdown",
   "id": "1d6e9448",
   "metadata": {},
   "source": [
    "Жанры в Европе распределились так же, как в Северной Америке, за исключением последнего, в Европе это Racing. Но вот продажи так же значительно отличаются по всем жанрам, в пользу Северной Америки. Так же повился жанр Role-Playing."
   ]
  },
  {
   "cell_type": "markdown",
   "id": "cb97aaa9",
   "metadata": {},
   "source": [
    "Как итог пользователи в Европе и Северной Америке очень схожи. Самая популярная платформа PS4, жанры так же похожи Shooter, Actions, Sports."
   ]
  },
  {
   "cell_type": "markdown",
   "id": "a6502f20",
   "metadata": {},
   "source": [
    "- Рассмотрим пользователей Японии."
   ]
  },
  {
   "cell_type": "code",
   "execution_count": 40,
   "id": "3d795bf6",
   "metadata": {},
   "outputs": [
    {
     "data": {
      "text/plain": [
       "<matplotlib.legend.Legend at 0x7f837e8fe5e0>"
      ]
     },
     "execution_count": 40,
     "metadata": {},
     "output_type": "execute_result"
    },
    {
     "data": {
      "image/png": "[encoded data removed]",
      "text/plain": [
       "<Figure size 504x360 with 1 Axes>"
      ]
     },
     "metadata": {
      "needs_background": "light"
     },
     "output_type": "display_data"
    }
   ],
   "source": [
    "#Составим сводную таблицу по платформам и выведем график топ 5\n",
    "jp_user = actual_df.pivot_table(index='platform', values='jp_sales', aggfunc=['sum'])\n",
    "jp_user.columns = ['sum']\n",
    "\n",
    "jp_user = jp_user.sort_values(by='sum', ascending=False).head(5)\n",
    "\n",
    "jp_user.plot(y=['sum'],\\\n",
    "      kind='bar',\\\n",
    "      figsize=(7,5),\\\n",
    "      color='indigo',\\\n",
    "      alpha=0.5)\n",
    "plt.title('Япония')\n",
    "plt.xlabel('Платформы')\n",
    "plt.ylabel('Кол-во продаж')\n",
    "plt.legend(['Кол-во продаж'])"
   ]
  },
  {
   "cell_type": "markdown",
   "id": "3d3778a8",
   "metadata": {},
   "source": [
    "Продажи в Японии значительно ниже и среди Американских платформ тут только PS4 и PS3, остальные локальные. Продажи самой популярной платформы составили в 4 раза меньше, чем в Северной Америке. Это объясняется тем, что в Японии живет намного меньше людей и более консервативное общество. Самыми популярными платформами в Японии стали 3DS, PS4, PSV."
   ]
  },
  {
   "cell_type": "markdown",
   "id": "d3b2c89a",
   "metadata": {},
   "source": [
    "Рассмотрим жанры:"
   ]
  },
  {
   "cell_type": "code",
   "execution_count": 41,
   "id": "bc653496",
   "metadata": {},
   "outputs": [
    {
     "data": {
      "text/plain": [
       "<matplotlib.legend.Legend at 0x7f837eb13940>"
      ]
     },
     "execution_count": 41,
     "metadata": {},
     "output_type": "execute_result"
    },
    {
     "data": {
      "image/png": "[encoded data removed]",
      "text/plain": [
       "<Figure size 504x360 with 1 Axes>"
      ]
     },
     "metadata": {
      "needs_background": "light"
     },
     "output_type": "display_data"
    }
   ],
   "source": [
    "#Составим сводную таблицу по жанрам и график с топ 5 \n",
    "jp_user = actual_df.pivot_table(index='genre', values='jp_sales', aggfunc=['sum'])\n",
    "jp_user.columns = ['sum']\n",
    "\n",
    "jp_user = jp_user.sort_values(by='sum', ascending=False).head(5)\n",
    "\n",
    "jp_user.plot(y=['sum'],\\\n",
    "      kind='bar',\\\n",
    "      figsize=(7,5),\\\n",
    "      color='forestgreen',\\\n",
    "      alpha=0.5)\n",
    "plt.title('Япония')\n",
    "plt.xlabel('Жанры')\n",
    "plt.ylabel('Кол-во продаж')\n",
    "plt.legend(['Кол-во продаж'])"
   ]
  },
  {
   "cell_type": "markdown",
   "id": "49c934c6",
   "metadata": {},
   "source": [
    "Самыми популярными жанрами оказались другие - Role-Playing и Action. Но продажи так же в разы меньше.\n",
    "Пользователи в Японии чаще всего имеют приставку 3DS и играют в жанр Role-Playing."
   ]
  },
  {
   "cell_type": "markdown",
   "id": "24eb805a",
   "metadata": {},
   "source": [
    "- **Узнаем влияние рейтинга ESRB на продажи в разных регионах.**"
   ]
  },
  {
   "cell_type": "code",
   "execution_count": 42,
   "id": "9d16f276",
   "metadata": {},
   "outputs": [
    {
     "data": {
      "text/plain": [
       "<matplotlib.legend.Legend at 0x7f837ee1ac40>"
      ]
     },
     "execution_count": 42,
     "metadata": {},
     "output_type": "execute_result"
    },
    {
     "data": {
      "image/png": "[encoded data removed]",
      "text/plain": [
       "<Figure size 504x360 with 1 Axes>"
      ]
     },
     "metadata": {
      "needs_background": "light"
     },
     "output_type": "display_data"
    }
   ],
   "source": [
    "rating_region = actual_df.pivot_table(index='rating', values=['na_sales','eu_sales','jp_sales'], aggfunc='sum')\n",
    "\n",
    "rating_region = rating_region[['na_sales', 'eu_sales', 'jp_sales']]\n",
    "\n",
    "rating_region.plot(y=['na_sales', 'eu_sales', 'jp_sales'],\\\n",
    "      kind='bar',\\\n",
    "      figsize=(7,5),\\\n",
    "      color=['teal','tomato','mediumblue'],\\\n",
    "      alpha=0.5)\n",
    "plt.title('Продажи по рейтингу')\n",
    "plt.xlabel('Рейтинг')\n",
    "plt.ylabel('Кол-во продаж')\n",
    "plt.legend(['Северная Америка','Европа','Япония'])"
   ]
  },
  {
   "cell_type": "markdown",
   "id": "e20f9e60",
   "metadata": {},
   "source": [
    "На первом месте оказался рейтинг M-для взрослых, старше 17 лет. На втором месте неизвестный рейтинг, он примерно одинков во всех регионах, поэтому сложно сказать, что в каком-то конктретном регионе он не присваивается. Возможно на это влияют общие продажи, т.к их в Северной Америке их значительно больше. И на третьем месте оказались игры с рейтингом E - для всех."
   ]
  },
  {
   "cell_type": "markdown",
   "id": "a6397afc",
   "metadata": {},
   "source": [
    "Построим график по медианным значениям продаж."
   ]
  },
  {
   "cell_type": "code",
   "execution_count": 43,
   "id": "4026c33f",
   "metadata": {},
   "outputs": [
    {
     "data": {
      "text/plain": [
       "<matplotlib.legend.Legend at 0x7f837eb4f520>"
      ]
     },
     "execution_count": 43,
     "metadata": {},
     "output_type": "execute_result"
    },
    {
     "data": {
      "image/png": "[encoded data removed]",
      "text/plain": [
       "<Figure size 504x360 with 1 Axes>"
      ]
     },
     "metadata": {
      "needs_background": "light"
     },
     "output_type": "display_data"
    }
   ],
   "source": [
    "rating_region = actual_df.pivot_table(index='rating', values=['na_sales','eu_sales','jp_sales'], aggfunc='median')\n",
    "\n",
    "rating_region = rating_region[['na_sales', 'eu_sales', 'jp_sales']]\n",
    "\n",
    "rating_region.plot(y=['na_sales', 'eu_sales', 'jp_sales'],\\\n",
    "      kind='bar',\\\n",
    "      figsize=(7,5),\\\n",
    "      color=['teal','tomato','mediumblue'],\\\n",
    "      alpha=0.5)\n",
    "plt.title('Продажи по рейтингу')\n",
    "plt.xlabel('Рейтинг')\n",
    "plt.ylabel('Медиана продаж')\n",
    "plt.legend(['Северная Америка','Европа','Япония'])"
   ]
  },
  {
   "cell_type": "markdown",
   "id": "62ace386",
   "metadata": {},
   "source": [
    "Действительно по медиане видно, что наибольшие продажи у неизвестного рейтинга в Японии. И минимальные медианы по другим рейтингам, их даже не видно на графике. Вероятно действительно, рейтинг расчитывается только для Европы и Северной Америки. Исходя из данных в интернете, у Японии свой рейтинг игр - CERO и им незачем поолучать оценку Американского агенства, если это игры нацеленные на локальный рынок."
   ]
  },
  {
   "cell_type": "markdown",
   "id": "99dfc1e3",
   "metadata": {},
   "source": [
    "## Сформулируем и проверим гепотизы"
   ]
  },
  {
   "cell_type": "markdown",
   "id": "76ab4887",
   "metadata": {},
   "source": [
    "Первая:\n",
    "**Средние пользовательские рейтинги платформ Xbox One и PC одинаковые**.\n",
    "\n",
    "Н0 - средние пользовательские рейтинги  Xbox One = рейтингам PC .                                                      "
   ]
  },
  {
   "cell_type": "markdown",
   "id": "4770e96e",
   "metadata": {},
   "source": [
    "Н1 - средние пользовательские рейтинги  Xbox One != рейтингам PC."
   ]
  },
  {
   "cell_type": "code",
   "execution_count": 44,
   "id": "5ff2b549",
   "metadata": {},
   "outputs": [
    {
     "name": "stdout",
     "output_type": "stream",
     "text": [
      "p-значение: 0.11601398086668832\n",
      "Не получилось отвергнуть нулевую гипотезу\n"
     ]
    }
   ],
   "source": [
    "#Создадим переменные с данными рейтинга по платформам\n",
    "xbox_one = actual_df[(actual_df['platform'] == 'XOne') & (actual_df['user_score'] > 0)]['user_score']\n",
    "pc = actual_df[(actual_df['platform'] == 'PC') & (actual_df['user_score'] > 0)]['user_score']\n",
    "\n",
    "#Установим погоровое значение 05\n",
    "alpha = .05\n",
    "results = st.ttest_ind(xbox_one, pc, equal_var = False)\n",
    "\n",
    "print('p-значение:', results.pvalue)\n",
    "\n",
    "#Выведем результат при условии\n",
    "if (results.pvalue < alpha):\n",
    "    print(\"Отвергаем нулевую гипотезу\")\n",
    "else:\n",
    "    print(\"Не получилось отвергнуть нулевую гипотезу\")"
   ]
  },
  {
   "cell_type": "markdown",
   "id": "d3b008c8",
   "metadata": {},
   "source": [
    "Нулевая гепотиза не верна. Значит у нас нет оснований утверждать, что рейтинги платформ одтнковые."
   ]
  },
  {
   "cell_type": "markdown",
   "id": "3b2f0720",
   "metadata": {},
   "source": [
    "Вторая: **Средние пользовательские рейтинги жанров Action (англ. «действие», экшен-игры) и Sports (англ. «спортивные соревнования») разные.**"
   ]
  },
  {
   "cell_type": "markdown",
   "id": "60a85246",
   "metadata": {},
   "source": [
    "Н0 - средние пользовательские рейтинги жанра Action != жанру Sports."
   ]
  },
  {
   "cell_type": "markdown",
   "id": "9d1e122f",
   "metadata": {},
   "source": [
    "Н1 - средние пользовательские рейтинги жанра Action = жанру Sports."
   ]
  },
  {
   "cell_type": "code",
   "execution_count": 45,
   "id": "2cff5a57",
   "metadata": {},
   "outputs": [
    {
     "name": "stdout",
     "output_type": "stream",
     "text": [
      "p-значение: 1.1825550382644557e-14\n",
      "Отвергаем нулевую гипотезу\n"
     ]
    }
   ],
   "source": [
    "#Создадим переменные с данными рейтинга по жанрам\n",
    "action = actual_df[(actual_df['genre'] == 'Action') & (actual_df['user_score'] > 0)]['user_score']\n",
    "sports = actual_df[(actual_df['genre'] == 'Sports') & (actual_df['user_score'] > 0)]['user_score']\n",
    "\n",
    "#Установим погоровое значение 05\n",
    "alpha = .05\n",
    "results = st.ttest_ind(action, sports, equal_var = False)\n",
    "\n",
    "print('p-значение:', results.pvalue)\n",
    "\n",
    "#Выведем результат при условии\n",
    "if results.pvalue < alpha:\n",
    "    print('Отвергаем нулевую гипотезу')\n",
    "else:\n",
    "    print('Не получилось отвергнуть нулевую гипотезу')\n",
    "    "
   ]
  },
  {
   "cell_type": "markdown",
   "id": "136e4e34",
   "metadata": {},
   "source": [
    "Результат означает, что у нас нет оснований утверждать, что рейтинги жанров разные."
   ]
  },
  {
   "cell_type": "markdown",
   "id": "a67668d0",
   "metadata": {},
   "source": [
    "# Общий вывод"
   ]
  },
  {
   "cell_type": "markdown",
   "id": "fc9b3343",
   "metadata": {},
   "source": [
    "- Мы провели предобработку данных. По максимуму избавились от пропусков, заполнили их. Выянили значение tbd - по сути это пропуски. "
   ]
  },
  {
   "cell_type": "markdown",
   "id": "6edd9f41",
   "metadata": {},
   "source": [
    "- Выяснили, что активно начали появляться игры лишь в 2000-ных годах. Так же самыми популярными платформами за все время стали PS2, X360 и PS3, это все западные платформы. Так же в топ попала азиатска приставка Wii. Узнали, что в среднем платформы живут 5-7 лет, а затем их сменяют новые."
   ]
  },
  {
   "cell_type": "markdown",
   "id": "af437c94",
   "metadata": {},
   "source": [
    "- Мы взяли данные за актуальный период с 2014 по 2016 года и в дальнейшем анализировали их. Это поможет нам составить прогноз на 2017 год. Построив графики, мы узнали, что все платформы к 2016 году приходят в упадок, вероятно это связано с активным развитием мобильного гейминга. Но все же можно выделить несколько перспективных платформ - PS4, XOne, 3DS. "
   ]
  },
  {
   "cell_type": "markdown",
   "id": "c449ce38",
   "metadata": {},
   "source": [
    "- В дальнейшем рассмотрели влияние отзывов критиков и пользователей на продажи по платформам. Выяснилось, что корреляция между отзывами и продажами крайне маленькая, однако отзывы критиков влияют значительнее, это возможно связано с тем, что пользователи оставляют отзывы уже после покупки игры."
   ]
  },
  {
   "cell_type": "markdown",
   "id": "99377054",
   "metadata": {},
   "source": [
    "- Наиболее прибыльными оказались жанры Action, Sports, Shooter, Role-Playing. При этом сумма продаж у жанра Action в два раза меньше чем кол-во продаж, в отличие от Sports. Вероятно игры второго жанра стоят дороже. Интересно, что в жанре Shooter кол-во продаж почти равняется, это самые дорогие игры из всех."
   ]
  },
  {
   "cell_type": "markdown",
   "id": "f9c58c69",
   "metadata": {},
   "source": [
    "- Мы составили портреты пользователей из разных регионов. Пользователи Северной Америки и Европы оказались очень похожи. У них чаще всего приставка PS4. И играют они в жанры Action и Sports. В Японии же все наоборот. Чаще всего они имеют приставку 3DS  и играют в жанр Role-Playing (с очень большим отрывом от других жанров)."
   ]
  },
  {
   "cell_type": "markdown",
   "id": "ecc13441",
   "metadata": {},
   "source": [
    "- Так же мы проверили две гепотизы :\n",
    "1. У нас нет оснований утверждать, что рейтинги платформ Xbox One и PC одинковые.\n",
    "2. У нас нет оснований утверждать, что рейтинги жанров Action и Sports разные."
   ]
  },
  {
   "cell_type": "markdown",
   "id": "23a5eb39",
   "metadata": {},
   "source": [
    "- Ну и мы выяснили, что рейтинг игр тоже влияет на продажи, наиболее прибыльно создавать игры с рейтингом \"Для всех\". И рейтинг для Японии совсем другой."
   ]
  },
  {
   "cell_type": "markdown",
   "id": "89b2a84b",
   "metadata": {},
   "source": [
    "Итого:\n",
    "Самые пероспективные платформы это PS4 и XOne, самые перспективные жанры action и sports, а самый перспективный рынок это Северная Америка."
   ]
  }
 ],
 "metadata": {
  "ExecuteTimeLog": [
   {
    "duration": 1234,
    "start_time": "2022-12-24T07:19:48.168Z"
   },
   {
    "duration": 91,
    "start_time": "2022-12-24T07:19:49.404Z"
   },
   {
    "duration": 13,
    "start_time": "2022-12-24T07:19:49.497Z"
   },
   {
    "duration": 28,
    "start_time": "2022-12-24T07:19:49.512Z"
   },
   {
    "duration": 7,
    "start_time": "2022-12-24T07:19:49.542Z"
   },
   {
    "duration": 4,
    "start_time": "2022-12-24T07:19:49.551Z"
   },
   {
    "duration": 13,
    "start_time": "2022-12-24T07:19:49.557Z"
   },
   {
    "duration": 7,
    "start_time": "2022-12-24T07:19:49.571Z"
   },
   {
    "duration": 111,
    "start_time": "2022-12-24T07:19:49.579Z"
   },
   {
    "duration": 0,
    "start_time": "2022-12-24T07:19:49.692Z"
   },
   {
    "duration": 1,
    "start_time": "2022-12-24T07:19:49.693Z"
   },
   {
    "duration": 0,
    "start_time": "2022-12-24T07:19:49.694Z"
   },
   {
    "duration": 0,
    "start_time": "2022-12-24T07:19:49.696Z"
   },
   {
    "duration": 0,
    "start_time": "2022-12-24T07:19:49.697Z"
   },
   {
    "duration": 0,
    "start_time": "2022-12-24T07:19:49.698Z"
   },
   {
    "duration": 0,
    "start_time": "2022-12-24T07:19:49.698Z"
   },
   {
    "duration": 0,
    "start_time": "2022-12-24T07:19:49.699Z"
   },
   {
    "duration": 0,
    "start_time": "2022-12-24T07:19:49.700Z"
   },
   {
    "duration": 0,
    "start_time": "2022-12-24T07:19:49.701Z"
   },
   {
    "duration": 0,
    "start_time": "2022-12-24T07:19:49.702Z"
   },
   {
    "duration": 0,
    "start_time": "2022-12-24T07:19:49.721Z"
   },
   {
    "duration": 0,
    "start_time": "2022-12-24T07:19:49.722Z"
   },
   {
    "duration": 0,
    "start_time": "2022-12-24T07:19:49.723Z"
   },
   {
    "duration": 0,
    "start_time": "2022-12-24T07:19:49.724Z"
   },
   {
    "duration": 0,
    "start_time": "2022-12-24T07:19:49.725Z"
   },
   {
    "duration": 0,
    "start_time": "2022-12-24T07:19:49.726Z"
   },
   {
    "duration": 0,
    "start_time": "2022-12-24T07:19:49.727Z"
   },
   {
    "duration": 0,
    "start_time": "2022-12-24T07:19:49.728Z"
   },
   {
    "duration": 0,
    "start_time": "2022-12-24T07:19:49.729Z"
   },
   {
    "duration": 0,
    "start_time": "2022-12-24T07:19:49.730Z"
   },
   {
    "duration": 0,
    "start_time": "2022-12-24T07:19:49.731Z"
   },
   {
    "duration": 0,
    "start_time": "2022-12-24T07:19:49.732Z"
   },
   {
    "duration": 0,
    "start_time": "2022-12-24T07:19:49.733Z"
   },
   {
    "duration": 0,
    "start_time": "2022-12-24T07:19:49.734Z"
   },
   {
    "duration": 0,
    "start_time": "2022-12-24T07:19:49.735Z"
   },
   {
    "duration": 0,
    "start_time": "2022-12-24T07:19:49.736Z"
   },
   {
    "duration": 0,
    "start_time": "2022-12-24T07:19:49.737Z"
   },
   {
    "duration": 0,
    "start_time": "2022-12-24T07:19:49.738Z"
   },
   {
    "duration": 0,
    "start_time": "2022-12-24T07:19:49.739Z"
   },
   {
    "duration": 8,
    "start_time": "2022-12-24T07:27:41.376Z"
   },
   {
    "duration": 1094,
    "start_time": "2022-12-24T07:31:51.788Z"
   },
   {
    "duration": 50,
    "start_time": "2022-12-24T07:31:52.884Z"
   },
   {
    "duration": 13,
    "start_time": "2022-12-24T07:31:52.936Z"
   },
   {
    "duration": 27,
    "start_time": "2022-12-24T07:31:52.951Z"
   },
   {
    "duration": 7,
    "start_time": "2022-12-24T07:31:52.980Z"
   },
   {
    "duration": 9,
    "start_time": "2022-12-24T07:31:52.988Z"
   },
   {
    "duration": 24,
    "start_time": "2022-12-24T07:31:52.998Z"
   },
   {
    "duration": 7,
    "start_time": "2022-12-24T07:31:53.024Z"
   },
   {
    "duration": 10,
    "start_time": "2022-12-24T07:31:53.032Z"
   },
   {
    "duration": 11,
    "start_time": "2022-12-24T07:31:53.044Z"
   },
   {
    "duration": 110,
    "start_time": "2022-12-24T07:31:53.057Z"
   },
   {
    "duration": 0,
    "start_time": "2022-12-24T07:31:53.168Z"
   },
   {
    "duration": 0,
    "start_time": "2022-12-24T07:31:53.169Z"
   },
   {
    "duration": 0,
    "start_time": "2022-12-24T07:31:53.171Z"
   },
   {
    "duration": 0,
    "start_time": "2022-12-24T07:31:53.172Z"
   },
   {
    "duration": 0,
    "start_time": "2022-12-24T07:31:53.173Z"
   },
   {
    "duration": 0,
    "start_time": "2022-12-24T07:31:53.174Z"
   },
   {
    "duration": 0,
    "start_time": "2022-12-24T07:31:53.175Z"
   },
   {
    "duration": 0,
    "start_time": "2022-12-24T07:31:53.176Z"
   },
   {
    "duration": 0,
    "start_time": "2022-12-24T07:31:53.177Z"
   },
   {
    "duration": 0,
    "start_time": "2022-12-24T07:31:53.178Z"
   },
   {
    "duration": 0,
    "start_time": "2022-12-24T07:31:53.179Z"
   },
   {
    "duration": 0,
    "start_time": "2022-12-24T07:31:53.180Z"
   },
   {
    "duration": 0,
    "start_time": "2022-12-24T07:31:53.181Z"
   },
   {
    "duration": 0,
    "start_time": "2022-12-24T07:31:53.182Z"
   },
   {
    "duration": 0,
    "start_time": "2022-12-24T07:31:53.183Z"
   },
   {
    "duration": 0,
    "start_time": "2022-12-24T07:31:53.183Z"
   },
   {
    "duration": 0,
    "start_time": "2022-12-24T07:31:53.184Z"
   },
   {
    "duration": 0,
    "start_time": "2022-12-24T07:31:53.185Z"
   },
   {
    "duration": 0,
    "start_time": "2022-12-24T07:31:53.186Z"
   },
   {
    "duration": 0,
    "start_time": "2022-12-24T07:31:53.187Z"
   },
   {
    "duration": 0,
    "start_time": "2022-12-24T07:31:53.188Z"
   },
   {
    "duration": 0,
    "start_time": "2022-12-24T07:31:53.221Z"
   },
   {
    "duration": 0,
    "start_time": "2022-12-24T07:31:53.222Z"
   },
   {
    "duration": 0,
    "start_time": "2022-12-24T07:31:53.223Z"
   },
   {
    "duration": 0,
    "start_time": "2022-12-24T07:31:53.223Z"
   },
   {
    "duration": 0,
    "start_time": "2022-12-24T07:31:53.224Z"
   },
   {
    "duration": 0,
    "start_time": "2022-12-24T07:31:53.225Z"
   },
   {
    "duration": 0,
    "start_time": "2022-12-24T07:31:53.226Z"
   },
   {
    "duration": 7,
    "start_time": "2022-12-24T07:33:19.287Z"
   },
   {
    "duration": 1124,
    "start_time": "2022-12-24T07:33:24.564Z"
   },
   {
    "duration": 51,
    "start_time": "2022-12-24T07:33:25.690Z"
   },
   {
    "duration": 14,
    "start_time": "2022-12-24T07:33:25.743Z"
   },
   {
    "duration": 28,
    "start_time": "2022-12-24T07:33:25.759Z"
   },
   {
    "duration": 8,
    "start_time": "2022-12-24T07:33:25.788Z"
   },
   {
    "duration": 24,
    "start_time": "2022-12-24T07:33:25.797Z"
   },
   {
    "duration": 15,
    "start_time": "2022-12-24T07:33:25.822Z"
   },
   {
    "duration": 7,
    "start_time": "2022-12-24T07:33:25.838Z"
   },
   {
    "duration": 8,
    "start_time": "2022-12-24T07:33:25.847Z"
   },
   {
    "duration": 14,
    "start_time": "2022-12-24T07:33:25.857Z"
   },
   {
    "duration": 9,
    "start_time": "2022-12-24T07:33:25.873Z"
   },
   {
    "duration": 6,
    "start_time": "2022-12-24T07:33:25.884Z"
   },
   {
    "duration": 33,
    "start_time": "2022-12-24T07:33:25.891Z"
   },
   {
    "duration": 6,
    "start_time": "2022-12-24T07:33:25.925Z"
   },
   {
    "duration": 17,
    "start_time": "2022-12-24T07:33:25.933Z"
   },
   {
    "duration": 18,
    "start_time": "2022-12-24T07:33:25.952Z"
   },
   {
    "duration": 37,
    "start_time": "2022-12-24T07:33:25.971Z"
   },
   {
    "duration": 22,
    "start_time": "2022-12-24T07:33:26.010Z"
   },
   {
    "duration": 18,
    "start_time": "2022-12-24T07:33:26.034Z"
   },
   {
    "duration": 24,
    "start_time": "2022-12-24T07:33:26.053Z"
   },
   {
    "duration": 346,
    "start_time": "2022-12-24T07:33:26.078Z"
   },
   {
    "duration": 290,
    "start_time": "2022-12-24T07:33:26.425Z"
   },
   {
    "duration": 408,
    "start_time": "2022-12-24T07:33:26.717Z"
   },
   {
    "duration": 617,
    "start_time": "2022-12-24T07:33:27.127Z"
   },
   {
    "duration": 158,
    "start_time": "2022-12-24T07:33:27.746Z"
   },
   {
    "duration": 224,
    "start_time": "2022-12-24T07:33:27.906Z"
   },
   {
    "duration": 148,
    "start_time": "2022-12-24T07:33:28.132Z"
   },
   {
    "duration": 5,
    "start_time": "2022-12-24T07:33:28.283Z"
   },
   {
    "duration": 769,
    "start_time": "2022-12-24T07:33:28.290Z"
   },
   {
    "duration": 219,
    "start_time": "2022-12-24T07:33:29.062Z"
   },
   {
    "duration": 163,
    "start_time": "2022-12-24T07:33:29.283Z"
   },
   {
    "duration": 144,
    "start_time": "2022-12-24T07:33:29.447Z"
   },
   {
    "duration": 237,
    "start_time": "2022-12-24T07:33:29.594Z"
   },
   {
    "duration": 156,
    "start_time": "2022-12-24T07:33:29.833Z"
   },
   {
    "duration": 150,
    "start_time": "2022-12-24T07:33:29.991Z"
   },
   {
    "duration": 259,
    "start_time": "2022-12-24T07:33:30.142Z"
   },
   {
    "duration": 218,
    "start_time": "2022-12-24T07:33:30.404Z"
   },
   {
    "duration": 10,
    "start_time": "2022-12-24T07:33:30.623Z"
   },
   {
    "duration": 31,
    "start_time": "2022-12-24T07:33:30.635Z"
   },
   {
    "duration": 57,
    "start_time": "2022-12-24T11:39:27.829Z"
   },
   {
    "duration": 1434,
    "start_time": "2022-12-24T11:39:32.143Z"
   },
   {
    "duration": 107,
    "start_time": "2022-12-24T11:39:35.389Z"
   },
   {
    "duration": 23,
    "start_time": "2022-12-24T11:39:37.817Z"
   },
   {
    "duration": 20,
    "start_time": "2022-12-24T11:39:40.776Z"
   },
   {
    "duration": 44,
    "start_time": "2022-12-24T11:49:19.495Z"
   },
   {
    "duration": 1314,
    "start_time": "2022-12-24T11:57:58.936Z"
   },
   {
    "duration": 421,
    "start_time": "2022-12-24T11:58:00.253Z"
   },
   {
    "duration": 16,
    "start_time": "2022-12-24T11:58:00.675Z"
   },
   {
    "duration": 61,
    "start_time": "2022-12-24T11:58:00.693Z"
   },
   {
    "duration": 20,
    "start_time": "2022-12-24T11:58:00.757Z"
   },
   {
    "duration": 42,
    "start_time": "2022-12-24T11:58:00.779Z"
   },
   {
    "duration": 36,
    "start_time": "2022-12-24T11:58:00.822Z"
   },
   {
    "duration": 110,
    "start_time": "2022-12-24T11:58:00.859Z"
   },
   {
    "duration": 0,
    "start_time": "2022-12-24T11:58:00.971Z"
   },
   {
    "duration": 0,
    "start_time": "2022-12-24T11:58:00.973Z"
   },
   {
    "duration": 0,
    "start_time": "2022-12-24T11:58:00.974Z"
   },
   {
    "duration": 0,
    "start_time": "2022-12-24T11:58:00.976Z"
   },
   {
    "duration": 0,
    "start_time": "2022-12-24T11:58:00.977Z"
   },
   {
    "duration": 0,
    "start_time": "2022-12-24T11:58:00.978Z"
   },
   {
    "duration": 0,
    "start_time": "2022-12-24T11:58:00.979Z"
   },
   {
    "duration": 0,
    "start_time": "2022-12-24T11:58:00.981Z"
   },
   {
    "duration": 0,
    "start_time": "2022-12-24T11:58:00.982Z"
   },
   {
    "duration": 0,
    "start_time": "2022-12-24T11:58:00.983Z"
   },
   {
    "duration": 0,
    "start_time": "2022-12-24T11:58:00.985Z"
   },
   {
    "duration": 0,
    "start_time": "2022-12-24T11:58:00.986Z"
   },
   {
    "duration": 0,
    "start_time": "2022-12-24T11:58:00.987Z"
   },
   {
    "duration": 0,
    "start_time": "2022-12-24T11:58:00.988Z"
   },
   {
    "duration": 0,
    "start_time": "2022-12-24T11:58:01.013Z"
   },
   {
    "duration": 0,
    "start_time": "2022-12-24T11:58:01.014Z"
   },
   {
    "duration": 0,
    "start_time": "2022-12-24T11:58:01.015Z"
   },
   {
    "duration": 0,
    "start_time": "2022-12-24T11:58:01.016Z"
   },
   {
    "duration": 0,
    "start_time": "2022-12-24T11:58:01.017Z"
   },
   {
    "duration": 0,
    "start_time": "2022-12-24T11:58:01.018Z"
   },
   {
    "duration": 0,
    "start_time": "2022-12-24T11:58:01.019Z"
   },
   {
    "duration": 0,
    "start_time": "2022-12-24T11:58:01.019Z"
   },
   {
    "duration": 0,
    "start_time": "2022-12-24T11:58:01.020Z"
   },
   {
    "duration": 0,
    "start_time": "2022-12-24T11:58:01.021Z"
   },
   {
    "duration": 0,
    "start_time": "2022-12-24T11:58:01.022Z"
   },
   {
    "duration": 0,
    "start_time": "2022-12-24T11:58:01.023Z"
   },
   {
    "duration": 0,
    "start_time": "2022-12-24T11:58:01.024Z"
   },
   {
    "duration": 0,
    "start_time": "2022-12-24T11:58:01.025Z"
   },
   {
    "duration": 0,
    "start_time": "2022-12-24T11:58:01.026Z"
   },
   {
    "duration": 0,
    "start_time": "2022-12-24T11:58:01.027Z"
   },
   {
    "duration": 0,
    "start_time": "2022-12-24T11:58:01.029Z"
   },
   {
    "duration": 48,
    "start_time": "2022-12-24T11:58:55.795Z"
   },
   {
    "duration": 1200,
    "start_time": "2022-12-24T12:11:41.566Z"
   },
   {
    "duration": 13,
    "start_time": "2022-12-24T12:11:56.743Z"
   },
   {
    "duration": 22,
    "start_time": "2022-12-24T12:12:09.056Z"
   },
   {
    "duration": 23,
    "start_time": "2022-12-24T12:13:33.365Z"
   },
   {
    "duration": 13,
    "start_time": "2022-12-24T12:14:14.749Z"
   },
   {
    "duration": 12,
    "start_time": "2022-12-24T12:14:38.854Z"
   },
   {
    "duration": 4,
    "start_time": "2022-12-24T12:18:05.881Z"
   },
   {
    "duration": 6,
    "start_time": "2022-12-24T12:20:04.260Z"
   },
   {
    "duration": 12,
    "start_time": "2022-12-24T12:20:17.451Z"
   },
   {
    "duration": 17,
    "start_time": "2022-12-24T12:20:37.279Z"
   },
   {
    "duration": 8,
    "start_time": "2022-12-24T12:41:31.442Z"
   },
   {
    "duration": 7,
    "start_time": "2022-12-24T12:41:45.943Z"
   },
   {
    "duration": 1173,
    "start_time": "2022-12-24T12:41:58.481Z"
   },
   {
    "duration": 13,
    "start_time": "2022-12-24T12:42:28.785Z"
   },
   {
    "duration": 51,
    "start_time": "2022-12-25T10:13:24.270Z"
   },
   {
    "duration": 1359,
    "start_time": "2022-12-25T10:13:32.108Z"
   },
   {
    "duration": 418,
    "start_time": "2022-12-25T10:13:33.469Z"
   },
   {
    "duration": 16,
    "start_time": "2022-12-25T10:13:33.888Z"
   },
   {
    "duration": 32,
    "start_time": "2022-12-25T10:13:33.905Z"
   },
   {
    "duration": 16,
    "start_time": "2022-12-25T10:13:34.089Z"
   },
   {
    "duration": 3,
    "start_time": "2022-12-25T10:13:35.894Z"
   },
   {
    "duration": 16,
    "start_time": "2022-12-25T10:13:36.316Z"
   },
   {
    "duration": 54,
    "start_time": "2022-12-25T10:13:37.140Z"
   },
   {
    "duration": 9,
    "start_time": "2022-12-25T10:13:38.991Z"
   },
   {
    "duration": 13,
    "start_time": "2022-12-25T10:13:39.801Z"
   },
   {
    "duration": 7,
    "start_time": "2022-12-25T10:13:43.595Z"
   },
   {
    "duration": 5,
    "start_time": "2022-12-25T10:13:44.503Z"
   },
   {
    "duration": 12,
    "start_time": "2022-12-25T10:13:45.411Z"
   },
   {
    "duration": 6,
    "start_time": "2022-12-25T10:13:45.725Z"
   },
   {
    "duration": 17,
    "start_time": "2022-12-25T10:13:55.975Z"
   },
   {
    "duration": 5,
    "start_time": "2022-12-25T10:14:02.276Z"
   },
   {
    "duration": 15,
    "start_time": "2022-12-25T10:14:03.555Z"
   },
   {
    "duration": 5,
    "start_time": "2022-12-25T10:14:07.268Z"
   },
   {
    "duration": 1280,
    "start_time": "2022-12-25T10:15:04.566Z"
   },
   {
    "duration": 251,
    "start_time": "2022-12-25T10:15:05.847Z"
   },
   {
    "duration": 17,
    "start_time": "2022-12-25T10:15:06.100Z"
   },
   {
    "duration": 45,
    "start_time": "2022-12-25T10:15:06.119Z"
   },
   {
    "duration": 19,
    "start_time": "2022-12-25T10:15:06.166Z"
   },
   {
    "duration": 3,
    "start_time": "2022-12-25T10:15:06.774Z"
   },
   {
    "duration": 15,
    "start_time": "2022-12-25T10:15:07.094Z"
   },
   {
    "duration": 59,
    "start_time": "2022-12-25T10:15:07.372Z"
   },
   {
    "duration": 9,
    "start_time": "2022-12-25T10:15:08.025Z"
   },
   {
    "duration": 10,
    "start_time": "2022-12-25T10:15:08.351Z"
   },
   {
    "duration": 8,
    "start_time": "2022-12-25T10:15:09.046Z"
   },
   {
    "duration": 6,
    "start_time": "2022-12-25T10:15:09.528Z"
   },
   {
    "duration": 11,
    "start_time": "2022-12-25T10:15:10.037Z"
   },
   {
    "duration": 5,
    "start_time": "2022-12-25T10:15:10.212Z"
   },
   {
    "duration": 16,
    "start_time": "2022-12-25T10:15:10.540Z"
   },
   {
    "duration": 7,
    "start_time": "2022-12-25T10:15:11.304Z"
   },
   {
    "duration": 16,
    "start_time": "2022-12-25T10:15:12.280Z"
   },
   {
    "duration": 5,
    "start_time": "2022-12-25T10:15:13.373Z"
   },
   {
    "duration": 56,
    "start_time": "2022-12-25T10:17:51.768Z"
   },
   {
    "duration": 1177,
    "start_time": "2022-12-25T10:19:24.310Z"
   },
   {
    "duration": 219,
    "start_time": "2022-12-25T10:19:25.489Z"
   },
   {
    "duration": 15,
    "start_time": "2022-12-25T10:19:25.710Z"
   },
   {
    "duration": 33,
    "start_time": "2022-12-25T10:19:25.727Z"
   },
   {
    "duration": 16,
    "start_time": "2022-12-25T10:19:25.818Z"
   },
   {
    "duration": 3,
    "start_time": "2022-12-25T10:19:27.577Z"
   },
   {
    "duration": 14,
    "start_time": "2022-12-25T10:19:28.087Z"
   },
   {
    "duration": 61,
    "start_time": "2022-12-25T10:19:28.897Z"
   },
   {
    "duration": 11,
    "start_time": "2022-12-25T10:19:30.291Z"
   },
   {
    "duration": 10,
    "start_time": "2022-12-25T10:19:31.044Z"
   },
   {
    "duration": 7,
    "start_time": "2022-12-25T10:19:31.618Z"
   },
   {
    "duration": 5,
    "start_time": "2022-12-25T10:19:32.133Z"
   },
   {
    "duration": 12,
    "start_time": "2022-12-25T10:19:32.624Z"
   },
   {
    "duration": 6,
    "start_time": "2022-12-25T10:19:32.789Z"
   },
   {
    "duration": 17,
    "start_time": "2022-12-25T10:19:33.124Z"
   },
   {
    "duration": 5,
    "start_time": "2022-12-25T10:19:33.792Z"
   },
   {
    "duration": 16,
    "start_time": "2022-12-25T10:19:34.909Z"
   },
   {
    "duration": 5,
    "start_time": "2022-12-25T10:19:35.970Z"
   },
   {
    "duration": 1221,
    "start_time": "2022-12-25T10:19:37.163Z"
   },
   {
    "duration": 14,
    "start_time": "2022-12-25T10:19:49.588Z"
   },
   {
    "duration": 23,
    "start_time": "2022-12-25T10:31:24.001Z"
   },
   {
    "duration": 22,
    "start_time": "2022-12-25T10:31:36.171Z"
   },
   {
    "duration": 98,
    "start_time": "2022-12-25T10:39:47.002Z"
   },
   {
    "duration": 298,
    "start_time": "2022-12-25T10:40:08.653Z"
   },
   {
    "duration": 85,
    "start_time": "2022-12-25T10:40:52.877Z"
   },
   {
    "duration": 15,
    "start_time": "2022-12-25T10:43:48.488Z"
   },
   {
    "duration": 6,
    "start_time": "2022-12-25T10:44:33.214Z"
   },
   {
    "duration": 5,
    "start_time": "2022-12-25T10:44:50.135Z"
   },
   {
    "duration": 12,
    "start_time": "2022-12-25T10:45:39.449Z"
   },
   {
    "duration": 16,
    "start_time": "2022-12-25T10:46:45.835Z"
   },
   {
    "duration": 13,
    "start_time": "2022-12-25T10:46:56.157Z"
   },
   {
    "duration": 14,
    "start_time": "2022-12-25T10:49:16.505Z"
   },
   {
    "duration": 1198,
    "start_time": "2022-12-25T10:50:12.383Z"
   },
   {
    "duration": 55,
    "start_time": "2022-12-25T10:50:53.741Z"
   },
   {
    "duration": 17,
    "start_time": "2022-12-25T10:50:53.980Z"
   },
   {
    "duration": 36,
    "start_time": "2022-12-25T10:50:54.119Z"
   },
   {
    "duration": 24,
    "start_time": "2022-12-25T10:50:54.241Z"
   },
   {
    "duration": 3,
    "start_time": "2022-12-25T10:51:06.726Z"
   },
   {
    "duration": 16,
    "start_time": "2022-12-25T10:51:18.961Z"
   },
   {
    "duration": 59,
    "start_time": "2022-12-25T10:51:19.298Z"
   },
   {
    "duration": 9,
    "start_time": "2022-12-25T10:51:20.076Z"
   },
   {
    "duration": 10,
    "start_time": "2022-12-25T10:51:20.464Z"
   },
   {
    "duration": 8,
    "start_time": "2022-12-25T10:51:21.304Z"
   },
   {
    "duration": 5,
    "start_time": "2022-12-25T10:51:22.066Z"
   },
   {
    "duration": 10,
    "start_time": "2022-12-25T10:51:22.706Z"
   },
   {
    "duration": 6,
    "start_time": "2022-12-25T10:51:22.960Z"
   },
   {
    "duration": 16,
    "start_time": "2022-12-25T10:51:24.149Z"
   },
   {
    "duration": 5,
    "start_time": "2022-12-25T10:51:24.844Z"
   },
   {
    "duration": 16,
    "start_time": "2022-12-25T10:51:25.458Z"
   },
   {
    "duration": 5,
    "start_time": "2022-12-25T10:51:26.235Z"
   },
   {
    "duration": 20,
    "start_time": "2022-12-25T10:51:27.463Z"
   },
   {
    "duration": 14,
    "start_time": "2022-12-25T10:51:30.885Z"
   },
   {
    "duration": 11,
    "start_time": "2022-12-25T10:51:44.045Z"
   },
   {
    "duration": 12,
    "start_time": "2022-12-25T10:51:50.038Z"
   },
   {
    "duration": 19,
    "start_time": "2022-12-25T11:05:31.861Z"
   },
   {
    "duration": 6,
    "start_time": "2022-12-25T11:10:14.196Z"
   },
   {
    "duration": 18,
    "start_time": "2022-12-25T11:10:16.435Z"
   },
   {
    "duration": 16,
    "start_time": "2022-12-25T11:10:21.790Z"
   },
   {
    "duration": 411,
    "start_time": "2022-12-25T11:12:16.954Z"
   },
   {
    "duration": 6,
    "start_time": "2022-12-25T11:12:23.900Z"
   },
   {
    "duration": 8,
    "start_time": "2022-12-25T11:12:25.513Z"
   },
   {
    "duration": 354,
    "start_time": "2022-12-25T11:12:27.640Z"
   },
   {
    "duration": 363,
    "start_time": "2022-12-25T11:12:38.172Z"
   },
   {
    "duration": 364,
    "start_time": "2022-12-25T11:12:59.111Z"
   },
   {
    "duration": 18,
    "start_time": "2022-12-25T11:14:21.335Z"
   },
   {
    "duration": 239,
    "start_time": "2022-12-25T11:16:12.509Z"
   },
   {
    "duration": 460,
    "start_time": "2022-12-25T11:17:31.139Z"
   },
   {
    "duration": 15,
    "start_time": "2022-12-25T11:18:05.146Z"
   },
   {
    "duration": 12,
    "start_time": "2022-12-25T11:18:32.200Z"
   },
   {
    "duration": 618,
    "start_time": "2022-12-25T11:23:35.962Z"
   },
   {
    "duration": 5,
    "start_time": "2022-12-25T11:25:58.140Z"
   },
   {
    "duration": 6,
    "start_time": "2022-12-25T11:26:07.924Z"
   },
   {
    "duration": 245,
    "start_time": "2022-12-25T11:26:26.706Z"
   },
   {
    "duration": 273,
    "start_time": "2022-12-25T11:26:55.990Z"
   },
   {
    "duration": 153,
    "start_time": "2022-12-25T11:28:07.900Z"
   },
   {
    "duration": 142,
    "start_time": "2022-12-25T11:29:07.920Z"
   },
   {
    "duration": 259,
    "start_time": "2022-12-25T11:29:21.536Z"
   },
   {
    "duration": 142,
    "start_time": "2022-12-25T11:30:04.579Z"
   },
   {
    "duration": 367,
    "start_time": "2022-12-25T11:30:11.677Z"
   },
   {
    "duration": 260,
    "start_time": "2022-12-25T11:30:21.220Z"
   },
   {
    "duration": 301,
    "start_time": "2022-12-25T11:30:39.092Z"
   },
   {
    "duration": 181,
    "start_time": "2022-12-25T11:34:16.555Z"
   },
   {
    "duration": 166,
    "start_time": "2022-12-25T11:35:34.119Z"
   },
   {
    "duration": 5,
    "start_time": "2022-12-25T11:35:38.957Z"
   },
   {
    "duration": 3098,
    "start_time": "2022-12-25T11:38:47.662Z"
   },
   {
    "duration": 3290,
    "start_time": "2022-12-25T11:39:57.553Z"
   },
   {
    "duration": 3595,
    "start_time": "2022-12-25T11:40:56.168Z"
   },
   {
    "duration": 3799,
    "start_time": "2022-12-25T11:41:23.369Z"
   },
   {
    "duration": 168,
    "start_time": "2022-12-25T11:41:49.445Z"
   },
   {
    "duration": 3854,
    "start_time": "2022-12-25T11:41:57.652Z"
   },
   {
    "duration": 3858,
    "start_time": "2022-12-25T11:42:08.931Z"
   },
   {
    "duration": 249,
    "start_time": "2022-12-25T11:52:01.535Z"
   },
   {
    "duration": 249,
    "start_time": "2022-12-25T11:52:56.197Z"
   },
   {
    "duration": 237,
    "start_time": "2022-12-25T11:53:14.338Z"
   },
   {
    "duration": 279,
    "start_time": "2022-12-25T11:54:18.843Z"
   },
   {
    "duration": 258,
    "start_time": "2022-12-25T11:54:23.986Z"
   },
   {
    "duration": 270,
    "start_time": "2022-12-25T11:54:44.677Z"
   },
   {
    "duration": 280,
    "start_time": "2022-12-25T11:55:02.340Z"
   },
   {
    "duration": 279,
    "start_time": "2022-12-25T11:55:12.643Z"
   },
   {
    "duration": 10,
    "start_time": "2022-12-25T11:55:30.017Z"
   },
   {
    "duration": 261,
    "start_time": "2022-12-25T11:56:06.679Z"
   },
   {
    "duration": 11,
    "start_time": "2022-12-25T11:56:10.658Z"
   },
   {
    "duration": 442,
    "start_time": "2022-12-25T11:57:04.239Z"
   },
   {
    "duration": 10,
    "start_time": "2022-12-25T11:57:08.187Z"
   },
   {
    "duration": 225,
    "start_time": "2022-12-25T12:00:07.239Z"
   },
   {
    "duration": 20,
    "start_time": "2022-12-25T12:01:17.023Z"
   },
   {
    "duration": 217,
    "start_time": "2022-12-25T12:01:24.749Z"
   },
   {
    "duration": 162,
    "start_time": "2022-12-25T12:06:15.744Z"
   },
   {
    "duration": 172,
    "start_time": "2022-12-25T12:14:02.726Z"
   },
   {
    "duration": 193,
    "start_time": "2022-12-25T12:15:17.341Z"
   },
   {
    "duration": 207,
    "start_time": "2022-12-25T12:15:59.524Z"
   },
   {
    "duration": 161,
    "start_time": "2022-12-25T12:18:11.012Z"
   },
   {
    "duration": 189,
    "start_time": "2022-12-25T12:20:09.984Z"
   },
   {
    "duration": 187,
    "start_time": "2022-12-25T12:21:53.207Z"
   },
   {
    "duration": 185,
    "start_time": "2022-12-25T12:25:55.888Z"
   },
   {
    "duration": 185,
    "start_time": "2022-12-25T12:26:23.233Z"
   },
   {
    "duration": 195,
    "start_time": "2022-12-25T12:28:06.675Z"
   },
   {
    "duration": 190,
    "start_time": "2022-12-25T12:28:41.280Z"
   },
   {
    "duration": 212,
    "start_time": "2022-12-25T12:28:58.577Z"
   },
   {
    "duration": 10,
    "start_time": "2022-12-25T12:37:06.050Z"
   },
   {
    "duration": 1225,
    "start_time": "2022-12-25T12:59:04.764Z"
   },
   {
    "duration": 56,
    "start_time": "2022-12-25T12:59:05.991Z"
   },
   {
    "duration": 16,
    "start_time": "2022-12-25T12:59:06.049Z"
   },
   {
    "duration": 34,
    "start_time": "2022-12-25T12:59:06.067Z"
   },
   {
    "duration": 17,
    "start_time": "2022-12-25T12:59:06.103Z"
   },
   {
    "duration": 28,
    "start_time": "2022-12-25T12:59:06.122Z"
   },
   {
    "duration": 37,
    "start_time": "2022-12-25T12:59:06.153Z"
   },
   {
    "duration": 77,
    "start_time": "2022-12-25T12:59:06.192Z"
   },
   {
    "duration": 9,
    "start_time": "2022-12-25T12:59:06.270Z"
   },
   {
    "duration": 10,
    "start_time": "2022-12-25T12:59:06.282Z"
   },
   {
    "duration": 8,
    "start_time": "2022-12-25T12:59:06.294Z"
   },
   {
    "duration": 7,
    "start_time": "2022-12-25T12:59:06.304Z"
   },
   {
    "duration": 39,
    "start_time": "2022-12-25T12:59:06.312Z"
   },
   {
    "duration": 5,
    "start_time": "2022-12-25T12:59:06.353Z"
   },
   {
    "duration": 18,
    "start_time": "2022-12-25T12:59:06.360Z"
   },
   {
    "duration": 5,
    "start_time": "2022-12-25T12:59:06.379Z"
   },
   {
    "duration": 31,
    "start_time": "2022-12-25T12:59:06.386Z"
   },
   {
    "duration": 11,
    "start_time": "2022-12-25T12:59:06.420Z"
   },
   {
    "duration": 42,
    "start_time": "2022-12-25T12:59:06.433Z"
   },
   {
    "duration": 21,
    "start_time": "2022-12-25T12:59:06.477Z"
   },
   {
    "duration": 6,
    "start_time": "2022-12-25T12:59:06.500Z"
   },
   {
    "duration": 17,
    "start_time": "2022-12-25T12:59:06.507Z"
   },
   {
    "duration": 30,
    "start_time": "2022-12-25T12:59:06.526Z"
   },
   {
    "duration": 14,
    "start_time": "2022-12-25T12:59:06.557Z"
   },
   {
    "duration": 389,
    "start_time": "2022-12-25T12:59:06.572Z"
   },
   {
    "duration": 19,
    "start_time": "2022-12-25T12:59:06.964Z"
   },
   {
    "duration": 187,
    "start_time": "2022-12-25T12:59:06.984Z"
   },
   {
    "duration": 459,
    "start_time": "2022-12-25T12:59:07.175Z"
   },
   {
    "duration": 649,
    "start_time": "2022-12-25T12:59:07.636Z"
   },
   {
    "duration": 394,
    "start_time": "2022-12-25T12:59:08.286Z"
   },
   {
    "duration": 197,
    "start_time": "2022-12-25T12:59:08.683Z"
   },
   {
    "duration": 216,
    "start_time": "2022-12-25T12:59:08.882Z"
   },
   {
    "duration": 5,
    "start_time": "2022-12-25T12:59:09.100Z"
   },
   {
    "duration": 4090,
    "start_time": "2022-12-25T12:59:09.107Z"
   },
   {
    "duration": 117,
    "start_time": "2022-12-25T12:59:13.199Z"
   },
   {
    "duration": 0,
    "start_time": "2022-12-25T12:59:13.318Z"
   },
   {
    "duration": 0,
    "start_time": "2022-12-25T12:59:13.320Z"
   },
   {
    "duration": 0,
    "start_time": "2022-12-25T12:59:13.322Z"
   },
   {
    "duration": 0,
    "start_time": "2022-12-25T12:59:13.323Z"
   },
   {
    "duration": 0,
    "start_time": "2022-12-25T12:59:13.325Z"
   },
   {
    "duration": 0,
    "start_time": "2022-12-25T12:59:13.326Z"
   },
   {
    "duration": 0,
    "start_time": "2022-12-25T12:59:13.328Z"
   },
   {
    "duration": 0,
    "start_time": "2022-12-25T12:59:13.329Z"
   },
   {
    "duration": 0,
    "start_time": "2022-12-25T12:59:13.330Z"
   },
   {
    "duration": 0,
    "start_time": "2022-12-25T12:59:13.351Z"
   },
   {
    "duration": 0,
    "start_time": "2022-12-25T12:59:13.353Z"
   },
   {
    "duration": 1385,
    "start_time": "2022-12-26T08:20:15.922Z"
   },
   {
    "duration": 87,
    "start_time": "2022-12-26T08:20:17.310Z"
   },
   {
    "duration": 14,
    "start_time": "2022-12-26T08:20:17.398Z"
   },
   {
    "duration": 32,
    "start_time": "2022-12-26T08:20:17.414Z"
   },
   {
    "duration": 16,
    "start_time": "2022-12-26T08:20:17.447Z"
   },
   {
    "duration": 5,
    "start_time": "2022-12-26T08:20:17.465Z"
   },
   {
    "duration": 33,
    "start_time": "2022-12-26T08:20:17.471Z"
   },
   {
    "duration": 52,
    "start_time": "2022-12-26T08:20:17.506Z"
   },
   {
    "duration": 8,
    "start_time": "2022-12-26T08:20:17.559Z"
   },
   {
    "duration": 31,
    "start_time": "2022-12-26T08:20:17.570Z"
   },
   {
    "duration": 48,
    "start_time": "2022-12-26T08:20:17.603Z"
   },
   {
    "duration": 6,
    "start_time": "2022-12-26T08:20:17.653Z"
   },
   {
    "duration": 17,
    "start_time": "2022-12-26T08:20:17.661Z"
   },
   {
    "duration": 5,
    "start_time": "2022-12-26T08:20:17.680Z"
   },
   {
    "duration": 26,
    "start_time": "2022-12-26T08:20:17.686Z"
   },
   {
    "duration": 4,
    "start_time": "2022-12-26T08:20:17.714Z"
   },
   {
    "duration": 32,
    "start_time": "2022-12-26T08:20:17.720Z"
   },
   {
    "duration": 6,
    "start_time": "2022-12-26T08:20:17.753Z"
   },
   {
    "duration": 22,
    "start_time": "2022-12-26T08:20:17.760Z"
   },
   {
    "duration": 18,
    "start_time": "2022-12-26T08:20:17.784Z"
   },
   {
    "duration": 4,
    "start_time": "2022-12-26T08:20:17.804Z"
   },
   {
    "duration": 15,
    "start_time": "2022-12-26T08:20:17.809Z"
   },
   {
    "duration": 6,
    "start_time": "2022-12-26T08:20:17.826Z"
   },
   {
    "duration": 10,
    "start_time": "2022-12-26T08:20:17.833Z"
   },
   {
    "duration": 394,
    "start_time": "2022-12-26T08:20:17.844Z"
   },
   {
    "duration": 17,
    "start_time": "2022-12-26T08:20:18.239Z"
   },
   {
    "duration": 168,
    "start_time": "2022-12-26T08:20:18.257Z"
   },
   {
    "duration": 501,
    "start_time": "2022-12-26T08:20:18.428Z"
   },
   {
    "duration": 655,
    "start_time": "2022-12-26T08:20:18.931Z"
   },
   {
    "duration": 344,
    "start_time": "2022-12-26T08:20:19.588Z"
   },
   {
    "duration": 193,
    "start_time": "2022-12-26T08:20:19.934Z"
   },
   {
    "duration": 182,
    "start_time": "2022-12-26T08:20:20.129Z"
   },
   {
    "duration": 5,
    "start_time": "2022-12-26T08:20:20.313Z"
   },
   {
    "duration": 3787,
    "start_time": "2022-12-26T08:20:20.320Z"
   },
   {
    "duration": 123,
    "start_time": "2022-12-26T08:20:24.110Z"
   },
   {
    "duration": 0,
    "start_time": "2022-12-26T08:20:24.235Z"
   },
   {
    "duration": 0,
    "start_time": "2022-12-26T08:20:24.236Z"
   },
   {
    "duration": 0,
    "start_time": "2022-12-26T08:20:24.237Z"
   },
   {
    "duration": 0,
    "start_time": "2022-12-26T08:20:24.238Z"
   },
   {
    "duration": 0,
    "start_time": "2022-12-26T08:20:24.239Z"
   },
   {
    "duration": 0,
    "start_time": "2022-12-26T08:20:24.241Z"
   },
   {
    "duration": 0,
    "start_time": "2022-12-26T08:20:24.242Z"
   },
   {
    "duration": 0,
    "start_time": "2022-12-26T08:20:24.243Z"
   },
   {
    "duration": 0,
    "start_time": "2022-12-26T08:20:24.245Z"
   },
   {
    "duration": 0,
    "start_time": "2022-12-26T08:20:24.246Z"
   },
   {
    "duration": 0,
    "start_time": "2022-12-26T08:20:24.247Z"
   },
   {
    "duration": 52,
    "start_time": "2022-12-26T09:59:00.686Z"
   },
   {
    "duration": 1444,
    "start_time": "2022-12-26T12:12:39.701Z"
   },
   {
    "duration": 181,
    "start_time": "2022-12-26T12:12:41.147Z"
   },
   {
    "duration": 17,
    "start_time": "2022-12-26T12:12:41.330Z"
   },
   {
    "duration": 35,
    "start_time": "2022-12-26T12:12:41.349Z"
   },
   {
    "duration": 17,
    "start_time": "2022-12-26T12:12:41.385Z"
   },
   {
    "duration": 4,
    "start_time": "2022-12-26T12:12:41.423Z"
   },
   {
    "duration": 17,
    "start_time": "2022-12-26T12:12:41.429Z"
   },
   {
    "duration": 53,
    "start_time": "2022-12-26T12:12:41.448Z"
   },
   {
    "duration": 26,
    "start_time": "2022-12-26T12:12:41.502Z"
   },
   {
    "duration": 10,
    "start_time": "2022-12-26T12:12:41.531Z"
   },
   {
    "duration": 12,
    "start_time": "2022-12-26T12:12:41.543Z"
   },
   {
    "duration": 8,
    "start_time": "2022-12-26T12:12:41.557Z"
   },
   {
    "duration": 17,
    "start_time": "2022-12-26T12:12:41.566Z"
   },
   {
    "duration": 6,
    "start_time": "2022-12-26T12:12:41.585Z"
   },
   {
    "duration": 48,
    "start_time": "2022-12-26T12:12:41.593Z"
   },
   {
    "duration": 6,
    "start_time": "2022-12-26T12:12:41.644Z"
   },
   {
    "duration": 25,
    "start_time": "2022-12-26T12:12:41.655Z"
   },
   {
    "duration": 5,
    "start_time": "2022-12-26T12:12:41.682Z"
   },
   {
    "duration": 48,
    "start_time": "2022-12-26T12:12:41.689Z"
   },
   {
    "duration": 18,
    "start_time": "2022-12-26T12:12:41.739Z"
   },
   {
    "duration": 5,
    "start_time": "2022-12-26T12:12:41.759Z"
   },
   {
    "duration": 14,
    "start_time": "2022-12-26T12:12:41.766Z"
   },
   {
    "duration": 6,
    "start_time": "2022-12-26T12:12:41.782Z"
   },
   {
    "duration": 38,
    "start_time": "2022-12-26T12:12:41.790Z"
   },
   {
    "duration": 416,
    "start_time": "2022-12-26T12:12:41.831Z"
   },
   {
    "duration": 19,
    "start_time": "2022-12-26T12:12:42.249Z"
   },
   {
    "duration": 182,
    "start_time": "2022-12-26T12:12:42.270Z"
   },
   {
    "duration": 504,
    "start_time": "2022-12-26T12:12:42.455Z"
   },
   {
    "duration": 643,
    "start_time": "2022-12-26T12:12:42.961Z"
   },
   {
    "duration": 353,
    "start_time": "2022-12-26T12:12:43.605Z"
   },
   {
    "duration": 239,
    "start_time": "2022-12-26T12:12:43.961Z"
   },
   {
    "duration": 244,
    "start_time": "2022-12-26T12:12:44.203Z"
   },
   {
    "duration": 6,
    "start_time": "2022-12-26T12:12:44.449Z"
   },
   {
    "duration": 3815,
    "start_time": "2022-12-26T12:12:44.457Z"
   },
   {
    "duration": 0,
    "start_time": "2022-12-26T12:12:48.273Z"
   },
   {
    "duration": 0,
    "start_time": "2022-12-26T12:12:48.275Z"
   },
   {
    "duration": 0,
    "start_time": "2022-12-26T12:12:48.276Z"
   },
   {
    "duration": 0,
    "start_time": "2022-12-26T12:12:48.278Z"
   },
   {
    "duration": 0,
    "start_time": "2022-12-26T12:12:48.279Z"
   },
   {
    "duration": 0,
    "start_time": "2022-12-26T12:12:48.280Z"
   },
   {
    "duration": 0,
    "start_time": "2022-12-26T12:12:48.282Z"
   },
   {
    "duration": 0,
    "start_time": "2022-12-26T12:12:48.283Z"
   },
   {
    "duration": 0,
    "start_time": "2022-12-26T12:12:48.284Z"
   },
   {
    "duration": 0,
    "start_time": "2022-12-26T12:12:48.286Z"
   },
   {
    "duration": 0,
    "start_time": "2022-12-26T12:12:48.287Z"
   },
   {
    "duration": 3761,
    "start_time": "2022-12-26T12:16:16.909Z"
   },
   {
    "duration": 3671,
    "start_time": "2022-12-26T12:32:08.179Z"
   },
   {
    "duration": 1007,
    "start_time": "2022-12-26T13:26:08.681Z"
   },
   {
    "duration": 959,
    "start_time": "2022-12-26T13:26:32.604Z"
   },
   {
    "duration": 1153,
    "start_time": "2022-12-26T13:27:40.909Z"
   },
   {
    "duration": 51,
    "start_time": "2022-12-26T13:27:42.064Z"
   },
   {
    "duration": 15,
    "start_time": "2022-12-26T13:27:42.116Z"
   },
   {
    "duration": 34,
    "start_time": "2022-12-26T13:27:42.133Z"
   },
   {
    "duration": 15,
    "start_time": "2022-12-26T13:27:42.170Z"
   },
   {
    "duration": 6,
    "start_time": "2022-12-26T13:27:42.186Z"
   },
   {
    "duration": 36,
    "start_time": "2022-12-26T13:27:42.194Z"
   },
   {
    "duration": 55,
    "start_time": "2022-12-26T13:27:42.231Z"
   },
   {
    "duration": 7,
    "start_time": "2022-12-26T13:27:42.288Z"
   },
   {
    "duration": 31,
    "start_time": "2022-12-26T13:27:42.297Z"
   },
   {
    "duration": 8,
    "start_time": "2022-12-26T13:27:42.330Z"
   },
   {
    "duration": 4,
    "start_time": "2022-12-26T13:27:42.340Z"
   },
   {
    "duration": 16,
    "start_time": "2022-12-26T13:27:42.345Z"
   },
   {
    "duration": 5,
    "start_time": "2022-12-26T13:27:42.364Z"
   },
   {
    "duration": 16,
    "start_time": "2022-12-26T13:27:42.370Z"
   },
   {
    "duration": 5,
    "start_time": "2022-12-26T13:27:42.387Z"
   },
   {
    "duration": 43,
    "start_time": "2022-12-26T13:27:42.393Z"
   },
   {
    "duration": 7,
    "start_time": "2022-12-26T13:27:42.437Z"
   },
   {
    "duration": 20,
    "start_time": "2022-12-26T13:27:42.446Z"
   },
   {
    "duration": 18,
    "start_time": "2022-12-26T13:27:42.468Z"
   },
   {
    "duration": 4,
    "start_time": "2022-12-26T13:27:42.488Z"
   },
   {
    "duration": 39,
    "start_time": "2022-12-26T13:27:42.494Z"
   },
   {
    "duration": 4,
    "start_time": "2022-12-26T13:27:42.535Z"
   },
   {
    "duration": 11,
    "start_time": "2022-12-26T13:27:42.541Z"
   },
   {
    "duration": 369,
    "start_time": "2022-12-26T13:27:42.554Z"
   },
   {
    "duration": 16,
    "start_time": "2022-12-26T13:27:42.925Z"
   },
   {
    "duration": 167,
    "start_time": "2022-12-26T13:27:42.943Z"
   },
   {
    "duration": 405,
    "start_time": "2022-12-26T13:27:43.112Z"
   },
   {
    "duration": 613,
    "start_time": "2022-12-26T13:27:43.521Z"
   },
   {
    "duration": 367,
    "start_time": "2022-12-26T13:27:44.136Z"
   },
   {
    "duration": 172,
    "start_time": "2022-12-26T13:27:44.505Z"
   },
   {
    "duration": 176,
    "start_time": "2022-12-26T13:27:44.679Z"
   },
   {
    "duration": 5,
    "start_time": "2022-12-26T13:27:44.857Z"
   },
   {
    "duration": 1034,
    "start_time": "2022-12-26T13:27:44.863Z"
   },
   {
    "duration": 197,
    "start_time": "2022-12-26T13:27:45.899Z"
   },
   {
    "duration": 155,
    "start_time": "2022-12-26T13:27:46.098Z"
   },
   {
    "duration": 176,
    "start_time": "2022-12-26T13:27:46.254Z"
   },
   {
    "duration": 166,
    "start_time": "2022-12-26T13:27:46.431Z"
   },
   {
    "duration": 171,
    "start_time": "2022-12-26T13:27:46.598Z"
   },
   {
    "duration": 253,
    "start_time": "2022-12-26T13:27:46.770Z"
   },
   {
    "duration": 161,
    "start_time": "2022-12-26T13:27:47.027Z"
   },
   {
    "duration": 190,
    "start_time": "2022-12-26T13:27:47.190Z"
   },
   {
    "duration": 185,
    "start_time": "2022-12-26T13:27:47.382Z"
   },
   {
    "duration": 8,
    "start_time": "2022-12-26T13:27:47.568Z"
   },
   {
    "duration": 9,
    "start_time": "2022-12-26T13:27:47.578Z"
   },
   {
    "duration": 1504,
    "start_time": "2022-12-26T16:43:27.300Z"
   },
   {
    "duration": 437,
    "start_time": "2022-12-26T16:43:28.807Z"
   },
   {
    "duration": 20,
    "start_time": "2022-12-26T16:43:29.246Z"
   },
   {
    "duration": 42,
    "start_time": "2022-12-26T16:43:29.268Z"
   },
   {
    "duration": 20,
    "start_time": "2022-12-26T16:43:29.312Z"
   },
   {
    "duration": 5,
    "start_time": "2022-12-26T16:43:29.334Z"
   },
   {
    "duration": 30,
    "start_time": "2022-12-26T16:43:29.341Z"
   },
   {
    "duration": 83,
    "start_time": "2022-12-26T16:43:29.373Z"
   },
   {
    "duration": 9,
    "start_time": "2022-12-26T16:43:29.458Z"
   },
   {
    "duration": 11,
    "start_time": "2022-12-26T16:43:29.470Z"
   },
   {
    "duration": 28,
    "start_time": "2022-12-26T16:43:29.482Z"
   },
   {
    "duration": 5,
    "start_time": "2022-12-26T16:43:29.512Z"
   },
   {
    "duration": 13,
    "start_time": "2022-12-26T16:43:29.519Z"
   },
   {
    "duration": 10,
    "start_time": "2022-12-26T16:43:29.535Z"
   },
   {
    "duration": 26,
    "start_time": "2022-12-26T16:43:29.548Z"
   },
   {
    "duration": 7,
    "start_time": "2022-12-26T16:43:29.605Z"
   },
   {
    "duration": 18,
    "start_time": "2022-12-26T16:43:29.613Z"
   },
   {
    "duration": 4,
    "start_time": "2022-12-26T16:43:29.633Z"
   },
   {
    "duration": 23,
    "start_time": "2022-12-26T16:43:29.639Z"
   },
   {
    "duration": 50,
    "start_time": "2022-12-26T16:43:29.663Z"
   },
   {
    "duration": 6,
    "start_time": "2022-12-26T16:43:29.715Z"
   },
   {
    "duration": 20,
    "start_time": "2022-12-26T16:43:29.723Z"
   },
   {
    "duration": 6,
    "start_time": "2022-12-26T16:43:29.745Z"
   },
   {
    "duration": 11,
    "start_time": "2022-12-26T16:43:29.753Z"
   },
   {
    "duration": 447,
    "start_time": "2022-12-26T16:43:29.766Z"
   },
   {
    "duration": 17,
    "start_time": "2022-12-26T16:43:30.215Z"
   },
   {
    "duration": 175,
    "start_time": "2022-12-26T16:43:30.233Z"
   },
   {
    "duration": 499,
    "start_time": "2022-12-26T16:43:30.412Z"
   },
   {
    "duration": 626,
    "start_time": "2022-12-26T16:43:30.914Z"
   },
   {
    "duration": 344,
    "start_time": "2022-12-26T16:43:31.542Z"
   },
   {
    "duration": 185,
    "start_time": "2022-12-26T16:43:31.887Z"
   },
   {
    "duration": 181,
    "start_time": "2022-12-26T16:43:32.074Z"
   },
   {
    "duration": 5,
    "start_time": "2022-12-26T16:43:32.257Z"
   },
   {
    "duration": 1028,
    "start_time": "2022-12-26T16:43:32.264Z"
   },
   {
    "duration": 211,
    "start_time": "2022-12-26T16:43:33.295Z"
   },
   {
    "duration": 163,
    "start_time": "2022-12-26T16:43:33.508Z"
   },
   {
    "duration": 180,
    "start_time": "2022-12-26T16:43:33.673Z"
   },
   {
    "duration": 164,
    "start_time": "2022-12-26T16:43:33.855Z"
   },
   {
    "duration": 239,
    "start_time": "2022-12-26T16:43:34.021Z"
   },
   {
    "duration": 257,
    "start_time": "2022-12-26T16:43:34.262Z"
   },
   {
    "duration": 159,
    "start_time": "2022-12-26T16:43:34.521Z"
   },
   {
    "duration": 193,
    "start_time": "2022-12-26T16:43:34.681Z"
   },
   {
    "duration": 200,
    "start_time": "2022-12-26T16:43:34.876Z"
   },
   {
    "duration": 10,
    "start_time": "2022-12-26T16:43:35.078Z"
   },
   {
    "duration": 19,
    "start_time": "2022-12-26T16:43:35.089Z"
   }
  ],
  "kernelspec": {
   "display_name": "Python 3 (ipykernel)",
   "language": "python",
   "name": "python3"
  },
  "language_info": {
   "codemirror_mode": {
    "name": "ipython",
    "version": 3
   },
   "file_extension": ".py",
   "mimetype": "text/x-python",
   "name": "python",
   "nbconvert_exporter": "python",
   "pygments_lexer": "ipython3",
   "version": "3.9.13"
  },
  "toc": {
   "base_numbering": 1,
   "nav_menu": {},
   "number_sections": true,
   "sideBar": true,
   "skip_h1_title": true,
   "title_cell": "Table of Contents",
   "title_sidebar": "Contents",
   "toc_cell": false,
   "toc_position": {
    "height": "calc(100% - 180px)",
    "left": "10px",
    "top": "150px",
    "width": "279px"
   },
   "toc_section_display": true,
   "toc_window_display": false
  }
 },
 "nbformat": 4,
 "nbformat_minor": 5
}
