{
 "cells": [
  {
   "cell_type": "markdown",
   "id": "71cb895f",
   "metadata": {
    "deletable": false,
    "editable": false,
    "id": "c81daeeb"
   },
   "source": [
    "# Исследование надежности заемщиков\n"
   ]
  },
  {
   "cell_type": "markdown",
   "id": "20e1c932",
   "metadata": {
    "deletable": false,
    "editable": false,
    "id": "827c20bf"
   },
   "source": [
    "Во второй части проекта вы выполните шаги 3 и 4. Их вручную проверит ревьюер.\n",
    "Чтобы вам не пришлось писать код заново для шагов 1 и 2, мы добавили авторские решения в ячейки с кодом. \n",
    "\n"
   ]
  },
  {
   "cell_type": "markdown",
   "id": "87257bd1",
   "metadata": {
    "deletable": false,
    "editable": false,
    "id": "744d7639"
   },
   "source": [
    "## Откройте таблицу и изучите общую информацию о данных"
   ]
  },
  {
   "cell_type": "markdown",
   "id": "a958ac4d",
   "metadata": {
    "deletable": false,
    "editable": false,
    "id": "e7a14c31"
   },
   "source": [
    "**Задание 1. Импортируйте библиотеку pandas. Считайте данные из csv-файла в датафрейм и сохраните в переменную `data`. Путь к файлу:**\n",
    "\n",
    "`/datasets/data.csv`"
   ]
  },
  {
   "cell_type": "code",
   "execution_count": 1,
   "id": "dfaa373b",
   "metadata": {
    "deletable": false,
    "id": "7bcf75c9"
   },
   "outputs": [],
   "source": [
    "import pandas as pd"
   ]
  },
  {
   "cell_type": "markdown",
   "id": "0aa54710",
   "metadata": {
    "deletable": false,
    "editable": false,
    "id": "b8038fe3"
   },
   "source": [
    "**Задание 2. Выведите первые 20 строчек датафрейма `data` на экран.**"
   ]
  },
  {
   "cell_type": "code",
   "execution_count": 2,
   "id": "985539b6",
   "metadata": {
    "deletable": false,
    "id": "2a7cab99",
    "outputId": "1a8f3ef2-d323-4ec2-ddf7-89670b5944c4"
   },
   "outputs": [
    {
     "data": {
      "text/html": [
       "<div>\n",
       "<style scoped>\n",
       "    .dataframe tbody tr th:only-of-type {\n",
       "        vertical-align: middle;\n",
       "    }\n",
       "\n",
       "    .dataframe tbody tr th {\n",
       "        vertical-align: top;\n",
       "    }\n",
       "\n",
       "    .dataframe thead th {\n",
       "        text-align: right;\n",
       "    }\n",
       "</style>\n",
       "<table border=\"1\" class=\"dataframe\">\n",
       "  <thead>\n",
       "    <tr style=\"text-align: right;\">\n",
       "      <th></th>\n",
       "      <th>children</th>\n",
       "      <th>days_employed</th>\n",
       "      <th>dob_years</th>\n",
       "      <th>education</th>\n",
       "      <th>education_id</th>\n",
       "      <th>family_status</th>\n",
       "      <th>family_status_id</th>\n",
       "      <th>gender</th>\n",
       "      <th>income_type</th>\n",
       "      <th>debt</th>\n",
       "      <th>total_income</th>\n",
       "      <th>purpose</th>\n",
       "    </tr>\n",
       "  </thead>\n",
       "  <tbody>\n",
       "    <tr>\n",
       "      <th>0</th>\n",
       "      <td>1</td>\n",
       "      <td>-8437.673028</td>\n",
       "      <td>42</td>\n",
       "      <td>высшее</td>\n",
       "      <td>0</td>\n",
       "      <td>женат / замужем</td>\n",
       "      <td>0</td>\n",
       "      <td>F</td>\n",
       "      <td>сотрудник</td>\n",
       "      <td>0</td>\n",
       "      <td>253875.639453</td>\n",
       "      <td>покупка жилья</td>\n",
       "    </tr>\n",
       "    <tr>\n",
       "      <th>1</th>\n",
       "      <td>1</td>\n",
       "      <td>-4024.803754</td>\n",
       "      <td>36</td>\n",
       "      <td>среднее</td>\n",
       "      <td>1</td>\n",
       "      <td>женат / замужем</td>\n",
       "      <td>0</td>\n",
       "      <td>F</td>\n",
       "      <td>сотрудник</td>\n",
       "      <td>0</td>\n",
       "      <td>112080.014102</td>\n",
       "      <td>приобретение автомобиля</td>\n",
       "    </tr>\n",
       "    <tr>\n",
       "      <th>2</th>\n",
       "      <td>0</td>\n",
       "      <td>-5623.422610</td>\n",
       "      <td>33</td>\n",
       "      <td>Среднее</td>\n",
       "      <td>1</td>\n",
       "      <td>женат / замужем</td>\n",
       "      <td>0</td>\n",
       "      <td>M</td>\n",
       "      <td>сотрудник</td>\n",
       "      <td>0</td>\n",
       "      <td>145885.952297</td>\n",
       "      <td>покупка жилья</td>\n",
       "    </tr>\n",
       "    <tr>\n",
       "      <th>3</th>\n",
       "      <td>3</td>\n",
       "      <td>-4124.747207</td>\n",
       "      <td>32</td>\n",
       "      <td>среднее</td>\n",
       "      <td>1</td>\n",
       "      <td>женат / замужем</td>\n",
       "      <td>0</td>\n",
       "      <td>M</td>\n",
       "      <td>сотрудник</td>\n",
       "      <td>0</td>\n",
       "      <td>267628.550329</td>\n",
       "      <td>дополнительное образование</td>\n",
       "    </tr>\n",
       "    <tr>\n",
       "      <th>4</th>\n",
       "      <td>0</td>\n",
       "      <td>340266.072047</td>\n",
       "      <td>53</td>\n",
       "      <td>среднее</td>\n",
       "      <td>1</td>\n",
       "      <td>гражданский брак</td>\n",
       "      <td>1</td>\n",
       "      <td>F</td>\n",
       "      <td>пенсионер</td>\n",
       "      <td>0</td>\n",
       "      <td>158616.077870</td>\n",
       "      <td>сыграть свадьбу</td>\n",
       "    </tr>\n",
       "    <tr>\n",
       "      <th>5</th>\n",
       "      <td>0</td>\n",
       "      <td>-926.185831</td>\n",
       "      <td>27</td>\n",
       "      <td>высшее</td>\n",
       "      <td>0</td>\n",
       "      <td>гражданский брак</td>\n",
       "      <td>1</td>\n",
       "      <td>M</td>\n",
       "      <td>компаньон</td>\n",
       "      <td>0</td>\n",
       "      <td>255763.565419</td>\n",
       "      <td>покупка жилья</td>\n",
       "    </tr>\n",
       "    <tr>\n",
       "      <th>6</th>\n",
       "      <td>0</td>\n",
       "      <td>-2879.202052</td>\n",
       "      <td>43</td>\n",
       "      <td>высшее</td>\n",
       "      <td>0</td>\n",
       "      <td>женат / замужем</td>\n",
       "      <td>0</td>\n",
       "      <td>F</td>\n",
       "      <td>компаньон</td>\n",
       "      <td>0</td>\n",
       "      <td>240525.971920</td>\n",
       "      <td>операции с жильем</td>\n",
       "    </tr>\n",
       "    <tr>\n",
       "      <th>7</th>\n",
       "      <td>0</td>\n",
       "      <td>-152.779569</td>\n",
       "      <td>50</td>\n",
       "      <td>СРЕДНЕЕ</td>\n",
       "      <td>1</td>\n",
       "      <td>женат / замужем</td>\n",
       "      <td>0</td>\n",
       "      <td>M</td>\n",
       "      <td>сотрудник</td>\n",
       "      <td>0</td>\n",
       "      <td>135823.934197</td>\n",
       "      <td>образование</td>\n",
       "    </tr>\n",
       "    <tr>\n",
       "      <th>8</th>\n",
       "      <td>2</td>\n",
       "      <td>-6929.865299</td>\n",
       "      <td>35</td>\n",
       "      <td>ВЫСШЕЕ</td>\n",
       "      <td>0</td>\n",
       "      <td>гражданский брак</td>\n",
       "      <td>1</td>\n",
       "      <td>F</td>\n",
       "      <td>сотрудник</td>\n",
       "      <td>0</td>\n",
       "      <td>95856.832424</td>\n",
       "      <td>на проведение свадьбы</td>\n",
       "    </tr>\n",
       "    <tr>\n",
       "      <th>9</th>\n",
       "      <td>0</td>\n",
       "      <td>-2188.756445</td>\n",
       "      <td>41</td>\n",
       "      <td>среднее</td>\n",
       "      <td>1</td>\n",
       "      <td>женат / замужем</td>\n",
       "      <td>0</td>\n",
       "      <td>M</td>\n",
       "      <td>сотрудник</td>\n",
       "      <td>0</td>\n",
       "      <td>144425.938277</td>\n",
       "      <td>покупка жилья для семьи</td>\n",
       "    </tr>\n",
       "    <tr>\n",
       "      <th>10</th>\n",
       "      <td>2</td>\n",
       "      <td>-4171.483647</td>\n",
       "      <td>36</td>\n",
       "      <td>высшее</td>\n",
       "      <td>0</td>\n",
       "      <td>женат / замужем</td>\n",
       "      <td>0</td>\n",
       "      <td>M</td>\n",
       "      <td>компаньон</td>\n",
       "      <td>0</td>\n",
       "      <td>113943.491460</td>\n",
       "      <td>покупка недвижимости</td>\n",
       "    </tr>\n",
       "    <tr>\n",
       "      <th>11</th>\n",
       "      <td>0</td>\n",
       "      <td>-792.701887</td>\n",
       "      <td>40</td>\n",
       "      <td>среднее</td>\n",
       "      <td>1</td>\n",
       "      <td>женат / замужем</td>\n",
       "      <td>0</td>\n",
       "      <td>F</td>\n",
       "      <td>сотрудник</td>\n",
       "      <td>0</td>\n",
       "      <td>77069.234271</td>\n",
       "      <td>покупка коммерческой недвижимости</td>\n",
       "    </tr>\n",
       "    <tr>\n",
       "      <th>12</th>\n",
       "      <td>0</td>\n",
       "      <td>NaN</td>\n",
       "      <td>65</td>\n",
       "      <td>среднее</td>\n",
       "      <td>1</td>\n",
       "      <td>гражданский брак</td>\n",
       "      <td>1</td>\n",
       "      <td>M</td>\n",
       "      <td>пенсионер</td>\n",
       "      <td>0</td>\n",
       "      <td>NaN</td>\n",
       "      <td>сыграть свадьбу</td>\n",
       "    </tr>\n",
       "    <tr>\n",
       "      <th>13</th>\n",
       "      <td>0</td>\n",
       "      <td>-1846.641941</td>\n",
       "      <td>54</td>\n",
       "      <td>неоконченное высшее</td>\n",
       "      <td>2</td>\n",
       "      <td>женат / замужем</td>\n",
       "      <td>0</td>\n",
       "      <td>F</td>\n",
       "      <td>сотрудник</td>\n",
       "      <td>0</td>\n",
       "      <td>130458.228857</td>\n",
       "      <td>приобретение автомобиля</td>\n",
       "    </tr>\n",
       "    <tr>\n",
       "      <th>14</th>\n",
       "      <td>0</td>\n",
       "      <td>-1844.956182</td>\n",
       "      <td>56</td>\n",
       "      <td>высшее</td>\n",
       "      <td>0</td>\n",
       "      <td>гражданский брак</td>\n",
       "      <td>1</td>\n",
       "      <td>F</td>\n",
       "      <td>компаньон</td>\n",
       "      <td>1</td>\n",
       "      <td>165127.911772</td>\n",
       "      <td>покупка жилой недвижимости</td>\n",
       "    </tr>\n",
       "    <tr>\n",
       "      <th>15</th>\n",
       "      <td>1</td>\n",
       "      <td>-972.364419</td>\n",
       "      <td>26</td>\n",
       "      <td>среднее</td>\n",
       "      <td>1</td>\n",
       "      <td>женат / замужем</td>\n",
       "      <td>0</td>\n",
       "      <td>F</td>\n",
       "      <td>сотрудник</td>\n",
       "      <td>0</td>\n",
       "      <td>116820.904450</td>\n",
       "      <td>строительство собственной недвижимости</td>\n",
       "    </tr>\n",
       "    <tr>\n",
       "      <th>16</th>\n",
       "      <td>0</td>\n",
       "      <td>-1719.934226</td>\n",
       "      <td>35</td>\n",
       "      <td>среднее</td>\n",
       "      <td>1</td>\n",
       "      <td>женат / замужем</td>\n",
       "      <td>0</td>\n",
       "      <td>F</td>\n",
       "      <td>сотрудник</td>\n",
       "      <td>0</td>\n",
       "      <td>289202.704229</td>\n",
       "      <td>недвижимость</td>\n",
       "    </tr>\n",
       "    <tr>\n",
       "      <th>17</th>\n",
       "      <td>0</td>\n",
       "      <td>-2369.999720</td>\n",
       "      <td>33</td>\n",
       "      <td>высшее</td>\n",
       "      <td>0</td>\n",
       "      <td>гражданский брак</td>\n",
       "      <td>1</td>\n",
       "      <td>M</td>\n",
       "      <td>сотрудник</td>\n",
       "      <td>0</td>\n",
       "      <td>90410.586745</td>\n",
       "      <td>строительство недвижимости</td>\n",
       "    </tr>\n",
       "    <tr>\n",
       "      <th>18</th>\n",
       "      <td>0</td>\n",
       "      <td>400281.136913</td>\n",
       "      <td>53</td>\n",
       "      <td>среднее</td>\n",
       "      <td>1</td>\n",
       "      <td>вдовец / вдова</td>\n",
       "      <td>2</td>\n",
       "      <td>F</td>\n",
       "      <td>пенсионер</td>\n",
       "      <td>0</td>\n",
       "      <td>56823.777243</td>\n",
       "      <td>на покупку подержанного автомобиля</td>\n",
       "    </tr>\n",
       "    <tr>\n",
       "      <th>19</th>\n",
       "      <td>0</td>\n",
       "      <td>-10038.818549</td>\n",
       "      <td>48</td>\n",
       "      <td>СРЕДНЕЕ</td>\n",
       "      <td>1</td>\n",
       "      <td>в разводе</td>\n",
       "      <td>3</td>\n",
       "      <td>F</td>\n",
       "      <td>сотрудник</td>\n",
       "      <td>0</td>\n",
       "      <td>242831.107982</td>\n",
       "      <td>на покупку своего автомобиля</td>\n",
       "    </tr>\n",
       "  </tbody>\n",
       "</table>\n",
       "</div>"
      ],
      "text/plain": [
       "    children  days_employed  dob_years            education  education_id  \\\n",
       "0          1   -8437.673028         42               высшее             0   \n",
       "1          1   -4024.803754         36              среднее             1   \n",
       "2          0   -5623.422610         33              Среднее             1   \n",
       "3          3   -4124.747207         32              среднее             1   \n",
       "4          0  340266.072047         53              среднее             1   \n",
       "5          0    -926.185831         27               высшее             0   \n",
       "6          0   -2879.202052         43               высшее             0   \n",
       "7          0    -152.779569         50              СРЕДНЕЕ             1   \n",
       "8          2   -6929.865299         35               ВЫСШЕЕ             0   \n",
       "9          0   -2188.756445         41              среднее             1   \n",
       "10         2   -4171.483647         36               высшее             0   \n",
       "11         0    -792.701887         40              среднее             1   \n",
       "12         0            NaN         65              среднее             1   \n",
       "13         0   -1846.641941         54  неоконченное высшее             2   \n",
       "14         0   -1844.956182         56               высшее             0   \n",
       "15         1    -972.364419         26              среднее             1   \n",
       "16         0   -1719.934226         35              среднее             1   \n",
       "17         0   -2369.999720         33               высшее             0   \n",
       "18         0  400281.136913         53              среднее             1   \n",
       "19         0  -10038.818549         48              СРЕДНЕЕ             1   \n",
       "\n",
       "       family_status  family_status_id gender income_type  debt  \\\n",
       "0    женат / замужем                 0      F   сотрудник     0   \n",
       "1    женат / замужем                 0      F   сотрудник     0   \n",
       "2    женат / замужем                 0      M   сотрудник     0   \n",
       "3    женат / замужем                 0      M   сотрудник     0   \n",
       "4   гражданский брак                 1      F   пенсионер     0   \n",
       "5   гражданский брак                 1      M   компаньон     0   \n",
       "6    женат / замужем                 0      F   компаньон     0   \n",
       "7    женат / замужем                 0      M   сотрудник     0   \n",
       "8   гражданский брак                 1      F   сотрудник     0   \n",
       "9    женат / замужем                 0      M   сотрудник     0   \n",
       "10   женат / замужем                 0      M   компаньон     0   \n",
       "11   женат / замужем                 0      F   сотрудник     0   \n",
       "12  гражданский брак                 1      M   пенсионер     0   \n",
       "13   женат / замужем                 0      F   сотрудник     0   \n",
       "14  гражданский брак                 1      F   компаньон     1   \n",
       "15   женат / замужем                 0      F   сотрудник     0   \n",
       "16   женат / замужем                 0      F   сотрудник     0   \n",
       "17  гражданский брак                 1      M   сотрудник     0   \n",
       "18    вдовец / вдова                 2      F   пенсионер     0   \n",
       "19         в разводе                 3      F   сотрудник     0   \n",
       "\n",
       "     total_income                                 purpose  \n",
       "0   253875.639453                           покупка жилья  \n",
       "1   112080.014102                 приобретение автомобиля  \n",
       "2   145885.952297                           покупка жилья  \n",
       "3   267628.550329              дополнительное образование  \n",
       "4   158616.077870                         сыграть свадьбу  \n",
       "5   255763.565419                           покупка жилья  \n",
       "6   240525.971920                       операции с жильем  \n",
       "7   135823.934197                             образование  \n",
       "8    95856.832424                   на проведение свадьбы  \n",
       "9   144425.938277                 покупка жилья для семьи  \n",
       "10  113943.491460                    покупка недвижимости  \n",
       "11   77069.234271       покупка коммерческой недвижимости  \n",
       "12            NaN                         сыграть свадьбу  \n",
       "13  130458.228857                 приобретение автомобиля  \n",
       "14  165127.911772              покупка жилой недвижимости  \n",
       "15  116820.904450  строительство собственной недвижимости  \n",
       "16  289202.704229                            недвижимость  \n",
       "17   90410.586745              строительство недвижимости  \n",
       "18   56823.777243      на покупку подержанного автомобиля  \n",
       "19  242831.107982            на покупку своего автомобиля  "
      ]
     },
     "execution_count": 2,
     "metadata": {},
     "output_type": "execute_result"
    }
   ],
   "source": [
    "data.head(20)\n"
   ]
  },
  {
   "cell_type": "markdown",
   "id": "37fb2fb6",
   "metadata": {
    "deletable": false,
    "editable": false,
    "id": "1c12e233"
   },
   "source": [
    "**Задание 3. Выведите основную информацию о датафрейме с помощью метода `info()`.**"
   ]
  },
  {
   "cell_type": "code",
   "execution_count": 3,
   "id": "af5faa39",
   "metadata": {
    "deletable": false,
    "id": "2b757bca",
    "outputId": "15376089-8dad-46c9-b520-c05248d43158"
   },
   "outputs": [
    {
     "name": "stdout",
     "output_type": "stream",
     "text": [
      "<class 'pandas.core.frame.DataFrame'>\n",
      "RangeIndex: 21525 entries, 0 to 21524\n",
      "Data columns (total 12 columns):\n",
      " #   Column            Non-Null Count  Dtype  \n",
      "---  ------            --------------  -----  \n",
      " 0   children          21525 non-null  int64  \n",
      " 1   days_employed     19351 non-null  float64\n",
      " 2   dob_years         21525 non-null  int64  \n",
      " 3   education         21525 non-null  object \n",
      " 4   education_id      21525 non-null  int64  \n",
      " 5   family_status     21525 non-null  object \n",
      " 6   family_status_id  21525 non-null  int64  \n",
      " 7   gender            21525 non-null  object \n",
      " 8   income_type       21525 non-null  object \n",
      " 9   debt              21525 non-null  int64  \n",
      " 10  total_income      19351 non-null  float64\n",
      " 11  purpose           21525 non-null  object \n",
      "dtypes: float64(2), int64(5), object(5)\n",
      "memory usage: 2.0+ MB\n"
     ]
    }
   ],
   "source": [
    "data.info()\n"
   ]
  },
  {
   "cell_type": "markdown",
   "id": "5e1b0420",
   "metadata": {
    "deletable": false,
    "editable": false,
    "id": "333ec665"
   },
   "source": [
    "## Предобработка данных"
   ]
  },
  {
   "cell_type": "markdown",
   "id": "bc880cd2",
   "metadata": {
    "deletable": false,
    "editable": false,
    "id": "02d92d53"
   },
   "source": [
    "### Удаление пропусков"
   ]
  },
  {
   "cell_type": "markdown",
   "id": "8e4c9f56",
   "metadata": {
    "deletable": false,
    "editable": false,
    "id": "cd84967c"
   },
   "source": [
    "**Задание 4. Выведите количество пропущенных значений для каждого столбца. Используйте комбинацию двух методов.**"
   ]
  },
  {
   "cell_type": "code",
   "execution_count": 4,
   "id": "379585e1",
   "metadata": {
    "deletable": false,
    "id": "7f9b2309",
    "outputId": "81f4d817-781c-465c-ed15-91ce4446810d"
   },
   "outputs": [
    {
     "data": {
      "text/plain": [
       "children               0\n",
       "days_employed       2174\n",
       "dob_years              0\n",
       "education              0\n",
       "education_id           0\n",
       "family_status          0\n",
       "family_status_id       0\n",
       "gender                 0\n",
       "income_type            0\n",
       "debt                   0\n",
       "total_income        2174\n",
       "purpose                0\n",
       "dtype: int64"
      ]
     },
     "execution_count": 4,
     "metadata": {},
     "output_type": "execute_result"
    }
   ],
   "source": [
    "data.isna().sum()"
   ]
  },
  {
   "cell_type": "markdown",
   "id": "9edac071",
   "metadata": {
    "deletable": false,
    "editable": false,
    "id": "db86e27b"
   },
   "source": [
    "**Задание 5. В двух столбцах есть пропущенные значения. Один из них — `days_employed`. Пропуски в этом столбце вы обработаете на следующем этапе. Другой столбец с пропущенными значениями — `total_income` — хранит данные о доходах. На сумму дохода сильнее всего влияет тип занятости, поэтому заполнить пропуски в этом столбце нужно медианным значением по каждому типу из столбца `income_type`. Например, у человека с типом занятости `сотрудник` пропуск в столбце `total_income` должен быть заполнен медианным доходом среди всех записей с тем же типом.**"
   ]
  },
  {
   "cell_type": "code",
   "execution_count": 5,
   "id": "9bd37165",
   "metadata": {
    "deletable": false,
    "id": "42006a93"
   },
   "outputs": [],
   "source": [
    "for t in data['income_type'].unique():\n",
    "    data.loc[(data['income_type'] == t) & (data['total_income'].isna()), 'total_income'] = \\\n",
    "    data.loc[(data['income_type'] == t), 'total_income'].median()"
   ]
  },
  {
   "cell_type": "markdown",
   "id": "0a7b88ad",
   "metadata": {
    "deletable": false,
    "editable": false,
    "id": "89da5ece"
   },
   "source": [
    "### Обработка аномальных значений"
   ]
  },
  {
   "cell_type": "markdown",
   "id": "0b46ee89",
   "metadata": {
    "deletable": false,
    "editable": false,
    "id": "57964554"
   },
   "source": [
    "**Задание 6. В данных могут встречаться артефакты (аномалии) — значения, которые не отражают действительность и появились по какой-то ошибке. таким артефактом будет отрицательное количество дней трудового стажа в столбце `days_employed`. Для реальных данных это нормально. Обработайте значения в этом столбце: замените все отрицательные значения положительными с помощью метода `abs()`.**"
   ]
  },
  {
   "cell_type": "code",
   "execution_count": 6,
   "id": "77d4104d",
   "metadata": {
    "deletable": false,
    "id": "f6f055bf"
   },
   "outputs": [],
   "source": [
    "data['days_employed'] = data['days_employed'].abs()"
   ]
  },
  {
   "cell_type": "markdown",
   "id": "55b0474d",
   "metadata": {
    "deletable": false,
    "editable": false,
    "id": "6107dd2f"
   },
   "source": [
    "**Задание 7. Для каждого типа занятости выведите медианное значение трудового стажа `days_employed` в днях.**"
   ]
  },
  {
   "cell_type": "code",
   "execution_count": 7,
   "id": "4263bdd6",
   "metadata": {
    "deletable": false,
    "id": "85a5faf6",
    "outputId": "801ef80e-522b-4668-f34e-565af7432bcf"
   },
   "outputs": [
    {
     "data": {
      "text/plain": [
       "income_type\n",
       "безработный        366413.652744\n",
       "в декрете            3296.759962\n",
       "госслужащий          2689.368353\n",
       "компаньон            1547.382223\n",
       "пенсионер          365213.306266\n",
       "предприниматель       520.848083\n",
       "сотрудник            1574.202821\n",
       "студент               578.751554\n",
       "Name: days_employed, dtype: float64"
      ]
     },
     "execution_count": 7,
     "metadata": {},
     "output_type": "execute_result"
    }
   ],
   "source": [
    "data.groupby('income_type')['days_employed'].agg('median')"
   ]
  },
  {
   "cell_type": "markdown",
   "id": "3807218f",
   "metadata": {
    "deletable": false,
    "editable": false,
    "id": "38d1a030"
   },
   "source": [
    "У двух типов (безработные и пенсионеры) получатся аномально большие значения. Исправить такие значения сложно, поэтому оставьте их как есть. Тем более этот столбец не понадобится вам для исследования."
   ]
  },
  {
   "cell_type": "markdown",
   "id": "0d405944",
   "metadata": {
    "deletable": false,
    "editable": false,
    "id": "d8a9f147"
   },
   "source": [
    "**Задание 8. Выведите перечень уникальных значений столбца `children`.**"
   ]
  },
  {
   "cell_type": "code",
   "execution_count": 8,
   "id": "ee5826a6",
   "metadata": {
    "deletable": false,
    "id": "ef5056eb",
    "outputId": "6975b15c-7f95-4697-d16d-a0c79b657b03"
   },
   "outputs": [
    {
     "data": {
      "text/plain": [
       "array([ 1,  0,  3,  2, -1,  4, 20,  5], dtype=int64)"
      ]
     },
     "execution_count": 8,
     "metadata": {},
     "output_type": "execute_result"
    }
   ],
   "source": [
    "data['children'].unique()"
   ]
  },
  {
   "cell_type": "markdown",
   "id": "aa38d6bc",
   "metadata": {
    "deletable": false,
    "editable": false,
    "id": "40b9ebf2"
   },
   "source": [
    "**Задание 9. В столбце `children` есть два аномальных значения. Удалите строки, в которых встречаются такие аномальные значения из датафрейма `data`.**"
   ]
  },
  {
   "cell_type": "code",
   "execution_count": 9,
   "id": "a9c97ac6",
   "metadata": {
    "deletable": false,
    "id": "3ff9801d"
   },
   "outputs": [],
   "source": [
    "data = data[(data['children'] != -1) & (data['children'] != 20)]"
   ]
  },
  {
   "cell_type": "markdown",
   "id": "e55db978",
   "metadata": {
    "deletable": false,
    "editable": false,
    "id": "bbc4d0ce"
   },
   "source": [
    "**Задание 10. Ещё раз выведите перечень уникальных значений столбца `children`, чтобы убедиться, что артефакты удалены.**"
   ]
  },
  {
   "cell_type": "code",
   "execution_count": 10,
   "id": "05b170ce",
   "metadata": {
    "deletable": false,
    "id": "ad4fa8b7",
    "outputId": "b2097101-d49d-44d9-901b-32a65c9463d1"
   },
   "outputs": [
    {
     "data": {
      "text/plain": [
       "array([1, 0, 3, 2, 4, 5], dtype=int64)"
      ]
     },
     "execution_count": 10,
     "metadata": {},
     "output_type": "execute_result"
    }
   ],
   "source": [
    "data['children'].unique()"
   ]
  },
  {
   "cell_type": "markdown",
   "id": "7173ebd1",
   "metadata": {
    "deletable": false,
    "editable": false,
    "id": "75440b63"
   },
   "source": [
    "### Удаление пропусков (продолжение)"
   ]
  },
  {
   "cell_type": "markdown",
   "id": "acf78910",
   "metadata": {
    "deletable": false,
    "editable": false,
    "id": "f4ea573f"
   },
   "source": [
    "**Задание 11. Заполните пропуски в столбце `days_employed` медианными значениями по каждого типа занятости `income_type`.**"
   ]
  },
  {
   "cell_type": "code",
   "execution_count": 11,
   "id": "4b04f00c",
   "metadata": {
    "deletable": false,
    "id": "af6b1a7e"
   },
   "outputs": [],
   "source": [
    "for t in data['income_type'].unique():\n",
    "    data.loc[(data['income_type'] == t) & (data['days_employed'].isna()), 'days_employed'] = \\\n",
    "    data.loc[(data['income_type'] == t), 'days_employed'].median()"
   ]
  },
  {
   "cell_type": "markdown",
   "id": "1a8fee20",
   "metadata": {
    "deletable": false,
    "editable": false,
    "id": "2753f40d"
   },
   "source": [
    "**Задание 12. Убедитесь, что все пропуски заполнены. Проверьте себя и ещё раз выведите количество пропущенных значений для каждого столбца с помощью двух методов.**"
   ]
  },
  {
   "cell_type": "code",
   "execution_count": 12,
   "id": "3df2e884",
   "metadata": {
    "deletable": false,
    "id": "55f78bc2",
    "outputId": "8da1e4e1-358e-4e87-98c9-f261bce0a7b2"
   },
   "outputs": [
    {
     "data": {
      "text/plain": [
       "children            0\n",
       "days_employed       0\n",
       "dob_years           0\n",
       "education           0\n",
       "education_id        0\n",
       "family_status       0\n",
       "family_status_id    0\n",
       "gender              0\n",
       "income_type         0\n",
       "debt                0\n",
       "total_income        0\n",
       "purpose             0\n",
       "dtype: int64"
      ]
     },
     "execution_count": 12,
     "metadata": {},
     "output_type": "execute_result"
    }
   ],
   "source": [
    "data.isna().sum()"
   ]
  },
  {
   "cell_type": "markdown",
   "id": "ec18164f",
   "metadata": {
    "deletable": false,
    "editable": false,
    "id": "ddc81e43"
   },
   "source": [
    "### Изменение типов данных"
   ]
  },
  {
   "cell_type": "markdown",
   "id": "cf0d370a",
   "metadata": {
    "deletable": false,
    "editable": false,
    "id": "42d19d24"
   },
   "source": [
    "**Задание 13. Замените вещественный тип данных в столбце `total_income` на целочисленный с помощью метода `astype()`.**"
   ]
  },
  {
   "cell_type": "code",
   "execution_count": 13,
   "id": "3106ebf4",
   "metadata": {
    "deletable": false,
    "id": "920b65ad"
   },
   "outputs": [],
   "source": [
    "data['total_income'] = data['total_income'].astype(int)"
   ]
  },
  {
   "cell_type": "markdown",
   "id": "06de5e44",
   "metadata": {
    "deletable": false,
    "editable": false,
    "id": "80c420ba"
   },
   "source": [
    "### Обработка дубликатов"
   ]
  },
  {
   "cell_type": "markdown",
   "id": "9a4c8663",
   "metadata": {
    "deletable": false,
    "editable": false
   },
   "source": [
    "**Задание 14. Обработайте неявные дубликаты в столбце `education`. В этом столбце есть одни и те же значения, но записанные по-разному: с использованием заглавных и строчных букв. Приведите их к нижнему регистру. Проверьте остальные столбцы.**"
   ]
  },
  {
   "cell_type": "code",
   "execution_count": 14,
   "id": "f6cc5f41",
   "metadata": {
    "deletable": false
   },
   "outputs": [],
   "source": [
    "data['education'] = data['education'].str.lower()"
   ]
  },
  {
   "cell_type": "markdown",
   "id": "9cf01428",
   "metadata": {
    "deletable": false,
    "editable": false,
    "id": "dc587695"
   },
   "source": [
    "**Задание 15. Выведите на экран количество строк-дубликатов в данных. Если такие строки присутствуют, удалите их.**"
   ]
  },
  {
   "cell_type": "code",
   "execution_count": 15,
   "id": "8f31bd8e",
   "metadata": {
    "deletable": false,
    "id": "3ee445e4",
    "outputId": "9684deba-1934-42d1-99e1-cda61740f822"
   },
   "outputs": [
    {
     "data": {
      "text/plain": [
       "71"
      ]
     },
     "execution_count": 15,
     "metadata": {},
     "output_type": "execute_result"
    }
   ],
   "source": [
    "data.duplicated().sum()"
   ]
  },
  {
   "cell_type": "code",
   "execution_count": 16,
   "id": "513d9b83",
   "metadata": {
    "deletable": false,
    "id": "8575fe05"
   },
   "outputs": [],
   "source": [
    "data = data.drop_duplicates()"
   ]
  },
  {
   "cell_type": "markdown",
   "id": "690a95f4",
   "metadata": {
    "deletable": false,
    "editable": false,
    "id": "9904cf55"
   },
   "source": [
    "### Категоризация данных"
   ]
  },
  {
   "cell_type": "markdown",
   "id": "7a440b83",
   "metadata": {
    "deletable": false,
    "editable": false,
    "id": "72fcc8a2"
   },
   "source": [
    "**Задание 16. На основании диапазонов, указанных ниже, создайте в датафрейме `data` столбец `total_income_category` с категориями:**\n",
    "\n",
    "- 0–30000 — `'E'`;\n",
    "- 30001–50000 — `'D'`;\n",
    "- 50001–200000 — `'C'`;\n",
    "- 200001–1000000 — `'B'`;\n",
    "- 1000001 и выше — `'A'`.\n",
    "\n",
    "\n",
    "**Например, кредитополучателю с доходом 25000 нужно назначить категорию `'E'`, а клиенту, получающему 235000, — `'B'`. Используйте собственную функцию с именем `categorize_income()` и метод `apply()`.**"
   ]
  },
  {
   "cell_type": "code",
   "execution_count": 17,
   "id": "7afd1ee9",
   "metadata": {
    "deletable": false,
    "id": "e1771346"
   },
   "outputs": [],
   "source": [
    "def categorize_income(income):\n",
    "    try:\n",
    "        if 0 <= income <= 30000:\n",
    "            return 'E'\n",
    "        elif 30001 <= income <= 50000:\n",
    "            return 'D'\n",
    "        elif 50001 <= income <= 200000:\n",
    "            return 'C'\n",
    "        elif 200001 <= income <= 1000000:\n",
    "            return 'B'\n",
    "        elif income >= 1000001:\n",
    "            return 'A'\n",
    "    except:\n",
    "        pass"
   ]
  },
  {
   "cell_type": "code",
   "execution_count": 18,
   "id": "a98e4b22",
   "metadata": {
    "deletable": false,
    "id": "d5f3586d"
   },
   "outputs": [],
   "source": [
    "data['total_income_category'] = data['total_income'].apply(categorize_income)"
   ]
  },
  {
   "cell_type": "markdown",
   "id": "01bf59db",
   "metadata": {
    "deletable": false,
    "editable": false,
    "id": "dde49b5c"
   },
   "source": [
    "**Задание 17. Выведите на экран перечень уникальных целей взятия кредита из столбца `purpose`.**"
   ]
  },
  {
   "cell_type": "code",
   "execution_count": 19,
   "id": "f8a98694",
   "metadata": {
    "deletable": false,
    "id": "f67ce9b3",
    "outputId": "673c12d9-7d7e-4ae0-9812-c622c89dd244"
   },
   "outputs": [
    {
     "data": {
      "text/plain": [
       "array(['покупка жилья', 'приобретение автомобиля',\n",
       "       'дополнительное образование', 'сыграть свадьбу',\n",
       "       'операции с жильем', 'образование', 'на проведение свадьбы',\n",
       "       'покупка жилья для семьи', 'покупка недвижимости',\n",
       "       'покупка коммерческой недвижимости', 'покупка жилой недвижимости',\n",
       "       'строительство собственной недвижимости', 'недвижимость',\n",
       "       'строительство недвижимости', 'на покупку подержанного автомобиля',\n",
       "       'на покупку своего автомобиля',\n",
       "       'операции с коммерческой недвижимостью',\n",
       "       'строительство жилой недвижимости', 'жилье',\n",
       "       'операции со своей недвижимостью', 'автомобили',\n",
       "       'заняться образованием', 'сделка с подержанным автомобилем',\n",
       "       'получение образования', 'автомобиль', 'свадьба',\n",
       "       'получение дополнительного образования', 'покупка своего жилья',\n",
       "       'операции с недвижимостью', 'получение высшего образования',\n",
       "       'свой автомобиль', 'сделка с автомобилем',\n",
       "       'профильное образование', 'высшее образование',\n",
       "       'покупка жилья для сдачи', 'на покупку автомобиля', 'ремонт жилью',\n",
       "       'заняться высшим образованием'], dtype=object)"
      ]
     },
     "execution_count": 19,
     "metadata": {},
     "output_type": "execute_result"
    }
   ],
   "source": [
    "data['purpose'].unique()"
   ]
  },
  {
   "cell_type": "markdown",
   "id": "44bfd675",
   "metadata": {
    "deletable": false,
    "editable": false,
    "id": "85d0aef0"
   },
   "source": [
    "**Задание 18. Создайте функцию, которая на основании данных из столбца `purpose` сформирует новый столбец `purpose_category`, в который войдут следующие категории:**\n",
    "\n",
    "- `'операции с автомобилем'`,\n",
    "- `'операции с недвижимостью'`,\n",
    "- `'проведение свадьбы'`,\n",
    "- `'получение образования'`.\n",
    "\n",
    "**Например, если в столбце `purpose` находится подстрока `'на покупку автомобиля'`, то в столбце `purpose_category` должна появиться строка `'операции с автомобилем'`.**\n",
    "\n",
    "**Используйте собственную функцию с именем `categorize_purpose()` и метод `apply()`. Изучите данные в столбце `purpose` и определите, какие подстроки помогут вам правильно определить категорию.**"
   ]
  },
  {
   "cell_type": "code",
   "execution_count": 20,
   "id": "34e01b69",
   "metadata": {
    "deletable": false,
    "id": "e149fab4"
   },
   "outputs": [],
   "source": [
    "def categorize_purpose(row):\n",
    "    try:\n",
    "        if 'автом' in row:\n",
    "            return 'операции с автомобилем'\n",
    "        elif 'жил' in row or 'недвиж' in row:\n",
    "            return 'операции с недвижимостью'\n",
    "        elif 'свад' in row:\n",
    "            return 'проведение свадьбы'\n",
    "        elif 'образов' in row:\n",
    "            return 'получение образования'\n",
    "    except:\n",
    "        return 'нет категории'"
   ]
  },
  {
   "cell_type": "code",
   "execution_count": 21,
   "id": "472a6b36",
   "metadata": {
    "deletable": false,
    "id": "bf36e69b"
   },
   "outputs": [],
   "source": [
    "data['purpose_category'] = data['purpose'].apply(categorize_purpose)"
   ]
  },
  {
   "cell_type": "markdown",
   "id": "6e59a9aa",
   "metadata": {
    "deletable": false,
    "editable": false,
    "id": "09b242bf"
   },
   "source": [
    "### Шаг 3. Исследуйте данные и ответьте на вопросы"
   ]
  },
  {
   "cell_type": "markdown",
   "id": "5494afb6",
   "metadata": {
    "deletable": false,
    "editable": false,
    "id": "c5d66278"
   },
   "source": [
    "#### 3.1 Есть ли зависимость между количеством детей и возвратом кредита в срок?"
   ]
  },
  {
   "cell_type": "markdown",
   "id": "38352d8b",
   "metadata": {},
   "source": [
    "Для этого найдем отношение фактов задолжности по кредиту к заёмщикам, имеющим разное количество детей."
   ]
  },
  {
   "cell_type": "code",
   "execution_count": 22,
   "id": "a7b3a57e",
   "metadata": {},
   "outputs": [],
   "source": [
    "#Создадим новую таблицу, для сохранения результатов расчета\n",
    "\n",
    "children_relation = pd.DataFrame({'children':[0, 1, 2, 3, 4, 5]})"
   ]
  },
  {
   "cell_type": "markdown",
   "id": "d79466c7",
   "metadata": {},
   "source": [
    "Напишем цикл, который будет принимать уникальные данные по кол-ву детей из исходной таблицы\n",
    "и расчитывать отношение кол-ва задолжностей к заёмщикам с разным кол-вом детей.\n",
    "Результат сохраним в столбце relation, новой таблицы."
   ]
  },
  {
   "cell_type": "code",
   "execution_count": 23,
   "id": "996f3e4f",
   "metadata": {},
   "outputs": [],
   "source": [
    "for ch in data['children'].sort_values().unique():\n",
    "    children_relation.loc[children_relation['children']==ch,'relation'] = \\\n",
    "    data.loc[data['children']==ch]['debt'].sum() / data.loc[data['children']==ch]['children'].count()"
   ]
  },
  {
   "cell_type": "markdown",
   "id": "0380d6eb",
   "metadata": {},
   "source": [
    "Для удобства, переведем значения стобца relation в проценты"
   ]
  },
  {
   "cell_type": "code",
   "execution_count": 24,
   "id": "9de44a0f",
   "metadata": {},
   "outputs": [],
   "source": [
    "children_relation['relation'] = children_relation['relation'].apply(lambda x: format(x, '.2%'))"
   ]
  },
  {
   "cell_type": "code",
   "execution_count": 25,
   "id": "6295f659",
   "metadata": {},
   "outputs": [
    {
     "data": {
      "text/html": [
       "<div>\n",
       "<style scoped>\n",
       "    .dataframe tbody tr th:only-of-type {\n",
       "        vertical-align: middle;\n",
       "    }\n",
       "\n",
       "    .dataframe tbody tr th {\n",
       "        vertical-align: top;\n",
       "    }\n",
       "\n",
       "    .dataframe thead th {\n",
       "        text-align: right;\n",
       "    }\n",
       "</style>\n",
       "<table border=\"1\" class=\"dataframe\">\n",
       "  <thead>\n",
       "    <tr style=\"text-align: right;\">\n",
       "      <th></th>\n",
       "      <th>children</th>\n",
       "      <th>relation</th>\n",
       "    </tr>\n",
       "  </thead>\n",
       "  <tbody>\n",
       "    <tr>\n",
       "      <th>5</th>\n",
       "      <td>5</td>\n",
       "      <td>0.00%</td>\n",
       "    </tr>\n",
       "    <tr>\n",
       "      <th>0</th>\n",
       "      <td>0</td>\n",
       "      <td>7.54%</td>\n",
       "    </tr>\n",
       "    <tr>\n",
       "      <th>3</th>\n",
       "      <td>3</td>\n",
       "      <td>8.18%</td>\n",
       "    </tr>\n",
       "    <tr>\n",
       "      <th>1</th>\n",
       "      <td>1</td>\n",
       "      <td>9.23%</td>\n",
       "    </tr>\n",
       "    <tr>\n",
       "      <th>2</th>\n",
       "      <td>2</td>\n",
       "      <td>9.45%</td>\n",
       "    </tr>\n",
       "    <tr>\n",
       "      <th>4</th>\n",
       "      <td>4</td>\n",
       "      <td>9.76%</td>\n",
       "    </tr>\n",
       "  </tbody>\n",
       "</table>\n",
       "</div>"
      ],
      "text/plain": [
       "   children relation\n",
       "5         5    0.00%\n",
       "0         0    7.54%\n",
       "3         3    8.18%\n",
       "1         1    9.23%\n",
       "2         2    9.45%\n",
       "4         4    9.76%"
      ]
     },
     "metadata": {},
     "output_type": "display_data"
    }
   ],
   "source": [
    "#Выдедем таблицу с результатом расчетов\n",
    "\n",
    "display(children_relation.sort_values(by='relation'))"
   ]
  },
  {
   "cell_type": "markdown",
   "id": "c7e48a05",
   "metadata": {
    "deletable": false,
    "id": "2cacfc4a"
   },
   "source": [
    "Из результатов видно: количество заемщиков с задолжнотью, имеющих одного, **двух или четырех детей** похоже (9.23%, 9.45%, 9.76%). При этом разница между заёмщиками, **не имеющими детей** и заёмщиками **с одним, двумя, четыремя детьми** более 1%. "
   ]
  },
  {
   "cell_type": "markdown",
   "id": "5ffc0dbd",
   "metadata": {
    "deletable": false,
    "id": "3a6b99ec"
   },
   "source": [
    "**Вывод:** Количество детей напрямую не влияет на вылату заёмщиком кредита в срок. Однако заёмщики у которых **нет детей**, чаще не имеют задолжность по кредиту."
   ]
  },
  {
   "cell_type": "markdown",
   "id": "d2b8bd81",
   "metadata": {
    "deletable": false,
    "editable": false,
    "id": "97be82ca"
   },
   "source": [
    "#### 3.2 Есть ли зависимость между семейным положением и возвратом кредита в срок?"
   ]
  },
  {
   "cell_type": "markdown",
   "id": "000e76db",
   "metadata": {},
   "source": [
    "Для этого определим отношение заёмщиков с задолжностью к общему количесту заёмщиков, с разным семейным положением"
   ]
  },
  {
   "cell_type": "code",
   "execution_count": 26,
   "id": "2f9317f2",
   "metadata": {
    "deletable": false,
    "id": "dc3f7ee8"
   },
   "outputs": [],
   "source": [
    "#Создадим новую таблицу для визуализации расчётов \n",
    "family_relation = pd.DataFrame({'family_status':['Не женат / не замужем','в разводе','вдовец / вдова','гражданский брак',\n",
    " 'женат / замужем']})"
   ]
  },
  {
   "cell_type": "markdown",
   "id": "7fefd65d",
   "metadata": {},
   "source": [
    "Напишем цикл, принимающий количество заёмщиков по их семейному положению.\n",
    "И найдем отношение заёмщиков с задолжностью к общему кол-ву заёмщиков по семейному положению.\n",
    "Добавим результат в столбец relation."
   ]
  },
  {
   "cell_type": "code",
   "execution_count": 27,
   "id": "fe798274",
   "metadata": {},
   "outputs": [],
   "source": [
    "for fam in data['family_status'].sort_values().unique():\n",
    "    family_relation.loc[family_relation['family_status']==fam,'relation'] = \\\n",
    "    data.loc[data['family_status']==fam]['debt'].sum() / data.loc[data['family_status']==fam]['family_status'].count()"
   ]
  },
  {
   "cell_type": "markdown",
   "id": "098adf43",
   "metadata": {},
   "source": [
    "Для удобства переведём результат в проценты"
   ]
  },
  {
   "cell_type": "code",
   "execution_count": 28,
   "id": "cd4ebc34",
   "metadata": {},
   "outputs": [],
   "source": [
    "family_relation['relation'] = family_relation['relation'].apply(lambda x: format(x, '.2%'))"
   ]
  },
  {
   "cell_type": "code",
   "execution_count": 29,
   "id": "498dca4a",
   "metadata": {},
   "outputs": [
    {
     "data": {
      "text/html": [
       "<div>\n",
       "<style scoped>\n",
       "    .dataframe tbody tr th:only-of-type {\n",
       "        vertical-align: middle;\n",
       "    }\n",
       "\n",
       "    .dataframe tbody tr th {\n",
       "        vertical-align: top;\n",
       "    }\n",
       "\n",
       "    .dataframe thead th {\n",
       "        text-align: right;\n",
       "    }\n",
       "</style>\n",
       "<table border=\"1\" class=\"dataframe\">\n",
       "  <thead>\n",
       "    <tr style=\"text-align: right;\">\n",
       "      <th></th>\n",
       "      <th>family_status</th>\n",
       "      <th>relation</th>\n",
       "    </tr>\n",
       "  </thead>\n",
       "  <tbody>\n",
       "    <tr>\n",
       "      <th>2</th>\n",
       "      <td>вдовец / вдова</td>\n",
       "      <td>6.62%</td>\n",
       "    </tr>\n",
       "    <tr>\n",
       "      <th>1</th>\n",
       "      <td>в разводе</td>\n",
       "      <td>7.06%</td>\n",
       "    </tr>\n",
       "    <tr>\n",
       "      <th>4</th>\n",
       "      <td>женат / замужем</td>\n",
       "      <td>7.56%</td>\n",
       "    </tr>\n",
       "    <tr>\n",
       "      <th>3</th>\n",
       "      <td>гражданский брак</td>\n",
       "      <td>9.31%</td>\n",
       "    </tr>\n",
       "    <tr>\n",
       "      <th>0</th>\n",
       "      <td>Не женат / не замужем</td>\n",
       "      <td>9.76%</td>\n",
       "    </tr>\n",
       "  </tbody>\n",
       "</table>\n",
       "</div>"
      ],
      "text/plain": [
       "           family_status relation\n",
       "2         вдовец / вдова    6.62%\n",
       "1              в разводе    7.06%\n",
       "4        женат / замужем    7.56%\n",
       "3       гражданский брак    9.31%\n",
       "0  Не женат / не замужем    9.76%"
      ]
     },
     "metadata": {},
     "output_type": "display_data"
    }
   ],
   "source": [
    "#Выведем таблицу с результатом расчётов \n",
    "display(family_relation.sort_values(by='relation'))"
   ]
  },
  {
   "cell_type": "markdown",
   "id": "082d2c9b",
   "metadata": {},
   "source": [
    "По результатам видно: заёмщики со статусами **вдовец / вдова, в разводе, женат / замужем** реже имеют задолжности по кредиту, в отличие от заёмщиков с статусом **Не женат / не замужем**."
   ]
  },
  {
   "cell_type": "markdown",
   "id": "db77d1fc",
   "metadata": {
    "deletable": false,
    "id": "1cef7837"
   },
   "source": [
    "**Вывод:** Семейное положение влияет на возврат кредита в срок. Среди заёмщиков со стасум **Не женат / не замужем** значительно чаще встречаются задолжности по кредиту, чем у заёмщиков со статусом **женат / замужем** (разница 2.2%)."
   ]
  },
  {
   "cell_type": "markdown",
   "id": "ffbcbfb3",
   "metadata": {
    "deletable": false,
    "editable": false,
    "id": "1e8b2fca"
   },
   "source": [
    "#### 3.3 Есть ли зависимость между уровнем дохода и возвратом кредита в срок?"
   ]
  },
  {
   "cell_type": "markdown",
   "id": "aa0d00e3",
   "metadata": {},
   "source": [
    "Для этого необходимо узнать отношение заёмщиков с задолжностью по кредиту к общему количеству заёмщиков, с разным доходом."
   ]
  },
  {
   "cell_type": "code",
   "execution_count": 30,
   "id": "edd8dd1b",
   "metadata": {
    "deletable": false,
    "id": "cd7e3720"
   },
   "outputs": [],
   "source": [
    "# Создадим новую таблицу для визуализации результатов\n",
    "\n",
    "income_relation = pd.DataFrame({'total_income':['более 1000001', 'от 200001 до 1000000', 'от 50001 до 200000', \\\n",
    "                                                'от 30001 до 50000','менее 30000'],\n",
    "                               'category':['A', 'B', 'C', 'D', 'E']})"
   ]
  },
  {
   "cell_type": "markdown",
   "id": "0df20e4e",
   "metadata": {},
   "source": [
    "Напишем цикл, который будет принимать уникальное кол-во заёмщиков, по категориям доходов\n",
    "и находить отношение заёмщиков с задолжностью, к общему кол-ву заёмщиков."
   ]
  },
  {
   "cell_type": "code",
   "execution_count": 31,
   "id": "ed57a451",
   "metadata": {},
   "outputs": [],
   "source": [
    "for inc in data['total_income_category'].sort_values().unique():\n",
    "    income_relation.loc[income_relation['category']==inc,'relation'] = \\\n",
    "    data.loc[data['total_income_category']==inc]['debt'].sum() \\\n",
    "    / data.loc[data['total_income_category']==inc]['total_income_category'].count()"
   ]
  },
  {
   "cell_type": "markdown",
   "id": "1c5a6098",
   "metadata": {},
   "source": [
    "Для удобства переведём резутат в проценты"
   ]
  },
  {
   "cell_type": "code",
   "execution_count": 32,
   "id": "400b1842",
   "metadata": {},
   "outputs": [],
   "source": [
    "income_relation['relation'] = income_relation['relation'].apply(lambda x: format(x, '.2%'))"
   ]
  },
  {
   "cell_type": "code",
   "execution_count": 33,
   "id": "f7bdc74e",
   "metadata": {},
   "outputs": [
    {
     "data": {
      "text/html": [
       "<div>\n",
       "<style scoped>\n",
       "    .dataframe tbody tr th:only-of-type {\n",
       "        vertical-align: middle;\n",
       "    }\n",
       "\n",
       "    .dataframe tbody tr th {\n",
       "        vertical-align: top;\n",
       "    }\n",
       "\n",
       "    .dataframe thead th {\n",
       "        text-align: right;\n",
       "    }\n",
       "</style>\n",
       "<table border=\"1\" class=\"dataframe\">\n",
       "  <thead>\n",
       "    <tr style=\"text-align: right;\">\n",
       "      <th></th>\n",
       "      <th>total_income</th>\n",
       "      <th>category</th>\n",
       "      <th>relation</th>\n",
       "    </tr>\n",
       "  </thead>\n",
       "  <tbody>\n",
       "    <tr>\n",
       "      <th>3</th>\n",
       "      <td>от 30001 до 50000</td>\n",
       "      <td>D</td>\n",
       "      <td>6.02%</td>\n",
       "    </tr>\n",
       "    <tr>\n",
       "      <th>1</th>\n",
       "      <td>от 200001 до 1000000</td>\n",
       "      <td>B</td>\n",
       "      <td>7.06%</td>\n",
       "    </tr>\n",
       "    <tr>\n",
       "      <th>0</th>\n",
       "      <td>более 1000001</td>\n",
       "      <td>A</td>\n",
       "      <td>8.00%</td>\n",
       "    </tr>\n",
       "    <tr>\n",
       "      <th>2</th>\n",
       "      <td>от 50001 до 200000</td>\n",
       "      <td>C</td>\n",
       "      <td>8.50%</td>\n",
       "    </tr>\n",
       "    <tr>\n",
       "      <th>4</th>\n",
       "      <td>менее 30000</td>\n",
       "      <td>E</td>\n",
       "      <td>9.09%</td>\n",
       "    </tr>\n",
       "  </tbody>\n",
       "</table>\n",
       "</div>"
      ],
      "text/plain": [
       "           total_income category relation\n",
       "3     от 30001 до 50000        D    6.02%\n",
       "1  от 200001 до 1000000        B    7.06%\n",
       "0         более 1000001        A    8.00%\n",
       "2    от 50001 до 200000        C    8.50%\n",
       "4           менее 30000        E    9.09%"
      ]
     },
     "metadata": {},
     "output_type": "display_data"
    }
   ],
   "source": [
    "#Выведем таблицу с результатми\n",
    "display(income_relation.sort_values(by='relation'))"
   ]
  },
  {
   "cell_type": "markdown",
   "id": "102e541d",
   "metadata": {},
   "source": [
    "По таблице видно: среди заёмщиков, с зарплатой **менее 30 000** больше всего просрочек по кредиту. Заёмщики же с зарплатой **от 30 000 до 50 000** реже имеют задолжности по кредиту."
   ]
  },
  {
   "cell_type": "markdown",
   "id": "e9577a6a",
   "metadata": {
    "deletable": false,
    "id": "e8593def"
   },
   "source": [
    "**Вывод:** Уровень дохода влияет на факт возврата кредита в срок. Среди заёмщиков с уровнем дохода **менее 30 000** больший процент задолжностей по кредиту. В отличие от заёмщиков с доходом **от 30 000 до 50 000**, среди них процент задолжностей на 3% меньше. "
   ]
  },
  {
   "cell_type": "markdown",
   "id": "d4dae688",
   "metadata": {
    "deletable": false,
    "editable": false,
    "id": "99ecbd1f"
   },
   "source": [
    "#### 3.4 Как разные цели кредита влияют на его возврат в срок?"
   ]
  },
  {
   "cell_type": "markdown",
   "id": "9e47c479",
   "metadata": {},
   "source": [
    "Для этого получим отношение заёмщиков по категориям причин получерия кредита к общему количеству заемщиков по этим категориям."
   ]
  },
  {
   "cell_type": "code",
   "execution_count": 34,
   "id": "98913445",
   "metadata": {
    "deletable": false,
    "id": "2b687290"
   },
   "outputs": [],
   "source": [
    "# Создадим новую таблицу для вычислений\n",
    "purpose_relation = pd.DataFrame({'category':['операции с автомобилем', 'операции с недвижимостью', \\\n",
    "                                             'получение образования', 'проведение свадьбы']})"
   ]
  },
  {
   "cell_type": "markdown",
   "id": "9024eaa0",
   "metadata": {},
   "source": [
    "Необходимо создать цикл, который будет принимать на вход количество заёмщиков с задолжностью\n",
    "по уникальным категориям причин получения кредитаи найти их отношщение к общему кол-ву заёмщиков по этим категориям."
   ]
  },
  {
   "cell_type": "code",
   "execution_count": 35,
   "id": "ae38cefc",
   "metadata": {},
   "outputs": [],
   "source": [
    "for pur in data['purpose_category'].sort_values().unique():\n",
    "    purpose_relation.loc[purpose_relation['category']==pur,'relation'] = \\\n",
    "    data.loc[data['purpose_category']==pur]['debt'].sum() \\\n",
    "    / data.loc[data['purpose_category']==pur]['purpose_category'].count()"
   ]
  },
  {
   "cell_type": "markdown",
   "id": "d8ae99e5",
   "metadata": {},
   "source": [
    "Для удобства переведём результат в проценты"
   ]
  },
  {
   "cell_type": "code",
   "execution_count": 36,
   "id": "3c65ea19",
   "metadata": {},
   "outputs": [],
   "source": [
    "purpose_relation['relation'] = purpose_relation['relation'].apply(lambda x: format(x, '.2%'))"
   ]
  },
  {
   "cell_type": "code",
   "execution_count": 37,
   "id": "2bab54a8",
   "metadata": {},
   "outputs": [
    {
     "data": {
      "text/html": [
       "<div>\n",
       "<style scoped>\n",
       "    .dataframe tbody tr th:only-of-type {\n",
       "        vertical-align: middle;\n",
       "    }\n",
       "\n",
       "    .dataframe tbody tr th {\n",
       "        vertical-align: top;\n",
       "    }\n",
       "\n",
       "    .dataframe thead th {\n",
       "        text-align: right;\n",
       "    }\n",
       "</style>\n",
       "<table border=\"1\" class=\"dataframe\">\n",
       "  <thead>\n",
       "    <tr style=\"text-align: right;\">\n",
       "      <th></th>\n",
       "      <th>category</th>\n",
       "      <th>relation</th>\n",
       "    </tr>\n",
       "  </thead>\n",
       "  <tbody>\n",
       "    <tr>\n",
       "      <th>1</th>\n",
       "      <td>операции с недвижимостью</td>\n",
       "      <td>7.26%</td>\n",
       "    </tr>\n",
       "    <tr>\n",
       "      <th>3</th>\n",
       "      <td>проведение свадьбы</td>\n",
       "      <td>7.91%</td>\n",
       "    </tr>\n",
       "    <tr>\n",
       "      <th>2</th>\n",
       "      <td>получение образования</td>\n",
       "      <td>9.25%</td>\n",
       "    </tr>\n",
       "    <tr>\n",
       "      <th>0</th>\n",
       "      <td>операции с автомобилем</td>\n",
       "      <td>9.35%</td>\n",
       "    </tr>\n",
       "  </tbody>\n",
       "</table>\n",
       "</div>"
      ],
      "text/plain": [
       "                   category relation\n",
       "1  операции с недвижимостью    7.26%\n",
       "3        проведение свадьбы    7.91%\n",
       "2     получение образования    9.25%\n",
       "0    операции с автомобилем    9.35%"
      ]
     },
     "metadata": {},
     "output_type": "display_data"
    }
   ],
   "source": [
    "#Выведем таблицу с вычислениями\n",
    "display(purpose_relation.sort_values(by='relation'))"
   ]
  },
  {
   "cell_type": "markdown",
   "id": "e321782b",
   "metadata": {},
   "source": [
    "Из таблицы с вычислениями видно: заёмщики, которые берут кредит **операции с недвижимостью** и **проведение свадьбы** имеют меньший процент задолжностей, в отличие от заёмщиков с причиной получения кредита **операции с автомобилем** и **получение образования**(разница между ними в среднем ~ 1%)"
   ]
  },
  {
   "cell_type": "markdown",
   "id": "b972de0b",
   "metadata": {
    "deletable": false,
    "id": "b4bb2ce6"
   },
   "source": [
    "**Вывод:** Цели кредита по-разному влияют на факт выплаты кредита в срок. Среди заёмщиков, берущих кредит на **получение образования** и **операции с автомобилем** реже встречаются факты просрочки погашения кредита."
   ]
  },
  {
   "cell_type": "markdown",
   "id": "f9afd7ba",
   "metadata": {
    "deletable": false,
    "editable": false,
    "id": "09c3ac4c"
   },
   "source": [
    "#### 3.5 Приведите возможные причины появления пропусков в исходных данных."
   ]
  },
  {
   "cell_type": "markdown",
   "id": "e92eeefa",
   "metadata": {
    "deletable": false,
    "id": "9da2ceda"
   },
   "source": [
    "*Ответ:* Пропуски в исходных данных были в стобцах **days_employed — общий трудовой стаж в днях** и **total_income — ежемесячный доход**, они могут быть связаны с отсутвием информации от самих заёмщмков или ошибкой сотрудников, заполняющих анкеты для заёмщмков. Так же данные могли быть утеряны, при переносе их в другое хранилище или при их первичной обратотке."
   ]
  },
  {
   "cell_type": "markdown",
   "id": "c4677082",
   "metadata": {},
   "source": [
    "В исходной таблице пропущены значения в стобцах **days_employed — общий трудовой стаж в днях** и **total_income — ежемесячный доход** в одинаковых строчках и одикакое количество (2174). Вероятнее всего это означает безработных заёмщмиков. У них соответственно нет трудового стажа и дохода. "
   ]
  },
  {
   "cell_type": "markdown",
   "id": "ba2ae953",
   "metadata": {
    "deletable": false,
    "editable": false,
    "id": "7b0487d6"
   },
   "source": [
    "#### 3.6 Объясните, почему заполнить пропуски медианным значением — лучшее решение для количественных переменных."
   ]
  },
  {
   "cell_type": "markdown",
   "id": "8e79a887",
   "metadata": {
    "deletable": false,
    "id": "7ecf2b8e"
   },
   "source": [
    "*Ответ:* Количественные переменные в данных могут имень большую разницу между значениями, поэтому заполнять пропуски средним значением в таких данных некорректно. Среднее значение будет сильно зависеть от максимального и минимального значения. "
   ]
  },
  {
   "cell_type": "markdown",
   "id": "514a8aef",
   "metadata": {
    "deletable": false,
    "editable": false,
    "id": "6db5255a"
   },
   "source": [
    "### Шаг 4: общий вывод."
   ]
  },
  {
   "cell_type": "markdown",
   "id": "ab208e09",
   "metadata": {},
   "source": [
    "#### Мы рассмотрели данные и смогли ответить на вопросы о зависимости выплаты кредита в срок у разных заёмщиков."
   ]
  },
  {
   "cell_type": "markdown",
   "id": "be99a3f4",
   "metadata": {
    "deletable": false,
    "id": "bad65432"
   },
   "source": [
    "**Количество детей:**\n"
   ]
  },
  {
   "cell_type": "markdown",
   "id": "97e1a67d",
   "metadata": {},
   "source": [
    "Заёмщики, **не имеющие детей**, значительно реже имеют задолжности по выплате кредита, в отличие от заёмщиков, **имеющих детей**(кол-во детей незначительно влияет на факт выплаты кредита в срок)."
   ]
  },
  {
   "cell_type": "markdown",
   "id": "ccc5600b",
   "metadata": {},
   "source": [
    "**Семейное положение:**"
   ]
  },
  {
   "cell_type": "markdown",
   "id": "9ac3aa0c",
   "metadata": {},
   "source": [
    "Среди заёмщиков с семейным статусом **женат / замужем** меньшее количество задолжностей по кредиту, чем у заёмщиков с статусом **Не женат / не замужем** наибольший процент просрочек по кредиту. Так же наименьшее кол-во просрочек, среди заёмщиков с статусом **вдовец / вдова**, **в разводе**."
   ]
  },
  {
   "cell_type": "markdown",
   "id": "d0d75354",
   "metadata": {},
   "source": [
    "**Уровень дохода:**"
   ]
  },
  {
   "cell_type": "markdown",
   "id": "cc31ce99",
   "metadata": {},
   "source": [
    "Наиболее активно возвращают кредит заёмщики с доходом **от 30 000 до 50 000**, в отличие от заёмщиков с доходом **менее 30 000**(среди них наибольший процент задолжности по кредиту)"
   ]
  },
  {
   "cell_type": "markdown",
   "id": "224f50f6",
   "metadata": {},
   "source": [
    "**Цели кредита:**"
   ]
  },
  {
   "cell_type": "markdown",
   "id": "00455293",
   "metadata": {},
   "source": [
    "Заёмщики с целями **операции с недвижимостью** и **проведение свадьбы** имеют меньший процент задолжностей по кредиту, а вот заёмщики с целями **получение образования** и **операции с автомобилем** имеют наибольший процент фактов задолжноти по кредиту.\t"
   ]
  },
  {
   "cell_type": "markdown",
   "id": "dbfb3da5",
   "metadata": {},
   "source": [
    "**Результаты исследования можно использовать для построения модели *кредитного скоринга* и уточнения критериев способности потенциального заёмщика вернуть дегьги банку.**"
   ]
  }
 ],
 "metadata": {
  "ExecuteTimeLog": [
   {
    "duration": 415,
    "start_time": "2022-12-01T18:24:49.641Z"
   },
   {
    "duration": 23,
    "start_time": "2022-12-01T18:25:27.310Z"
   },
   {
    "duration": 15,
    "start_time": "2022-12-01T18:25:32.821Z"
   },
   {
    "duration": 10,
    "start_time": "2022-12-01T18:25:37.258Z"
   },
   {
    "duration": 43,
    "start_time": "2022-12-01T18:25:57.819Z"
   },
   {
    "duration": 3,
    "start_time": "2022-12-01T18:26:00.098Z"
   },
   {
    "duration": 8,
    "start_time": "2022-12-01T18:26:13.420Z"
   },
   {
    "duration": 4,
    "start_time": "2022-12-01T18:26:22.833Z"
   },
   {
    "duration": 56,
    "start_time": "2022-12-02T11:06:32.990Z"
   },
   {
    "duration": 717,
    "start_time": "2022-12-02T11:06:41.398Z"
   },
   {
    "duration": 22,
    "start_time": "2022-12-02T11:06:43.347Z"
   },
   {
    "duration": 14,
    "start_time": "2022-12-02T11:07:29.008Z"
   },
   {
    "duration": 11,
    "start_time": "2022-12-02T11:07:33.304Z"
   },
   {
    "duration": 33,
    "start_time": "2022-12-02T11:07:35.776Z"
   },
   {
    "duration": 5,
    "start_time": "2022-12-02T11:07:38.553Z"
   },
   {
    "duration": 9,
    "start_time": "2022-12-02T11:07:40.522Z"
   },
   {
    "duration": 5,
    "start_time": "2022-12-02T11:07:51.907Z"
   },
   {
    "duration": 7,
    "start_time": "2022-12-02T11:07:54.464Z"
   },
   {
    "duration": 5,
    "start_time": "2022-12-02T11:07:56.474Z"
   },
   {
    "duration": 33,
    "start_time": "2022-12-02T11:08:03.586Z"
   },
   {
    "duration": 15,
    "start_time": "2022-12-02T11:08:07.666Z"
   },
   {
    "duration": 4,
    "start_time": "2022-12-02T11:08:10.265Z"
   },
   {
    "duration": 11,
    "start_time": "2022-12-02T11:08:12.484Z"
   },
   {
    "duration": 20,
    "start_time": "2022-12-02T11:08:14.845Z"
   },
   {
    "duration": 18,
    "start_time": "2022-12-02T11:08:16.483Z"
   },
   {
    "duration": 4,
    "start_time": "2022-12-02T11:08:22.325Z"
   },
   {
    "duration": 16,
    "start_time": "2022-12-02T11:08:23.755Z"
   },
   {
    "duration": 7,
    "start_time": "2022-12-02T11:08:26.120Z"
   },
   {
    "duration": 3,
    "start_time": "2022-12-02T11:08:34.049Z"
   },
   {
    "duration": 13,
    "start_time": "2022-12-02T11:08:35.853Z"
   },
   {
    "duration": 535,
    "start_time": "2022-12-03T09:22:12.473Z"
   },
   {
    "duration": 23,
    "start_time": "2022-12-03T09:22:13.010Z"
   },
   {
    "duration": 30,
    "start_time": "2022-12-03T09:22:13.034Z"
   },
   {
    "duration": 14,
    "start_time": "2022-12-03T09:22:13.068Z"
   },
   {
    "duration": 35,
    "start_time": "2022-12-03T09:22:13.084Z"
   },
   {
    "duration": 6,
    "start_time": "2022-12-03T09:22:13.121Z"
   },
   {
    "duration": 37,
    "start_time": "2022-12-03T09:22:13.129Z"
   },
   {
    "duration": 4,
    "start_time": "2022-12-03T09:22:13.167Z"
   },
   {
    "duration": 11,
    "start_time": "2022-12-03T09:22:13.173Z"
   },
   {
    "duration": 4,
    "start_time": "2022-12-03T09:22:13.186Z"
   },
   {
    "duration": 35,
    "start_time": "2022-12-03T09:22:13.192Z"
   },
   {
    "duration": 29,
    "start_time": "2022-12-03T09:22:13.228Z"
   },
   {
    "duration": 7,
    "start_time": "2022-12-03T09:22:13.259Z"
   },
   {
    "duration": 15,
    "start_time": "2022-12-03T09:22:13.269Z"
   },
   {
    "duration": 21,
    "start_time": "2022-12-03T09:22:13.286Z"
   },
   {
    "duration": 17,
    "start_time": "2022-12-03T09:22:13.308Z"
   },
   {
    "duration": 4,
    "start_time": "2022-12-03T09:22:13.327Z"
   },
   {
    "duration": 36,
    "start_time": "2022-12-03T09:22:13.333Z"
   },
   {
    "duration": 12,
    "start_time": "2022-12-03T09:22:13.371Z"
   },
   {
    "duration": 3,
    "start_time": "2022-12-03T09:22:13.385Z"
   },
   {
    "duration": 11,
    "start_time": "2022-12-03T09:22:13.390Z"
   },
   {
    "duration": 7,
    "start_time": "2022-12-03T09:22:13.403Z"
   },
   {
    "duration": 46,
    "start_time": "2022-12-03T09:22:13.412Z"
   },
   {
    "duration": 4,
    "start_time": "2022-12-03T09:22:13.464Z"
   },
   {
    "duration": 10,
    "start_time": "2022-12-03T09:22:13.470Z"
   },
   {
    "duration": 9,
    "start_time": "2022-12-03T09:22:13.481Z"
   },
   {
    "duration": 47,
    "start_time": "2022-12-03T09:22:13.492Z"
   },
   {
    "duration": 4,
    "start_time": "2022-12-03T09:22:13.542Z"
   },
   {
    "duration": 23,
    "start_time": "2022-12-03T09:22:13.550Z"
   },
   {
    "duration": 5,
    "start_time": "2022-12-03T09:22:13.574Z"
   },
   {
    "duration": 60,
    "start_time": "2022-12-03T09:22:13.580Z"
   },
   {
    "duration": 14,
    "start_time": "2022-12-03T09:22:13.650Z"
   },
   {
    "duration": 11,
    "start_time": "2022-12-03T09:22:13.666Z"
   },
   {
    "duration": 5,
    "start_time": "2022-12-03T09:22:13.679Z"
   },
   {
    "duration": 41,
    "start_time": "2022-12-03T09:22:13.685Z"
   },
   {
    "duration": 4,
    "start_time": "2022-12-03T09:22:13.728Z"
   },
   {
    "duration": 31,
    "start_time": "2022-12-03T09:22:13.734Z"
   },
   {
    "duration": 534,
    "start_time": "2022-12-04T17:14:18.983Z"
   },
   {
    "duration": 23,
    "start_time": "2022-12-04T17:14:21.312Z"
   },
   {
    "duration": 5,
    "start_time": "2022-12-04T17:15:51.210Z"
   },
   {
    "duration": 5,
    "start_time": "2022-12-04T17:17:06.692Z"
   },
   {
    "duration": 4,
    "start_time": "2022-12-04T17:17:15.069Z"
   },
   {
    "duration": 62,
    "start_time": "2022-12-04T17:17:26.229Z"
   },
   {
    "duration": 14,
    "start_time": "2022-12-04T17:17:42.275Z"
   },
   {
    "duration": 12,
    "start_time": "2022-12-04T17:19:22.030Z"
   },
   {
    "duration": 7,
    "start_time": "2022-12-04T17:19:29.290Z"
   },
   {
    "duration": 10,
    "start_time": "2022-12-04T17:19:47.487Z"
   },
   {
    "duration": 7,
    "start_time": "2022-12-04T17:21:28.600Z"
   },
   {
    "duration": 7,
    "start_time": "2022-12-04T17:22:06.039Z"
   },
   {
    "duration": 3,
    "start_time": "2022-12-04T17:23:28.636Z"
   },
   {
    "duration": 8,
    "start_time": "2022-12-04T17:23:41.448Z"
   },
   {
    "duration": 10,
    "start_time": "2022-12-04T17:24:22.664Z"
   },
   {
    "duration": 11,
    "start_time": "2022-12-04T17:25:01.569Z"
   },
   {
    "duration": 11,
    "start_time": "2022-12-04T17:25:38.292Z"
   },
   {
    "duration": 67,
    "start_time": "2022-12-04T17:26:11.360Z"
   },
   {
    "duration": 5,
    "start_time": "2022-12-04T17:26:17.089Z"
   },
   {
    "duration": 17,
    "start_time": "2022-12-04T17:26:49.581Z"
   },
   {
    "duration": 5,
    "start_time": "2022-12-04T17:27:42.229Z"
   },
   {
    "duration": 4,
    "start_time": "2022-12-04T17:28:12.753Z"
   },
   {
    "duration": 6,
    "start_time": "2022-12-04T17:28:35.340Z"
   },
   {
    "duration": 17,
    "start_time": "2022-12-04T17:28:54.793Z"
   },
   {
    "duration": 68,
    "start_time": "2022-12-04T17:29:31.721Z"
   },
   {
    "duration": 13,
    "start_time": "2022-12-04T17:29:33.405Z"
   },
   {
    "duration": 17,
    "start_time": "2022-12-04T17:29:39.995Z"
   },
   {
    "duration": 9,
    "start_time": "2022-12-04T17:29:43.042Z"
   },
   {
    "duration": 36,
    "start_time": "2022-12-04T17:29:43.666Z"
   },
   {
    "duration": 3,
    "start_time": "2022-12-04T17:29:47.156Z"
   },
   {
    "duration": 7,
    "start_time": "2022-12-04T17:29:47.619Z"
   },
   {
    "duration": 5,
    "start_time": "2022-12-04T17:29:48.228Z"
   },
   {
    "duration": 23,
    "start_time": "2022-12-04T17:29:48.591Z"
   },
   {
    "duration": 4,
    "start_time": "2022-12-04T17:29:48.983Z"
   },
   {
    "duration": 31,
    "start_time": "2022-12-04T17:29:49.564Z"
   },
   {
    "duration": 9,
    "start_time": "2022-12-04T17:29:49.934Z"
   },
   {
    "duration": 4,
    "start_time": "2022-12-04T17:29:50.545Z"
   },
   {
    "duration": 11,
    "start_time": "2022-12-04T17:29:51.145Z"
   },
   {
    "duration": 19,
    "start_time": "2022-12-04T17:29:51.624Z"
   },
   {
    "duration": 24,
    "start_time": "2022-12-04T17:29:51.915Z"
   },
   {
    "duration": 3,
    "start_time": "2022-12-04T17:29:52.763Z"
   },
   {
    "duration": 10,
    "start_time": "2022-12-04T17:29:53.020Z"
   },
   {
    "duration": 6,
    "start_time": "2022-12-04T17:29:53.550Z"
   },
   {
    "duration": 3,
    "start_time": "2022-12-04T17:29:53.988Z"
   },
   {
    "duration": 8,
    "start_time": "2022-12-04T17:29:54.178Z"
   },
   {
    "duration": 3,
    "start_time": "2022-12-04T17:29:54.939Z"
   },
   {
    "duration": 23,
    "start_time": "2022-12-04T17:29:55.306Z"
   },
   {
    "duration": 3,
    "start_time": "2022-12-04T17:29:55.692Z"
   },
   {
    "duration": 6,
    "start_time": "2022-12-04T17:29:55.885Z"
   },
   {
    "duration": 4,
    "start_time": "2022-12-04T17:29:57.543Z"
   },
   {
    "duration": 40,
    "start_time": "2022-12-04T17:29:58.001Z"
   },
   {
    "duration": 5,
    "start_time": "2022-12-04T17:29:58.451Z"
   },
   {
    "duration": 7,
    "start_time": "2022-12-04T17:29:59.027Z"
   },
   {
    "duration": 3,
    "start_time": "2022-12-04T17:29:59.936Z"
   },
   {
    "duration": 37,
    "start_time": "2022-12-04T17:30:00.593Z"
   },
   {
    "duration": 4,
    "start_time": "2022-12-04T17:30:01.334Z"
   },
   {
    "duration": 8,
    "start_time": "2022-12-04T17:30:01.548Z"
   },
   {
    "duration": 3,
    "start_time": "2022-12-04T17:30:03.650Z"
   },
   {
    "duration": 33,
    "start_time": "2022-12-04T17:30:04.755Z"
   },
   {
    "duration": 3,
    "start_time": "2022-12-04T17:30:05.434Z"
   },
   {
    "duration": 6,
    "start_time": "2022-12-04T17:30:05.808Z"
   },
   {
    "duration": 13,
    "start_time": "2022-12-04T17:31:05.078Z"
   },
   {
    "duration": 22,
    "start_time": "2022-12-04T17:31:12.575Z"
   },
   {
    "duration": 3,
    "start_time": "2022-12-04T17:31:57.313Z"
   },
   {
    "duration": 91,
    "start_time": "2022-12-04T17:32:01.598Z"
   },
   {
    "duration": 77,
    "start_time": "2022-12-04T17:35:35.226Z"
   },
   {
    "duration": 83,
    "start_time": "2022-12-04T17:35:46.616Z"
   },
   {
    "duration": 94,
    "start_time": "2022-12-04T17:35:57.369Z"
   },
   {
    "duration": 3,
    "start_time": "2022-12-04T17:36:11.387Z"
   },
   {
    "duration": 71,
    "start_time": "2022-12-04T17:36:11.876Z"
   },
   {
    "duration": 1123,
    "start_time": "2022-12-04T17:36:12.200Z"
   },
   {
    "duration": 0,
    "start_time": "2022-12-04T17:36:13.325Z"
   },
   {
    "duration": 40,
    "start_time": "2022-12-04T17:36:32.267Z"
   },
   {
    "duration": 4,
    "start_time": "2022-12-04T17:39:18.892Z"
   },
   {
    "duration": 8,
    "start_time": "2022-12-04T17:39:22.255Z"
   },
   {
    "duration": 36,
    "start_time": "2022-12-04T17:39:42.522Z"
   },
   {
    "duration": 4,
    "start_time": "2022-12-04T17:40:31.996Z"
   },
   {
    "duration": 34,
    "start_time": "2022-12-04T17:40:36.027Z"
   },
   {
    "duration": 4,
    "start_time": "2022-12-04T17:40:39.455Z"
   },
   {
    "duration": 8,
    "start_time": "2022-12-04T17:40:40.698Z"
   },
   {
    "duration": 3,
    "start_time": "2022-12-04T17:41:08.094Z"
   },
   {
    "duration": 86,
    "start_time": "2022-12-04T17:41:17.027Z"
   },
   {
    "duration": 34,
    "start_time": "2022-12-04T17:41:29.952Z"
   },
   {
    "duration": 4,
    "start_time": "2022-12-04T17:41:32.676Z"
   },
   {
    "duration": 7,
    "start_time": "2022-12-04T17:41:34.610Z"
   },
   {
    "duration": 83,
    "start_time": "2022-12-04T17:45:44.645Z"
   },
   {
    "duration": 70,
    "start_time": "2022-12-04T17:45:58.200Z"
   },
   {
    "duration": 92,
    "start_time": "2022-12-04T17:46:11.173Z"
   },
   {
    "duration": 68,
    "start_time": "2022-12-04T17:49:10.869Z"
   },
   {
    "duration": 15,
    "start_time": "2022-12-04T17:49:11.171Z"
   },
   {
    "duration": 16,
    "start_time": "2022-12-04T17:49:11.447Z"
   },
   {
    "duration": 11,
    "start_time": "2022-12-04T17:49:12.064Z"
   },
   {
    "duration": 49,
    "start_time": "2022-12-04T17:49:12.398Z"
   },
   {
    "duration": 5,
    "start_time": "2022-12-04T17:49:12.864Z"
   },
   {
    "duration": 8,
    "start_time": "2022-12-04T17:49:13.174Z"
   },
   {
    "duration": 5,
    "start_time": "2022-12-04T17:49:13.661Z"
   },
   {
    "duration": 6,
    "start_time": "2022-12-04T17:49:13.999Z"
   },
   {
    "duration": 6,
    "start_time": "2022-12-04T17:49:14.318Z"
   },
   {
    "duration": 57,
    "start_time": "2022-12-04T17:49:14.804Z"
   },
   {
    "duration": 16,
    "start_time": "2022-12-04T17:49:15.131Z"
   },
   {
    "duration": 5,
    "start_time": "2022-12-04T17:49:15.655Z"
   },
   {
    "duration": 18,
    "start_time": "2022-12-04T17:49:16.185Z"
   },
   {
    "duration": 17,
    "start_time": "2022-12-04T17:49:16.530Z"
   },
   {
    "duration": 15,
    "start_time": "2022-12-04T17:49:16.710Z"
   },
   {
    "duration": 4,
    "start_time": "2022-12-04T17:49:17.257Z"
   },
   {
    "duration": 12,
    "start_time": "2022-12-04T17:49:17.437Z"
   },
   {
    "duration": 6,
    "start_time": "2022-12-04T17:49:17.801Z"
   },
   {
    "duration": 4,
    "start_time": "2022-12-04T17:49:18.172Z"
   },
   {
    "duration": 8,
    "start_time": "2022-12-04T17:49:18.348Z"
   },
   {
    "duration": 4,
    "start_time": "2022-12-04T17:49:19.127Z"
   },
   {
    "duration": 24,
    "start_time": "2022-12-04T17:49:19.522Z"
   },
   {
    "duration": 4,
    "start_time": "2022-12-04T17:49:19.889Z"
   },
   {
    "duration": 7,
    "start_time": "2022-12-04T17:49:20.104Z"
   },
   {
    "duration": 4,
    "start_time": "2022-12-04T17:49:22.936Z"
   },
   {
    "duration": 37,
    "start_time": "2022-12-04T17:49:23.485Z"
   },
   {
    "duration": 3,
    "start_time": "2022-12-04T17:49:23.898Z"
   },
   {
    "duration": 7,
    "start_time": "2022-12-04T17:49:24.112Z"
   },
   {
    "duration": 4,
    "start_time": "2022-12-04T17:49:25.427Z"
   },
   {
    "duration": 62,
    "start_time": "2022-12-04T17:49:26.128Z"
   },
   {
    "duration": 5,
    "start_time": "2022-12-04T17:49:26.881Z"
   },
   {
    "duration": 12,
    "start_time": "2022-12-04T17:49:27.135Z"
   },
   {
    "duration": 4,
    "start_time": "2022-12-04T17:49:28.727Z"
   },
   {
    "duration": 37,
    "start_time": "2022-12-04T17:49:29.400Z"
   },
   {
    "duration": 3,
    "start_time": "2022-12-04T17:49:29.851Z"
   },
   {
    "duration": 8,
    "start_time": "2022-12-04T17:49:30.078Z"
   }
  ],
  "colab": {
   "name": "dpp_template_part2.ipynb",
   "provenance": []
  },
  "kernelspec": {
   "display_name": "Python 3 (ipykernel)",
   "language": "python",
   "name": "python3"
  },
  "language_info": {
   "codemirror_mode": {
    "name": "ipython",
    "version": 3
   },
   "file_extension": ".py",
   "mimetype": "text/x-python",
   "name": "python",
   "nbconvert_exporter": "python",
   "pygments_lexer": "ipython3",
   "version": "3.9.13"
  },
  "toc": {
   "base_numbering": 1,
   "nav_menu": {},
   "number_sections": true,
   "sideBar": true,
   "skip_h1_title": true,
   "title_cell": "Table of Contents",
   "title_sidebar": "Contents",
   "toc_cell": false,
   "toc_position": {},
   "toc_section_display": true,
   "toc_window_display": true
  }
 },
 "nbformat": 4,
 "nbformat_minor": 5
}
